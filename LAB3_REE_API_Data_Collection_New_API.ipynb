{
 "cells": [
  {
   "cell_type": "markdown",
   "metadata": {},
   "source": [
    "# Part I : Data Collection - REE API"
   ]
  },
  {
   "cell_type": "markdown",
   "metadata": {},
   "source": [
    "The objective of this session is to understand how data can be retrieved from specific sources as REE API.\n",
    "\n",
    "To do so, we will use `requests` library and `json` libraries for Python. These libraries are very famous and common python libraries to deal with http request and json file serialization.\n",
    "\n",
    "Later on, we will use specific libraries for plotting as `matplotlib` and `datetime`."
   ]
  },
  {
   "cell_type": "code",
   "execution_count": 14,
   "metadata": {},
   "outputs": [],
   "source": [
    "# import requests library\n",
    "import requests \n",
    "import json\n",
    "# import plotting library\n",
    "import matplotlib\n",
    "import matplotlib.pyplot as plt \n",
    "from datetime import date, datetime, timedelta\n"
   ]
  },
  {
   "cell_type": "markdown",
   "metadata": {},
   "source": [
    "### Create the request"
   ]
  },
  {
   "cell_type": "markdown",
   "metadata": {},
   "source": [
    "As we have seen before, when we work with APIs, we have to know and hold the URL of the exposed **endpoint** of the server where the information we want is stored. We have to start writing the whole http request to be made. Following concepts explained in class, this will include: an http method, the desired endpoint, headers and parameters.\n",
    "Reading the available API documentation (mandatory) available here https://www.ree.es/es/apidatos you can understand that only GET request can be done.\n",
    "\n",
    "Let's therefore write in our script the desired headers/parameters.\n",
    "We need to write also the folder/section we want to access. Note that we can have the same endpoint but different sections from where to get the information. \n",
    "\n",
    "Most of the times, we need to add some headers to our requests that are required to get the information. The most important one is the **Authorization**, which corresponds to our ID to access that API. \n",
    "\n",
    "The following code is created only to facilitate the process of the API request generation. Endpoints, archives and headers are always provided in the API documentation, which have to be read."
   ]
  },
  {
   "cell_type": "code",
   "execution_count": 19,
   "metadata": {},
   "outputs": [],
   "source": [
    "endpoint = 'https://apidatos.ree.es'\n",
    "\n",
    "get_archives = '/en/datos/mercados/precios-mercados-tiempo-real'\n",
    "\n",
    "headers = {'Accept': 'application/json',\n",
    "           'Content-Type': 'application/json',\n",
    "           'Host': 'apidatos.ree.es'}\n",
    "\n",
    "params = {'start_date': '2021-11-01T00:00', 'end_date': '2021-11-02T00:00', 'time_trunc':'hour'}"
   ]
  },
  {
   "cell_type": "markdown",
   "metadata": {},
   "source": [
    "We are now looking at data regarding the **precios-mercados-tiempo-real** (look at the request archive above). We will find out what this archives contains once we have transferred the data.\n"
   ]
  },
  {
   "cell_type": "markdown",
   "metadata": {},
   "source": [
    "We can write now the request according to the `requests` library and its `get` method. That is how you create a GET HTTP method with this library, which is very intuitive and easy to use."
   ]
  },
  {
   "cell_type": "code",
   "execution_count": 20,
   "metadata": {},
   "outputs": [],
   "source": [
    "response = requests.get(endpoint+get_archives, headers=headers, params=params)"
   ]
  },
  {
   "cell_type": "markdown",
   "metadata": {},
   "source": [
    "After that, we can check if the request is correct or not according to the response we get from the API. "
   ]
  },
  {
   "cell_type": "code",
   "execution_count": 21,
   "metadata": {},
   "outputs": [
    {
     "data": {
      "text/plain": [
       "<Response [200]>"
      ]
     },
     "execution_count": 21,
     "metadata": {},
     "output_type": "execute_result"
    }
   ],
   "source": [
    "response"
   ]
  },
  {
   "cell_type": "markdown",
   "metadata": {},
   "source": [
    "In this case, the response we get is **200**, meaning that is has been accepted and the connection is established. \n",
    "There are different codes that tell us which is our connection status between us and the API. Please, have a look yourself at the possible outcomes of http request. "
   ]
  },
  {
   "cell_type": "code",
   "execution_count": 22,
   "metadata": {
    "scrolled": true
   },
   "outputs": [
    {
     "name": "stdout",
     "output_type": "stream",
     "text": [
      "Connection is established\n"
     ]
    }
   ],
   "source": [
    "status = response.status_code\n",
    "\n",
    "#Check the status code\n",
    "if status < 200:\n",
    "    print('informational')\n",
    "    # If the status code is 200, treat the information.\n",
    "elif status >= 200 and status < 300:\n",
    "    print('Connection is established')\n",
    "    #okBehavior(response) # runs the function to get list of archives\n",
    "elif status >= 300 and status < 400:\n",
    "    print('redirection')\n",
    "elif status >= 400 and status < 500:\n",
    "    print('client error')\n",
    "else:\n",
    "    print('server error')"
   ]
  },
  {
   "cell_type": "markdown",
   "metadata": {},
   "source": [
    "### Access the data"
   ]
  },
  {
   "cell_type": "markdown",
   "metadata": {},
   "source": [
    "The data are sent under the form of a json file. By calling the `json` method on the request object, we can access and store the transferred data. Have a look at all the IDs available for us to obtain data. "
   ]
  },
  {
   "cell_type": "code",
   "execution_count": 23,
   "metadata": {},
   "outputs": [],
   "source": [
    "# accessing data by means of a json object\n",
    "data_json = response.json()"
   ]
  },
  {
   "cell_type": "code",
   "execution_count": 24,
   "metadata": {},
   "outputs": [
    {
     "data": {
      "text/plain": [
       "{'data': {'type': 'Precios mercado peninsular en tiempo real',\n",
       "  'id': 'mer13',\n",
       "  'attributes': {'title': 'Precios mercado peninsular en tiempo real',\n",
       "   'last-update': '2023-05-19T08:50:06.000+02:00',\n",
       "   'description': None},\n",
       "  'meta': {'cache-control': {'cache': 'MISS'}}},\n",
       " 'included': [{'type': 'PVPC',\n",
       "   'id': '1001',\n",
       "   'groupId': None,\n",
       "   'attributes': {'title': 'PVPC',\n",
       "    'description': None,\n",
       "    'color': '#ffcf09',\n",
       "    'type': None,\n",
       "    'magnitude': 'price',\n",
       "    'composite': False,\n",
       "    'last-update': '2023-05-19T08:50:06.000+02:00',\n",
       "    'values': [{'value': 116.38,\n",
       "      'percentage': 0.5974025974025974,\n",
       "      'datetime': '2021-11-01T00:00:00.000+01:00'},\n",
       "     {'value': 90.29,\n",
       "      'percentage': 0.6211902304781561,\n",
       "      'datetime': '2021-11-01T01:00:00.000+01:00'},\n",
       "     {'value': 78.75,\n",
       "      'percentage': 0.6419662509170946,\n",
       "      'datetime': '2021-11-01T02:00:00.000+01:00'},\n",
       "     {'value': 55.28,\n",
       "      'percentage': 0.7148583990689255,\n",
       "      'datetime': '2021-11-01T03:00:00.000+01:00'},\n",
       "     {'value': 48.11,\n",
       "      'percentage': 0.7623197591506893,\n",
       "      'datetime': '2021-11-01T04:00:00.000+01:00'},\n",
       "     {'value': 78.37,\n",
       "      'percentage': 0.6560354930520677,\n",
       "      'datetime': '2021-11-01T05:00:00.000+01:00'},\n",
       "     {'value': 96.4,\n",
       "      'percentage': 0.6231818475661,\n",
       "      'datetime': '2021-11-01T06:00:00.000+01:00'},\n",
       "     {'value': 115.06,\n",
       "      'percentage': 0.5974039460020768,\n",
       "      'datetime': '2021-11-01T07:00:00.000+01:00'},\n",
       "     {'value': 126.32,\n",
       "      'percentage': 0.5871798447450378,\n",
       "      'datetime': '2021-11-01T08:00:00.000+01:00'},\n",
       "     {'value': 120.93,\n",
       "      'percentage': 0.5860431306033438,\n",
       "      'datetime': '2021-11-01T09:00:00.000+01:00'},\n",
       "     {'value': 112.4,\n",
       "      'percentage': 0.574642126789366,\n",
       "      'datetime': '2021-11-01T10:00:00.000+01:00'},\n",
       "     {'value': 106.24,\n",
       "      'percentage': 0.5756705499864535,\n",
       "      'datetime': '2021-11-01T11:00:00.000+01:00'},\n",
       "     {'value': 106.85,\n",
       "      'percentage': 0.5749878921595006,\n",
       "      'datetime': '2021-11-01T12:00:00.000+01:00'},\n",
       "     {'value': 97.26,\n",
       "      'percentage': 0.5793423874195854,\n",
       "      'datetime': '2021-11-01T13:00:00.000+01:00'},\n",
       "     {'value': 85.58,\n",
       "      'percentage': 0.586485745614035,\n",
       "      'datetime': '2021-11-01T14:00:00.000+01:00'},\n",
       "     {'value': 99.64,\n",
       "      'percentage': 0.5805173619202983,\n",
       "      'datetime': '2021-11-01T15:00:00.000+01:00'},\n",
       "     {'value': 118.75,\n",
       "      'percentage': 0.5828220858895705,\n",
       "      'datetime': '2021-11-01T16:00:00.000+01:00'},\n",
       "     {'value': 172.94,\n",
       "      'percentage': 0.5618035928921807,\n",
       "      'datetime': '2021-11-01T17:00:00.000+01:00'},\n",
       "     {'value': 226.97,\n",
       "      'percentage': 0.553625875064029,\n",
       "      'datetime': '2021-11-01T18:00:00.000+01:00'},\n",
       "     {'value': 220.7,\n",
       "      'percentage': 0.5509236145781328,\n",
       "      'datetime': '2021-11-01T19:00:00.000+01:00'},\n",
       "     {'value': 201.86,\n",
       "      'percentage': 0.5531320217021976,\n",
       "      'datetime': '2021-11-01T20:00:00.000+01:00'},\n",
       "     {'value': 189.16,\n",
       "      'percentage': 0.5552587548067045,\n",
       "      'datetime': '2021-11-01T21:00:00.000+01:00'},\n",
       "     {'value': 186.51,\n",
       "      'percentage': 0.5586138732478735,\n",
       "      'datetime': '2021-11-01T22:00:00.000+01:00'},\n",
       "     {'value': 173.15,\n",
       "      'percentage': 0.562084077260185,\n",
       "      'datetime': '2021-11-01T23:00:00.000+01:00'},\n",
       "     {'value': 150.42,\n",
       "      'percentage': 0.5751539020380071,\n",
       "      'datetime': '2021-11-02T00:00:00.000+01:00'}]}},\n",
       "  {'type': 'Spot market price',\n",
       "   'id': '600',\n",
       "   'groupId': None,\n",
       "   'attributes': {'title': 'Spot market price',\n",
       "    'description': None,\n",
       "    'color': '#df4a32',\n",
       "    'type': None,\n",
       "    'magnitude': 'price',\n",
       "    'composite': False,\n",
       "    'last-update': '2021-11-01T14:01:13.000+01:00',\n",
       "    'values': [{'value': 78.43,\n",
       "      'percentage': 0.4025974025974026,\n",
       "      'datetime': '2021-11-01T00:00:00.000+01:00'},\n",
       "     {'value': 55.06,\n",
       "      'percentage': 0.3788097695218438,\n",
       "      'datetime': '2021-11-01T01:00:00.000+01:00'},\n",
       "     {'value': 43.92,\n",
       "      'percentage': 0.35803374908290536,\n",
       "      'datetime': '2021-11-01T02:00:00.000+01:00'},\n",
       "     {'value': 22.05,\n",
       "      'percentage': 0.28514160093107466,\n",
       "      'datetime': '2021-11-01T03:00:00.000+01:00'},\n",
       "     {'value': 15,\n",
       "      'percentage': 0.23768024084931072,\n",
       "      'datetime': '2021-11-01T04:00:00.000+01:00'},\n",
       "     {'value': 41.09,\n",
       "      'percentage': 0.34396450694793235,\n",
       "      'datetime': '2021-11-01T05:00:00.000+01:00'},\n",
       "     {'value': 58.29,\n",
       "      'percentage': 0.37681815243390004,\n",
       "      'datetime': '2021-11-01T06:00:00.000+01:00'},\n",
       "     {'value': 77.54,\n",
       "      'percentage': 0.40259605399792314,\n",
       "      'datetime': '2021-11-01T07:00:00.000+01:00'},\n",
       "     {'value': 88.81,\n",
       "      'percentage': 0.41282015525496213,\n",
       "      'datetime': '2021-11-01T08:00:00.000+01:00'},\n",
       "     {'value': 85.42,\n",
       "      'percentage': 0.4139568693966561,\n",
       "      'datetime': '2021-11-01T09:00:00.000+01:00'},\n",
       "     {'value': 83.2,\n",
       "      'percentage': 0.4253578732106339,\n",
       "      'datetime': '2021-11-01T10:00:00.000+01:00'},\n",
       "     {'value': 78.31,\n",
       "      'percentage': 0.42432945001354644,\n",
       "      'datetime': '2021-11-01T11:00:00.000+01:00'},\n",
       "     {'value': 78.98,\n",
       "      'percentage': 0.4250121078404994,\n",
       "      'datetime': '2021-11-01T12:00:00.000+01:00'},\n",
       "     {'value': 70.62,\n",
       "      'percentage': 0.4206576125804146,\n",
       "      'datetime': '2021-11-01T13:00:00.000+01:00'},\n",
       "     {'value': 60.34,\n",
       "      'percentage': 0.4135142543859649,\n",
       "      'datetime': '2021-11-01T14:00:00.000+01:00'},\n",
       "     {'value': 72,\n",
       "      'percentage': 0.4194826380797017,\n",
       "      'datetime': '2021-11-01T15:00:00.000+01:00'},\n",
       "     {'value': 85,\n",
       "      'percentage': 0.4171779141104294,\n",
       "      'datetime': '2021-11-01T16:00:00.000+01:00'},\n",
       "     {'value': 134.89,\n",
       "      'percentage': 0.4381964071078192,\n",
       "      'datetime': '2021-11-01T17:00:00.000+01:00'},\n",
       "     {'value': 183,\n",
       "      'percentage': 0.4463741249359709,\n",
       "      'datetime': '2021-11-01T18:00:00.000+01:00'},\n",
       "     {'value': 179.9,\n",
       "      'percentage': 0.4490763854218672,\n",
       "      'datetime': '2021-11-01T19:00:00.000+01:00'},\n",
       "     {'value': 163.08,\n",
       "      'percentage': 0.44686797829780234,\n",
       "      'datetime': '2021-11-01T20:00:00.000+01:00'},\n",
       "     {'value': 151.51,\n",
       "      'percentage': 0.4447412451932956,\n",
       "      'datetime': '2021-11-01T21:00:00.000+01:00'},\n",
       "     {'value': 147.37,\n",
       "      'percentage': 0.4413861267521265,\n",
       "      'datetime': '2021-11-01T22:00:00.000+01:00'},\n",
       "     {'value': 134.9,\n",
       "      'percentage': 0.43791592273981494,\n",
       "      'datetime': '2021-11-01T23:00:00.000+01:00'},\n",
       "     {'value': 111.11,\n",
       "      'percentage': 0.4248460979619929,\n",
       "      'datetime': '2021-11-02T00:00:00.000+01:00'}]}}]}"
      ]
     },
     "execution_count": 24,
     "metadata": {},
     "output_type": "execute_result"
    }
   ],
   "source": [
    "data_json"
   ]
  },
  {
   "cell_type": "code",
   "execution_count": null,
   "metadata": {},
   "outputs": [],
   "source": [
    "# We want to use the PVPC price because that is the final price that the user pays. The spot price is just the market price and isn't actually the one that people pay "
   ]
  },
  {
   "cell_type": "markdown",
   "metadata": {},
   "source": [
    "For a better visualization of the json content, you can use this tool (https://jsonformatter.curiousconcept.com). This helps in understanding the structure of the json file and access the desired data.\n",
    "You can find out using the suggested tool that the response to the request contain the desired substructures."
   ]
  },
  {
   "cell_type": "markdown",
   "metadata": {},
   "source": [
    "The **data** struct contains meta-data about your request.\n",
    "The **included** struct contains the actual data. \n",
    "This contains 2 additional substructure:\n",
    "    \n",
    "    - **PVPC** or Voluntary price for the small consumer - Precio Voluntario Pequeno Consumidor (€/MWh)\n",
    "    - \"Precio mercado spot\" or **Spot market price** (€/MWh)\n",
    "\n",
    "- PVPC is the price of energy for the REGULATED market\n",
    "- Spot market price is the price of energy for the FREE market\n",
    "\n",
    "Let's try to extract both. \n",
    "\n",
    "NB: The spot market price can be also called the \"Day-Ahead Market\" price (DAM) which is contracted the same day for the next one. Prices are defined for each hour.\n",
    "\n",
    "To access the actual values it is needed to access some more substructures (\"attributes\" and \"values\")"
   ]
  },
  {
   "cell_type": "code",
   "execution_count": 25,
   "metadata": {},
   "outputs": [],
   "source": [
    "pvpc_data = data_json['included'][0]\n",
    "spot_market_data = data_json['included'][1]\n",
    "\n",
    "pvpc_values = pvpc_data['attributes']['values']\n",
    "spot_values = spot_market_data['attributes']['values']\n"
   ]
  },
  {
   "cell_type": "markdown",
   "metadata": {},
   "source": [
    "### Store the data on local variables"
   ]
  },
  {
   "cell_type": "markdown",
   "metadata": {},
   "source": [
    "Let's focus on the spot market price first."
   ]
  },
  {
   "cell_type": "code",
   "execution_count": 26,
   "metadata": {},
   "outputs": [
    {
     "data": {
      "text/plain": [
       "[{'value': 78.43,\n",
       "  'percentage': 0.4025974025974026,\n",
       "  'datetime': '2021-11-01T00:00:00.000+01:00'},\n",
       " {'value': 55.06,\n",
       "  'percentage': 0.3788097695218438,\n",
       "  'datetime': '2021-11-01T01:00:00.000+01:00'},\n",
       " {'value': 43.92,\n",
       "  'percentage': 0.35803374908290536,\n",
       "  'datetime': '2021-11-01T02:00:00.000+01:00'},\n",
       " {'value': 22.05,\n",
       "  'percentage': 0.28514160093107466,\n",
       "  'datetime': '2021-11-01T03:00:00.000+01:00'},\n",
       " {'value': 15,\n",
       "  'percentage': 0.23768024084931072,\n",
       "  'datetime': '2021-11-01T04:00:00.000+01:00'},\n",
       " {'value': 41.09,\n",
       "  'percentage': 0.34396450694793235,\n",
       "  'datetime': '2021-11-01T05:00:00.000+01:00'},\n",
       " {'value': 58.29,\n",
       "  'percentage': 0.37681815243390004,\n",
       "  'datetime': '2021-11-01T06:00:00.000+01:00'},\n",
       " {'value': 77.54,\n",
       "  'percentage': 0.40259605399792314,\n",
       "  'datetime': '2021-11-01T07:00:00.000+01:00'},\n",
       " {'value': 88.81,\n",
       "  'percentage': 0.41282015525496213,\n",
       "  'datetime': '2021-11-01T08:00:00.000+01:00'},\n",
       " {'value': 85.42,\n",
       "  'percentage': 0.4139568693966561,\n",
       "  'datetime': '2021-11-01T09:00:00.000+01:00'},\n",
       " {'value': 83.2,\n",
       "  'percentage': 0.4253578732106339,\n",
       "  'datetime': '2021-11-01T10:00:00.000+01:00'},\n",
       " {'value': 78.31,\n",
       "  'percentage': 0.42432945001354644,\n",
       "  'datetime': '2021-11-01T11:00:00.000+01:00'},\n",
       " {'value': 78.98,\n",
       "  'percentage': 0.4250121078404994,\n",
       "  'datetime': '2021-11-01T12:00:00.000+01:00'},\n",
       " {'value': 70.62,\n",
       "  'percentage': 0.4206576125804146,\n",
       "  'datetime': '2021-11-01T13:00:00.000+01:00'},\n",
       " {'value': 60.34,\n",
       "  'percentage': 0.4135142543859649,\n",
       "  'datetime': '2021-11-01T14:00:00.000+01:00'},\n",
       " {'value': 72,\n",
       "  'percentage': 0.4194826380797017,\n",
       "  'datetime': '2021-11-01T15:00:00.000+01:00'},\n",
       " {'value': 85,\n",
       "  'percentage': 0.4171779141104294,\n",
       "  'datetime': '2021-11-01T16:00:00.000+01:00'},\n",
       " {'value': 134.89,\n",
       "  'percentage': 0.4381964071078192,\n",
       "  'datetime': '2021-11-01T17:00:00.000+01:00'},\n",
       " {'value': 183,\n",
       "  'percentage': 0.4463741249359709,\n",
       "  'datetime': '2021-11-01T18:00:00.000+01:00'},\n",
       " {'value': 179.9,\n",
       "  'percentage': 0.4490763854218672,\n",
       "  'datetime': '2021-11-01T19:00:00.000+01:00'},\n",
       " {'value': 163.08,\n",
       "  'percentage': 0.44686797829780234,\n",
       "  'datetime': '2021-11-01T20:00:00.000+01:00'},\n",
       " {'value': 151.51,\n",
       "  'percentage': 0.4447412451932956,\n",
       "  'datetime': '2021-11-01T21:00:00.000+01:00'},\n",
       " {'value': 147.37,\n",
       "  'percentage': 0.4413861267521265,\n",
       "  'datetime': '2021-11-01T22:00:00.000+01:00'},\n",
       " {'value': 134.9,\n",
       "  'percentage': 0.43791592273981494,\n",
       "  'datetime': '2021-11-01T23:00:00.000+01:00'},\n",
       " {'value': 111.11,\n",
       "  'percentage': 0.4248460979619929,\n",
       "  'datetime': '2021-11-02T00:00:00.000+01:00'}]"
      ]
     },
     "execution_count": 26,
     "metadata": {},
     "output_type": "execute_result"
    }
   ],
   "source": [
    "spot_values"
   ]
  },
  {
   "cell_type": "markdown",
   "metadata": {},
   "source": [
    "Create local structure in your python environment and fill them with data"
   ]
  },
  {
   "cell_type": "code",
   "execution_count": 27,
   "metadata": {},
   "outputs": [],
   "source": [
    "prices = []\n",
    "times = []"
   ]
  },
  {
   "cell_type": "code",
   "execution_count": 28,
   "metadata": {},
   "outputs": [
    {
     "name": "stdout",
     "output_type": "stream",
     "text": [
      "Spot price at 2021-11-01T00:00:00.000+01:00 is 78.43 €/MWh\n",
      "Spot price at 2021-11-01T01:00:00.000+01:00 is 55.06 €/MWh\n",
      "Spot price at 2021-11-01T02:00:00.000+01:00 is 43.92 €/MWh\n",
      "Spot price at 2021-11-01T03:00:00.000+01:00 is 22.05 €/MWh\n",
      "Spot price at 2021-11-01T04:00:00.000+01:00 is 15 €/MWh\n",
      "Spot price at 2021-11-01T05:00:00.000+01:00 is 41.09 €/MWh\n",
      "Spot price at 2021-11-01T06:00:00.000+01:00 is 58.29 €/MWh\n",
      "Spot price at 2021-11-01T07:00:00.000+01:00 is 77.54 €/MWh\n",
      "Spot price at 2021-11-01T08:00:00.000+01:00 is 88.81 €/MWh\n",
      "Spot price at 2021-11-01T09:00:00.000+01:00 is 85.42 €/MWh\n",
      "Spot price at 2021-11-01T10:00:00.000+01:00 is 83.2 €/MWh\n",
      "Spot price at 2021-11-01T11:00:00.000+01:00 is 78.31 €/MWh\n",
      "Spot price at 2021-11-01T12:00:00.000+01:00 is 78.98 €/MWh\n",
      "Spot price at 2021-11-01T13:00:00.000+01:00 is 70.62 €/MWh\n",
      "Spot price at 2021-11-01T14:00:00.000+01:00 is 60.34 €/MWh\n",
      "Spot price at 2021-11-01T15:00:00.000+01:00 is 72 €/MWh\n",
      "Spot price at 2021-11-01T16:00:00.000+01:00 is 85 €/MWh\n",
      "Spot price at 2021-11-01T17:00:00.000+01:00 is 134.89 €/MWh\n",
      "Spot price at 2021-11-01T18:00:00.000+01:00 is 183 €/MWh\n",
      "Spot price at 2021-11-01T19:00:00.000+01:00 is 179.9 €/MWh\n",
      "Spot price at 2021-11-01T20:00:00.000+01:00 is 163.08 €/MWh\n",
      "Spot price at 2021-11-01T21:00:00.000+01:00 is 151.51 €/MWh\n",
      "Spot price at 2021-11-01T22:00:00.000+01:00 is 147.37 €/MWh\n",
      "Spot price at 2021-11-01T23:00:00.000+01:00 is 134.9 €/MWh\n",
      "Spot price at 2021-11-02T00:00:00.000+01:00 is 111.11 €/MWh\n"
     ]
    }
   ],
   "source": [
    "for data_point in spot_values:\n",
    "    #print(time_period['value'])\n",
    "    prices.append(data_point['value'])\n",
    "    times.append(data_point['datetime'])\n",
    "    print(f\"Spot price at {data_point['datetime']} is {data_point['value']} €/MWh\")"
   ]
  },
  {
   "cell_type": "markdown",
   "metadata": {},
   "source": [
    "Now that is what we have"
   ]
  },
  {
   "cell_type": "code",
   "execution_count": 29,
   "metadata": {},
   "outputs": [
    {
     "data": {
      "text/plain": [
       "[78.43,\n",
       " 55.06,\n",
       " 43.92,\n",
       " 22.05,\n",
       " 15,\n",
       " 41.09,\n",
       " 58.29,\n",
       " 77.54,\n",
       " 88.81,\n",
       " 85.42,\n",
       " 83.2,\n",
       " 78.31,\n",
       " 78.98,\n",
       " 70.62,\n",
       " 60.34,\n",
       " 72,\n",
       " 85,\n",
       " 134.89,\n",
       " 183,\n",
       " 179.9,\n",
       " 163.08,\n",
       " 151.51,\n",
       " 147.37,\n",
       " 134.9,\n",
       " 111.11]"
      ]
     },
     "execution_count": 29,
     "metadata": {},
     "output_type": "execute_result"
    }
   ],
   "source": [
    "prices"
   ]
  },
  {
   "cell_type": "code",
   "execution_count": 30,
   "metadata": {},
   "outputs": [
    {
     "data": {
      "text/plain": [
       "['2021-11-01T00:00:00.000+01:00',\n",
       " '2021-11-01T01:00:00.000+01:00',\n",
       " '2021-11-01T02:00:00.000+01:00',\n",
       " '2021-11-01T03:00:00.000+01:00',\n",
       " '2021-11-01T04:00:00.000+01:00',\n",
       " '2021-11-01T05:00:00.000+01:00',\n",
       " '2021-11-01T06:00:00.000+01:00',\n",
       " '2021-11-01T07:00:00.000+01:00',\n",
       " '2021-11-01T08:00:00.000+01:00',\n",
       " '2021-11-01T09:00:00.000+01:00',\n",
       " '2021-11-01T10:00:00.000+01:00',\n",
       " '2021-11-01T11:00:00.000+01:00',\n",
       " '2021-11-01T12:00:00.000+01:00',\n",
       " '2021-11-01T13:00:00.000+01:00',\n",
       " '2021-11-01T14:00:00.000+01:00',\n",
       " '2021-11-01T15:00:00.000+01:00',\n",
       " '2021-11-01T16:00:00.000+01:00',\n",
       " '2021-11-01T17:00:00.000+01:00',\n",
       " '2021-11-01T18:00:00.000+01:00',\n",
       " '2021-11-01T19:00:00.000+01:00',\n",
       " '2021-11-01T20:00:00.000+01:00',\n",
       " '2021-11-01T21:00:00.000+01:00',\n",
       " '2021-11-01T22:00:00.000+01:00',\n",
       " '2021-11-01T23:00:00.000+01:00',\n",
       " '2021-11-02T00:00:00.000+01:00']"
      ]
     },
     "execution_count": 30,
     "metadata": {},
     "output_type": "execute_result"
    }
   ],
   "source": [
    "times"
   ]
  },
  {
   "cell_type": "markdown",
   "metadata": {},
   "source": [
    "### Plot the spot market price - DAM price"
   ]
  },
  {
   "cell_type": "markdown",
   "metadata": {},
   "source": [
    "For a better plotting experience, it is convenient to have a proper data type. *times* is a list of strings. Actually it contains datetime data so we want to treat it as such. We need to use a python library called *datetime*"
   ]
  },
  {
   "cell_type": "code",
   "execution_count": 31,
   "metadata": {},
   "outputs": [],
   "source": [
    "# Convert each string to datetime object\n",
    "times = [datetime.strptime(date_str, \"%Y-%m-%dT%H:%M:%S.%f%z\") for date_str in times]"
   ]
  },
  {
   "cell_type": "code",
   "execution_count": 32,
   "metadata": {},
   "outputs": [
    {
     "data": {
      "image/png": "[encoded data removed]",
      "text/plain": [
       "<Figure size 2000x1000 with 1 Axes>"
      ]
     },
     "metadata": {},
     "output_type": "display_data"
    }
   ],
   "source": [
    "matplotlib.rc('xtick', labelsize=15)     \n",
    "matplotlib.rc('ytick', labelsize=15)\n",
    "plt.style.use('ggplot')\n",
    "\n",
    "plt.figure(figsize=(20,10))\n",
    "plt.plot(times, prices, 'r', linewidth=1.5, marker='.')\n",
    "plt.title(f\"Spot market prices\", fontsize=20)\n",
    "plt.xlabel('Hour', fontsize=20 )\n",
    "plt.ylabel('Price [€/MWh]', fontsize=20)\n",
    "plt.show()"
   ]
  },
  {
   "cell_type": "markdown",
   "metadata": {},
   "source": [
    "### Changing Dates"
   ]
  },
  {
   "cell_type": "markdown",
   "metadata": {},
   "source": [
    "We could try to change the dates and ask for more recent prices. Let's make a new request, changing the desired parameters:"
   ]
  },
  {
   "cell_type": "code",
   "execution_count": 33,
   "metadata": {},
   "outputs": [],
   "source": [
    "params = {'start_date': '2022-11-01T00:00', 'end_date': '2022-11-15T00:00', 'time_trunc':'hour'}"
   ]
  },
  {
   "cell_type": "code",
   "execution_count": 34,
   "metadata": {},
   "outputs": [],
   "source": [
    "response = requests.get(endpoint+get_archives, headers=headers, params=params)"
   ]
  },
  {
   "cell_type": "code",
   "execution_count": 35,
   "metadata": {},
   "outputs": [
    {
     "data": {
      "text/plain": [
       "<Response [200]>"
      ]
     },
     "execution_count": 35,
     "metadata": {},
     "output_type": "execute_result"
    }
   ],
   "source": [
    "response"
   ]
  },
  {
   "cell_type": "markdown",
   "metadata": {},
   "source": [
    "Let's repeat the process of extracting the data in a new structure (without plotting for brevity)"
   ]
  },
  {
   "cell_type": "code",
   "execution_count": 36,
   "metadata": {},
   "outputs": [],
   "source": [
    "data_json_new = response.json()"
   ]
  },
  {
   "cell_type": "code",
   "execution_count": 37,
   "metadata": {},
   "outputs": [],
   "source": [
    "pvpc_data_new = data_json_new['included'][0]\n",
    "spot_market_data_new = data_json_new['included'][1]\n",
    "\n",
    "pvpc_values_new = pvpc_data_new['attributes']['values']\n",
    "spot_values_new = spot_market_data_new['attributes']['values']"
   ]
  },
  {
   "cell_type": "markdown",
   "metadata": {},
   "source": [
    "Looking again at the spot market price only:"
   ]
  },
  {
   "cell_type": "code",
   "execution_count": 38,
   "metadata": {},
   "outputs": [],
   "source": [
    "prices_new = []\n",
    "times_new = []\n",
    "for data_point in spot_values_new:\n",
    "    prices_new.append(data_point['value'])\n",
    "    times_new.append(data_point['datetime'])"
   ]
  },
  {
   "cell_type": "markdown",
   "metadata": {},
   "source": [
    "Let's plot and compare the new data"
   ]
  },
  {
   "cell_type": "code",
   "execution_count": 39,
   "metadata": {},
   "outputs": [
    {
     "data": {
      "image/png": "[encoded data removed]",
      "text/plain": [
       "<Figure size 2000x1000 with 1 Axes>"
      ]
     },
     "metadata": {},
     "output_type": "display_data"
    }
   ],
   "source": [
    "plt.figure(figsize=(20,10))\n",
    "plt.plot(prices_new, 'r', linewidth=1.5, marker='.')\n",
    "plt.title(f\"Spot market prices\", fontsize=20)\n",
    "plt.xlabel('Hour', fontsize=20 )\n",
    "plt.ylabel('Price [€/MWh]', fontsize=20)\n",
    "plt.show()"
   ]
  },
  {
   "cell_type": "markdown",
   "metadata": {},
   "source": [
    "Let's look for the most updated price signals.\n",
    "We need to use teh python `datetime` library for this. The approach is to generate the actual time in UTC time coordinates and add the desired time step for the analysis. Spot market prices are generated today for tomorrow and are available from 12PM when the market closes. If you are running the code after your 12PM you should be able to see DAM prices for tomorrow.\n",
    "\n",
    "Mind that datetime objects have to be transformed into strings, follwing the required format specified in the parameters of the API documentation, otherwise it will not work."
   ]
  },
  {
   "cell_type": "code",
   "execution_count": 40,
   "metadata": {},
   "outputs": [
    {
     "data": {
      "text/plain": [
       "'2024-11-29T16:28'"
      ]
     },
     "execution_count": 40,
     "metadata": {},
     "output_type": "execute_result"
    }
   ],
   "source": [
    "start_date = datetime.now()\n",
    "end_date = start_date + timedelta(hours=24)             # add one day to see prices for tomorrow\n",
    "# transform into strings with a minute resolution\n",
    "end_date = end_date.strftime('%Y-%m-%dT%H:%M')\n",
    "start_date = start_date.strftime('%Y-%m-%dT%H:%M')\n",
    "# check\n",
    "end_date\n"
   ]
  },
  {
   "cell_type": "code",
   "execution_count": 41,
   "metadata": {},
   "outputs": [
    {
     "data": {
      "text/plain": [
       "'2024-11-28T16:28'"
      ]
     },
     "execution_count": 41,
     "metadata": {},
     "output_type": "execute_result"
    }
   ],
   "source": [
    "start_date"
   ]
  },
  {
   "cell_type": "markdown",
   "metadata": {},
   "source": [
    "Update the parameters of the API request with the new structures"
   ]
  },
  {
   "cell_type": "code",
   "execution_count": 42,
   "metadata": {},
   "outputs": [
    {
     "data": {
      "text/plain": [
       "<Response [200]>"
      ]
     },
     "execution_count": 42,
     "metadata": {},
     "output_type": "execute_result"
    }
   ],
   "source": [
    "params = {'start_date': start_date, 'end_date': end_date, 'time_trunc':'hour'}\n",
    "response = requests.get(endpoint+get_archives, headers=headers, params=params)\n",
    "response"
   ]
  },
  {
   "cell_type": "markdown",
   "metadata": {},
   "source": [
    "Extract values just as before"
   ]
  },
  {
   "cell_type": "code",
   "execution_count": 66,
   "metadata": {},
   "outputs": [
    {
     "data": {
      "text/plain": [
       "{'data': {'type': 'Variation and components',\n",
       "  'id': 'dem2',\n",
       "  'attributes': {'title': 'Variation and components',\n",
       "   'last-update': '2022-11-10T23:24:53.000+01:00',\n",
       "   'description': 'The sum of the components is equal to the percentage variation of the total demand.'},\n",
       "  'meta': {'cache-control': {'cache': 'MISS'}}},\n",
       " 'included': [{'type': 'Working patterns',\n",
       "   'id': '1729',\n",
       "   'groupId': '1',\n",
       "   'attributes': {'title': 'Working patterns',\n",
       "    'description': None,\n",
       "    'color': '#2aa8d4',\n",
       "    'type': None,\n",
       "    'magnitude': None,\n",
       "    'composite': False,\n",
       "    'last-update': '2022-11-10T23:24:53.000+01:00',\n",
       "    'values': [{'value': 1.464,\n",
       "      'percentage': 0.27076012576289993,\n",
       "      'datetime': '2021-11-01T00:00'}]}},\n",
       "  {'type': 'Temperature',\n",
       "   'id': '1730',\n",
       "   'groupId': '1',\n",
       "   'attributes': {'title': 'Temperature',\n",
       "    'description': 'Temperature: a measure of the maximum daily temperatures below or above the winter and summer thresholds respectively, leads to increased demand.',\n",
       "    'color': '#595b60',\n",
       "    'type': None,\n",
       "    'magnitude': None,\n",
       "    'composite': False,\n",
       "    'last-update': '2022-11-15T01:52:25.000+01:00',\n",
       "    'values': [{'value': 2.428,\n",
       "      'percentage': 0.44904753097836136,\n",
       "      'datetime': '2021-11-01T00:00'}]}},\n",
       "  {'type': 'Adjusted demand',\n",
       "   'id': '1731',\n",
       "   'groupId': '1',\n",
       "   'attributes': {'title': 'Adjusted demand',\n",
       "    'description': None,\n",
       "    'color': '#71c5cc',\n",
       "    'type': None,\n",
       "    'magnitude': None,\n",
       "    'composite': False,\n",
       "    'last-update': '2022-11-15T01:52:25.000+01:00',\n",
       "    'values': [{'value': -1.515,\n",
       "      'percentage': 0.28019234325873865,\n",
       "      'datetime': '2021-11-01T00:00'}]}},\n",
       "  {'type': 'Variation in demand',\n",
       "   'id': '1',\n",
       "   'groupId': '1',\n",
       "   'attributes': {'title': 'Variation in demand',\n",
       "    'description': None,\n",
       "    'color': '#2b2e34',\n",
       "    'type': 'Variation in demand',\n",
       "    'magnitude': None,\n",
       "    'composite': True,\n",
       "    'last-update': '2022-11-10T23:24:53.000+01:00',\n",
       "    'values': [{'value': 2.377,\n",
       "      'percentage': 1,\n",
       "      'datetime': '2021-11-01T00:00'}]}}]}"
      ]
     },
     "execution_count": 66,
     "metadata": {},
     "output_type": "execute_result"
    }
   ],
   "source": [
    "data_json = response.json()\n",
    "data_json"
   ]
  },
  {
   "cell_type": "markdown",
   "metadata": {},
   "source": [
    "Let's extract the data we have\n"
   ]
  },
  {
   "cell_type": "code",
   "execution_count": 44,
   "metadata": {},
   "outputs": [
    {
     "name": "stdout",
     "output_type": "stream",
     "text": [
      "Spot market price at 2024-11-28 17:00:00 is 150.4 €/MWh\n"
     ]
    }
   ],
   "source": [
    "spot_price = data_json[\"included\"][1][\"attributes\"][\"values\"][0][\"value\"]\n",
    "time_str = data_json[\"included\"][1][\"attributes\"][\"values\"][0][\"datetime\"]\n",
    "# from string to datetime\n",
    "time = datetime.strptime(time_str[:16], '%Y-%m-%dT%H:%M') \n",
    "print(f\"Spot market price at {time} is {spot_price} €/MWh\")"
   ]
  },
  {
   "cell_type": "code",
   "execution_count": 45,
   "metadata": {},
   "outputs": [
    {
     "name": "stdout",
     "output_type": "stream",
     "text": [
      "Price the final consumer is paying at 2024-11-28 17:00:00 is 209.19 €/MWh\n"
     ]
    }
   ],
   "source": [
    "pvpc = data_json[\"included\"][0][\"attributes\"][\"values\"][0][\"value\"]\n",
    "time_str = data_json[\"included\"][0][\"attributes\"][\"values\"][0][\"datetime\"]\n",
    "# from string to datetime\n",
    "time = datetime.strptime(time_str[:16], '%Y-%m-%dT%H:%M') \n",
    "print(f\"Price the final consumer is paying at {time} is {pvpc} €/MWh\")"
   ]
  },
  {
   "cell_type": "markdown",
   "metadata": {},
   "source": [
    "As you can see there is a big difference between the price settled by the regulator and the price in the free market!"
   ]
  },
  {
   "cell_type": "markdown",
   "metadata": {},
   "source": [
    "**IMPORTANT**: asking dates prior to year 2021 will return partial data only. This is because there is a problem with the API.\n",
    "\n",
    "This changes do happen a lot in APIs, because as said they have their own software development cycle (ciclically need maintaince) and might be subjected to change. Do always check out the API documentation to keep trace of the changes.\n",
    "API are not perfect tools :) and might contain bugs, missing data, and many more..."
   ]
  },
  {
   "cell_type": "markdown",
   "metadata": {},
   "source": [
    "# Part II: Exercize - REE API"
   ]
  },
  {
   "cell_type": "markdown",
   "metadata": {},
   "source": [
    "### Build your own request"
   ]
  },
  {
   "cell_type": "markdown",
   "metadata": {},
   "source": [
    "Looking at the REE API documentation available online, you can see the several information available (called \"widget\").\n",
    "Each widget belong to a category. Pick the one of your interest and try to stream the desired data from the REE API.\n",
    "You would need to set proper parameters for each widget.\n",
    "It is important to have a deep look at the API documentation, looking for the type of information that might be of interest for you.\n",
    "\n",
    "Set your own request parameters here below:"
   ]
  },
  {
   "cell_type": "code",
   "execution_count": 61,
   "metadata": {},
   "outputs": [],
   "source": [
    "endpoint = 'https://apidatos.ree.es'\n",
    "# enter here your desired path to the resource\n",
    "get_archives = '/en/datos/demanda/variacion-componentes'\n",
    "headers = {'Accept': 'application/json',\n",
    "           'Content-Type': 'application/json',\n",
    "           'Host': 'apidatos.ree.es'}\n",
    "params = {'start_date': '2021-11-01T00:00', 'end_date': '2021-11-02T00:00', 'time_trunc':'month'}"
   ]
  },
  {
   "cell_type": "markdown",
   "metadata": {},
   "source": [
    "Now you can make your own request"
   ]
  },
  {
   "cell_type": "code",
   "execution_count": 62,
   "metadata": {},
   "outputs": [],
   "source": [
    "# type code here\n",
    "response = requests.get(endpoint+get_archives, headers=headers, params=params)"
   ]
  },
  {
   "cell_type": "markdown",
   "metadata": {},
   "source": [
    "Check the status of your request"
   ]
  },
  {
   "cell_type": "code",
   "execution_count": 63,
   "metadata": {},
   "outputs": [
    {
     "data": {
      "text/plain": [
       "<Response [200]>"
      ]
     },
     "execution_count": 63,
     "metadata": {},
     "output_type": "execute_result"
    }
   ],
   "source": [
    "# type code here\n",
    "response"
   ]
  },
  {
   "cell_type": "markdown",
   "metadata": {},
   "source": [
    "Problem with your request? meaning any status different than 200.\n",
    "Check the problem related with your request and try to fix it. Use the following:"
   ]
  },
  {
   "cell_type": "markdown",
   "metadata": {},
   "source": [
    "Change parameters accordingly.\n",
    "\n"
   ]
  },
  {
   "cell_type": "markdown",
   "metadata": {},
   "source": [
    "When your connection is succesfully established. Access the data by means of a json object"
   ]
  },
  {
   "cell_type": "code",
   "execution_count": 67,
   "metadata": {},
   "outputs": [
    {
     "data": {
      "text/plain": [
       "{'data': {'type': 'Variation and components',\n",
       "  'id': 'dem2',\n",
       "  'attributes': {'title': 'Variation and components',\n",
       "   'last-update': '2022-11-10T23:24:53.000+01:00',\n",
       "   'description': 'The sum of the components is equal to the percentage variation of the total demand.'},\n",
       "  'meta': {'cache-control': {'cache': 'MISS'}}},\n",
       " 'included': [{'type': 'Working patterns',\n",
       "   'id': '1729',\n",
       "   'groupId': '1',\n",
       "   'attributes': {'title': 'Working patterns',\n",
       "    'description': None,\n",
       "    'color': '#2aa8d4',\n",
       "    'type': None,\n",
       "    'magnitude': None,\n",
       "    'composite': False,\n",
       "    'last-update': '2022-11-10T23:24:53.000+01:00',\n",
       "    'values': [{'value': 1.464,\n",
       "      'percentage': 0.27076012576289993,\n",
       "      'datetime': '2021-11-01T00:00'}]}},\n",
       "  {'type': 'Temperature',\n",
       "   'id': '1730',\n",
       "   'groupId': '1',\n",
       "   'attributes': {'title': 'Temperature',\n",
       "    'description': 'Temperature: a measure of the maximum daily temperatures below or above the winter and summer thresholds respectively, leads to increased demand.',\n",
       "    'color': '#595b60',\n",
       "    'type': None,\n",
       "    'magnitude': None,\n",
       "    'composite': False,\n",
       "    'last-update': '2022-11-15T01:52:25.000+01:00',\n",
       "    'values': [{'value': 2.428,\n",
       "      'percentage': 0.44904753097836136,\n",
       "      'datetime': '2021-11-01T00:00'}]}},\n",
       "  {'type': 'Adjusted demand',\n",
       "   'id': '1731',\n",
       "   'groupId': '1',\n",
       "   'attributes': {'title': 'Adjusted demand',\n",
       "    'description': None,\n",
       "    'color': '#71c5cc',\n",
       "    'type': None,\n",
       "    'magnitude': None,\n",
       "    'composite': False,\n",
       "    'last-update': '2022-11-15T01:52:25.000+01:00',\n",
       "    'values': [{'value': -1.515,\n",
       "      'percentage': 0.28019234325873865,\n",
       "      'datetime': '2021-11-01T00:00'}]}},\n",
       "  {'type': 'Variation in demand',\n",
       "   'id': '1',\n",
       "   'groupId': '1',\n",
       "   'attributes': {'title': 'Variation in demand',\n",
       "    'description': None,\n",
       "    'color': '#2b2e34',\n",
       "    'type': 'Variation in demand',\n",
       "    'magnitude': None,\n",
       "    'composite': True,\n",
       "    'last-update': '2022-11-10T23:24:53.000+01:00',\n",
       "    'values': [{'value': 2.377,\n",
       "      'percentage': 1,\n",
       "      'datetime': '2021-11-01T00:00'}]}}]}"
      ]
     },
     "execution_count": 67,
     "metadata": {},
     "output_type": "execute_result"
    }
   ],
   "source": [
    "json_data = response.json()\n",
    "json_data"
   ]
  },
  {
   "cell_type": "markdown",
   "metadata": {},
   "source": [
    "Store the data in local python structures"
   ]
  },
  {
   "cell_type": "code",
   "execution_count": 69,
   "metadata": {},
   "outputs": [],
   "source": [
    "Working_Patterns = json_data['included'][0]\n",
    "Temperature = json_data['included'][1]\n",
    "Adjusted_demand = json_data['included'][2]\n",
    "Variation_in_demand = json_data['included'][3]\n",
    "\n",
    "Working_Patterns_Values = Working_Patterns['attributes']['values']\n",
    "Temperature_Values = Temperature['attributes']['values']\n",
    "Adjusted_demand_Values = Adjusted_demand['attributes']['values']\n",
    "Variation_in_demand_Values = Variation_in_demand['attributes']['values']\n"
   ]
  },
  {
   "cell_type": "markdown",
   "metadata": {},
   "source": [
    "Print the data for better visualization and analysis"
   ]
  },
  {
   "cell_type": "code",
   "execution_count": null,
   "metadata": {},
   "outputs": [],
   "source": [
    "# type code here\n",
    "\n",
    "# # old code:\n",
    "# prices = []\n",
    "# times = []\n",
    "\n",
    "# for data_point in spot_values:\n",
    "#     #print(time_period['value'])\n",
    "#     prices.append(data_point['value'])\n",
    "#     times.append(data_point['datetime'])\n",
    "#     print(f\"Spot price at {data_point['datetime']} is {data_point['value']} €/MWh\")\n",
    "\n",
    "# # Convert each string to datetime object\n",
    "# times = [datetime.strptime(date_str, \"%Y-%m-%dT%H:%M:%S.%f%z\") for date_str in times]\n",
    "\n",
    "# matplotlib.rc('xtick', labelsize=15)     \n",
    "# matplotlib.rc('ytick', labelsize=15)\n",
    "# plt.style.use('ggplot')\n",
    "\n",
    "# plt.figure(figsize=(20,10))\n",
    "# plt.plot(times, prices, 'r', linewidth=1.5, marker='.')\n",
    "# plt.title(f\"Spot market prices\", fontsize=20)\n",
    "# plt.xlabel('Hour', fontsize=20 )\n",
    "# plt.ylabel('Price [€/MWh]', fontsize=20)\n",
    "# plt.show()\n",
    "\n",
    "# my code:\n",
    "patternVals = []\n",
    "temps = []\n",
    "adjustedDemand = []\n",
    "demandVariation = []\n",
    "\n",
    "for data_point in Working_Patterns_Values\n",
    "    patternVals.append(data_point['value'])\n",
    "    temps.append(data_point['value'])\n",
    "    adjustedDemand.append(data_point['value'])\n",
    "    demandVariation.append(data_point['value'])\n",
    "\n"
   ]
  },
  {
   "cell_type": "markdown",
   "metadata": {},
   "source": [
    "# Part III: Exercize - REE API"
   ]
  },
  {
   "cell_type": "markdown",
   "metadata": {},
   "source": [
    "Going back to the Part 1 of the lab, take the most updated prices for the spot market and the PVPC and compare them in a chart. Draw some conclusions."
   ]
  },
  {
   "cell_type": "code",
   "execution_count": null,
   "metadata": {},
   "outputs": [],
   "source": []
  },
  {
   "cell_type": "code",
   "execution_count": null,
   "metadata": {},
   "outputs": [],
   "source": []
  },
  {
   "cell_type": "code",
   "execution_count": null,
   "metadata": {},
   "outputs": [],
   "source": []
  },
  {
   "cell_type": "code",
   "execution_count": null,
   "metadata": {},
   "outputs": [],
   "source": []
  },
  {
   "cell_type": "code",
   "execution_count": null,
   "metadata": {},
   "outputs": [],
   "source": []
  },
  {
   "cell_type": "markdown",
   "metadata": {},
   "source": [
    "# Part IV: CO2 Signal API"
   ]
  },
  {
   "cell_type": "markdown",
   "metadata": {},
   "source": [
    "This is a free to use API from the famous **electricitymap.org**.\n",
    "\n",
    "You can use our API to get access to information about how much carbon is emitted when producing electricity in a country.\n",
    "API documentation is available at https://docs.co2signal.com/#introduction\n",
    "\n",
    "CO2 Signal uses API keys to allow access to the API. You can get an API key by making a request in their website.\n",
    "CO2 Signal expects the API key to be included as a header in all requests to the server"
   ]
  },
  {
   "cell_type": "markdown",
   "metadata": {},
   "source": [
    "### Get latest by country code"
   ]
  },
  {
   "cell_type": "code",
   "execution_count": null,
   "metadata": {},
   "outputs": [],
   "source": [
    "my_api_token = 'QE4sZ9U7d2FcBeTQuENPlZsQ9PYeVeFG'\n",
    "\n",
    "endpoint = 'https://api.co2signal.com'\n",
    "get_archive = '/v1/latest'\n",
    "headers = {'auth-token': my_api_token}\n",
    "params = {'countryCode':'IT'} \n",
    "\n",
    "# NB: this parameters are asking data for country Italy, but you can change it, based on the info given in the API documentation"
   ]
  },
  {
   "cell_type": "code",
   "execution_count": null,
   "metadata": {},
   "outputs": [],
   "source": [
    "response = requests.get(endpoint+get_archive, headers=headers, params=params)\n",
    "response"
   ]
  },
  {
   "cell_type": "code",
   "execution_count": null,
   "metadata": {},
   "outputs": [],
   "source": [
    "# extract the data in json format\n",
    "json_data = response.json()\n",
    "json_data"
   ]
  },
  {
   "cell_type": "markdown",
   "metadata": {},
   "source": [
    "Looking both at the docs and at the json structure we can see we have 2 information available **carbon intensity** and **fossil fuel percentage** for the desired country at the latest time available."
   ]
  },
  {
   "cell_type": "code",
   "execution_count": null,
   "metadata": {},
   "outputs": [],
   "source": [
    "co2_intensity = json_data['data']['carbonIntensity']\n",
    "ff_perc = json_data['data']['fossilFuelPercentage']\n",
    "time_str = json_data['data']['datetime']\n",
    "# from string to datetime\n",
    "time = datetime.strptime(time_str[:16], '%Y-%m-%dT%H:%M') \n",
    "\n",
    "print(f\"Details of energy production in country {params['countryCode']} at {time}\")\n",
    "print(f\"Carbon Intensity: {co2_intensity}\")\n",
    "print(f\"Fossil Fuel Percentage: {ff_perc}\")"
   ]
  },
  {
   "cell_type": "markdown",
   "metadata": {},
   "source": [
    "# Part V: WeatherAPI.com"
   ]
  },
  {
   "cell_type": "markdown",
   "metadata": {},
   "source": [
    "WeatherAPI.com is a powerful fully managed **free weather and geolocation API provider** that provides extensive APIs that range from the weather forecast, historical weather, future weather, weather alerts, air quality data, IP lookup, and astronomy through to sports, time zone, and geolocation.\n",
    "\n",
    "The API can be found accessed in the popular API market place **RapidAPI** (https://rapidapi.com/weatherapi/api/weatherapi-com)\n",
    "\n",
    "It is required to sign up with an account in RapidAPI to use the free API. When you did that you need to subscribe to a pricing plan for the API (the free one, of course). Take a look at the limited functionalities, you can access only a few endpoints. As you can see all of them allow for **GET** methods.\n",
    "\n",
    "Once the subscription is active you can generate in an authomatic way the code for the request through the interface (very useful) and copypaste it to use it right away.\n",
    "\n",
    "One of the endpoints available with the free subscription is the current weather. Let's check this out"
   ]
  },
  {
   "cell_type": "code",
   "execution_count": null,
   "metadata": {},
   "outputs": [],
   "source": [
    "import requests\n",
    "\n",
    "# chose the endpoint\n",
    "url = \"https://weatherapi-com.p.rapidapi.com/current.json\"\n",
    "\n",
    "# define the headers with the authorization token\n",
    "headers = {\"X-RapidAPI-Key\": \"6a425b2a7bmshc1f059e65b98fb7p1cdd78jsn184965114ca2\",\n",
    "           \"X-RapidAPI-Host\": \"weatherapi-com.p.rapidapi.com\"}\n",
    "\n",
    "# define parameters as specified in the API documentation\n",
    "querystring = {\"q\":\"Barcelona\",\"dt\":\"2022-12-25\"}\n",
    "\n",
    "#create the get request\n",
    "response = requests.request(\"GET\", url, headers=headers, params=querystring)\n",
    "\n",
    "print(response.text)"
   ]
  },
  {
   "cell_type": "markdown",
   "metadata": {},
   "source": [
    "You can now go on with the data extraction and post-processing of streaming data as you like"
   ]
  },
  {
   "cell_type": "code",
   "execution_count": null,
   "metadata": {},
   "outputs": [],
   "source": []
  },
  {
   "cell_type": "code",
   "execution_count": null,
   "metadata": {},
   "outputs": [],
   "source": []
  },
  {
   "cell_type": "code",
   "execution_count": null,
   "metadata": {},
   "outputs": [],
   "source": []
  },
  {
   "cell_type": "markdown",
   "metadata": {},
   "source": [
    "# Part VI: Electricity Map free API"
   ]
  },
  {
   "cell_type": "markdown",
   "metadata": {},
   "source": [
    "Go to the website https://api-portal.electricitymaps.com/ and sign up with your account of preference. Confirm your email and validate your account, then go to the Getting Started section and choose the product plan option **Free Tier**. Subscrive to the free plan.\n",
    "\n",
    "In your personal account on the API portal you need to access the *Product Catalog* and enter the *Personal Free Tier* product. Once inside, you will find yourself into the actual API Client of the free tier product. Here you can find the documentation, specyifing the endpoints and your personal API key generator (Blobr API Keys). You can also keep en eye on your requests history."
   ]
  },
  {
   "cell_type": "markdown",
   "metadata": {},
   "source": [
    "You can also check if the API service is UP and running by making a simple GET request on the dedicated endpoint. This instruction is available in the API documentation under \"Health\" route."
   ]
  },
  {
   "cell_type": "code",
   "execution_count": null,
   "metadata": {},
   "outputs": [],
   "source": [
    "# check if API is up\n",
    "health_endpoint = 'https://api.electricitymap.org/health'      \n",
    "# NB: this is an endpoint available withing the paid API service but you can use it without token to test the connection \n",
    "\n",
    "# make a small get request (no token required)\n",
    "response = requests.get(health_endpoint)\n",
    "response\n",
    "\n",
    "status = response.status_code\n",
    "\n",
    "# check the status code\n",
    "if status < 200:\n",
    "    print('informational')\n",
    "    # If the status code is 200, treat the information.\n",
    "elif status >= 200 and status < 300:\n",
    "    print('Connection is established. API is UP!')\n",
    "    #okBehavior(response) # runs the function to get list of archives\n",
    "elif status >= 300 and status < 400:\n",
    "    print('redirection')\n",
    "elif status >= 400 and status < 500:\n",
    "    print('client error')\n",
    "else:\n",
    "    print('server error')"
   ]
  },
  {
   "cell_type": "markdown",
   "metadata": {},
   "source": [
    "### Check available zones "
   ]
  },
  {
   "cell_type": "markdown",
   "metadata": {},
   "source": [
    "Each token (you can use the primary token) has some zones that can be accessed, for which data are available. An endpoint is available to return all zones available if no auth-token is provided."
   ]
  },
  {
   "cell_type": "code",
   "execution_count": null,
   "metadata": {},
   "outputs": [],
   "source": [
    "#my_token = 'tYmqsdm22FbSg2RMasqWN1PiZOs9Mwgk' # replace with your personal API key\n",
    "my_token = 'jkG9yQHIscL1a'"
   ]
  },
  {
   "cell_type": "code",
   "execution_count": null,
   "metadata": {
    "scrolled": true
   },
   "outputs": [],
   "source": [
    "# check for available zones\n",
    "base_prod_url = \"https://api.electricitymap.org/v3/zones\"\n",
    "\n",
    "# make request (this request works with no token\n",
    "response = requests.get(base_prod_url)\n",
    "response"
   ]
  },
  {
   "cell_type": "code",
   "execution_count": null,
   "metadata": {},
   "outputs": [],
   "source": [
    "data_dict = response.json()\n",
    "\n",
    "print(\"Country name:\")\n",
    "# Extract abbreviation and name of each country\n",
    "for abbreviation, country_info in data_dict.items():\n",
    "    country_name = country_info[\"zoneName\"]\n",
    "    print(f\" {country_name}, {abbreviation}\")"
   ]
  },
  {
   "cell_type": "markdown",
   "metadata": {},
   "source": [
    "### Live Power Breakdown"
   ]
  },
  {
   "cell_type": "markdown",
   "metadata": {},
   "source": [
    "Checking the API documentation different endpoints can be found to gather different type of data. For each of them, the possible HTTP requests are listed. Methods are almost always **GET** to stream the data.\n",
    "Let's have a look at the *live power breakdown*."
   ]
  },
  {
   "cell_type": "code",
   "execution_count": null,
   "metadata": {},
   "outputs": [],
   "source": [
    "live_power_endpoint = \"https://api.electricitymap.org/v3/power-breakdown/history\""
   ]
  },
  {
   "cell_type": "markdown",
   "metadata": {},
   "source": [
    "The header section is always used for the authorization token (in this case)."
   ]
  },
  {
   "cell_type": "code",
   "execution_count": null,
   "metadata": {},
   "outputs": [],
   "source": [
    "headers = {'auth-token': my_token}"
   ]
  },
  {
   "cell_type": "markdown",
   "metadata": {},
   "source": [
    "Parameters to be specified are listed in the documentation."
   ]
  },
  {
   "cell_type": "code",
   "execution_count": null,
   "metadata": {},
   "outputs": [],
   "source": [
    "params = {'zone': \"IT\"}"
   ]
  },
  {
   "cell_type": "markdown",
   "metadata": {},
   "source": [
    "Let's create the request and extract the data"
   ]
  },
  {
   "cell_type": "code",
   "execution_count": null,
   "metadata": {},
   "outputs": [],
   "source": [
    "response = requests.get(live_power_endpoint, headers=headers, params=params)\n",
    "response.json()"
   ]
  },
  {
   "cell_type": "markdown",
   "metadata": {},
   "source": [
    "Let's extract the data and try to visualize"
   ]
  },
  {
   "cell_type": "code",
   "execution_count": null,
   "metadata": {},
   "outputs": [],
   "source": [
    "hystorical_data = response.json()[\"history\"]\n",
    "hystorical_data"
   ]
  },
  {
   "cell_type": "code",
   "execution_count": null,
   "metadata": {},
   "outputs": [],
   "source": [
    "import pandas as pd\n",
    "\n",
    "# create separated dataframes to store variables with multiple fields\n",
    "\n",
    "selected = ['powerConsumptionBreakdown', 'powerProductionBreakdown', 'powerImportBreakdown', 'powerExportBreakdown']\n",
    "powerConsumptionBreakdown_df = pd.DataFrame(columns=['nuclear','geothermal','biomass','coal','wind','solar','hydro','gas','oil','unknown','hydro discharge','battery discharge'])\n",
    "powerProductionBreakdown_df = pd.DataFrame(columns=['nuclear','geothermal','biomass','coal','wind','solar','hydro','gas','oil','unknown','hydro discharge','battery discharge'])\n",
    "powerImportBreakdown_df = pd.DataFrame(columns=['AT','CH','FR','GR','ME','MT','SI','FR-COR'])\n",
    "powerExportBreakdown_df = pd.DataFrame(columns=['AT','CH','FR','GR','ME','MT','SI','FR-COR'])\n",
    "date_strings = list()\n",
    "\n",
    "# ignore warnings\n",
    "import warnings\n",
    "warnings.filterwarnings('ignore')\n",
    "\n",
    "for i, time_step in enumerate(hystorical_data):\n",
    "    powerConsumptionBreakdown_df.loc[i] = time_step['powerConsumptionBreakdown']\n",
    "    powerProductionBreakdown_df.loc[i] = time_step['powerProductionBreakdown']\n",
    "    powerImportBreakdown_df.loc[i] = time_step['powerImportBreakdown']\n",
    "    powerExportBreakdown_df.loc[i] = time_step['powerExportBreakdown']\n",
    "    date_strings.append(time_step['datetime'])\n",
    "\n",
    "# Convert strings to datetime objects\n",
    "date_time = [\n",
    "    datetime.strptime(date_str, \"%Y-%m-%dT%H:%M:%S.%fZ\") for date_str in date_strings\n",
    "]\n",
    "powerConsumptionBreakdown_df\n"
   ]
  },
  {
   "cell_type": "code",
   "execution_count": null,
   "metadata": {},
   "outputs": [],
   "source": [
    "powerProductionBreakdown_df"
   ]
  },
  {
   "cell_type": "markdown",
   "metadata": {},
   "source": [
    "Visualize the results"
   ]
  },
  {
   "cell_type": "code",
   "execution_count": null,
   "metadata": {},
   "outputs": [],
   "source": [
    "def stacked_bar_chart(df, title):\n",
    "\n",
    "    plt.figure(figsize=(14, 8))\n",
    "    num_hours = len(df)\n",
    "\n",
    "    # Plot a stacked bar chart for all columns\n",
    "    bottom = 0\n",
    "    for column in df.columns:\n",
    "        # NB: not all the values are always present therefore a try\\except block is needed\n",
    "        try:\n",
    "            plt.bar(range(num_hours), df[column], label=column, bottom=bottom)\n",
    "            bottom += df[column]\n",
    "        except:\n",
    "            continue\n",
    "\n",
    "    plt.xlabel('Hour')\n",
    "    plt.ylabel('Power (MW)')\n",
    "    plt.title(title)\n",
    "    plt.legend()\n",
    "    plt.show()\n",
    "\n",
    "stacked_bar_chart(powerConsumptionBreakdown_df, 'Power consumption Breakdown')\n",
    "stacked_bar_chart(powerProductionBreakdown_df, 'Power production Breakdown')\n",
    "stacked_bar_chart(powerImportBreakdown_df, 'Power import Breakdown')\n",
    "stacked_bar_chart(powerExportBreakdown_df, 'Power export Breakdown')"
   ]
  },
  {
   "cell_type": "markdown",
   "metadata": {},
   "source": [
    "Now choose and endpoint of your choice, explore the data available and visualize it in a proper way."
   ]
  },
  {
   "cell_type": "code",
   "execution_count": null,
   "metadata": {},
   "outputs": [],
   "source": []
  },
  {
   "cell_type": "code",
   "execution_count": null,
   "metadata": {},
   "outputs": [],
   "source": []
  },
  {
   "cell_type": "code",
   "execution_count": null,
   "metadata": {},
   "outputs": [],
   "source": []
  },
  {
   "cell_type": "markdown",
   "metadata": {},
   "source": [
    "# Part VII: choose your desired API "
   ]
  },
  {
   "cell_type": "markdown",
   "metadata": {},
   "source": [
    "Connect to the RapidAPI website (https://rapidapi.com/hub) and take a free API of your choice and start experimenting. Have Fun! :)"
   ]
  },
  {
   "cell_type": "code",
   "execution_count": null,
   "metadata": {},
   "outputs": [],
   "source": []
  },
  {
   "cell_type": "code",
   "execution_count": null,
   "metadata": {},
   "outputs": [],
   "source": []
  },
  {
   "cell_type": "code",
   "execution_count": null,
   "metadata": {},
   "outputs": [],
   "source": []
  },
  {
   "cell_type": "code",
   "execution_count": null,
   "metadata": {},
   "outputs": [],
   "source": []
  }
 ],
 "metadata": {
  "kernelspec": {
   "display_name": "Python 3 (ipykernel)",
   "language": "python",
   "name": "python3"
  },
  "language_info": {
   "codemirror_mode": {
    "name": "ipython",
    "version": 3
   },
   "file_extension": ".py",
   "mimetype": "text/x-python",
   "name": "python",
   "nbconvert_exporter": "python",
   "pygments_lexer": "ipython3",
   "version": "3.12.7"
  }
 },
 "nbformat": 4,
 "nbformat_minor": 4
}
