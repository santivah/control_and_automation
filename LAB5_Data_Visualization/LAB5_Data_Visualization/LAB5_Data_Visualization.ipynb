{
 "cells": [
  {
   "cell_type": "markdown",
   "metadata": {
    "id": "68Guq_HHyZ8f"
   },
   "source": [
    "# Data Visualization Using Python\n",
    "\n",
    "# Part 1: Introduction, data wrangling with python, matplotlib, plotly\n",
    "\n",
    "## 0. Introduction\n",
    "In previous laboratory activities, our focus has been on the integration of diverse technologies, including Arduino, Raspberry Pi, APIs, and Python, all aimed at the acquisition of data for specific engineering purposes. The overarching goal has been to monitor and regulate the behavior of controlled loads, synchronizing their operations with various external signals such as light intensity, market prices, and temporal parameters.\n",
    "\n",
    "Now, as we transition into this session, we're shifting our focus to data visualization—a powerful tool widely adopted in the corporate environment. Its strength lies in its ability to provide a clear picture of complex data, helping us draw conclusions and make informed decisions.\n",
    "\n",
    "In the forthcoming session, we will delve into the domain of data visualization using a comprehensive wind turbine dataset sourced from DTU, accessible through DOIs 10.11583/DTU.7856891 and 10.11583/DTU.7856888. The dataset under consideration comprises historical observations pertaining to the V52 Wind Turbine. Our analysis will be based on a structured examination of these historical observations, facilitated by the utilization of a CSV file.\n",
    "\n",
    "![V52 Wind Turbine](./images/v52turbine_3.jpg)\n",
    "\n",
    "To effectively conduct our analysis, we will employ distinct Python libraries renowned for their prowess in data visualization. Specifically, our toolkit for this laboratory session will encompass Matplotlib, Plotly, and Dash, equipping participants with a versatile set of tools to explore, interpret, and communicate insights derived from the V52 Wind Turbine dataset.\n",
    "\n",
    "## 1. Set Up\n",
    "### 1.1. Importing Libraries\n",
    "\n"
   ]
  },
  {
   "cell_type": "code",
   "execution_count": 5,
   "metadata": {
    "id": "bWhft_z1yZ8n"
   },
   "outputs": [],
   "source": [
    "# data processing\n",
    "import pandas as pd\n",
    "# numerical library\n",
    "import numpy as np\n",
    "# timer, dates\n",
    "import datetime\n",
    "# data visualization libraries\n",
    "import matplotlib.pyplot as plt"
   ]
  },
  {
   "cell_type": "markdown",
   "metadata": {
    "id": "ueu9Q5yryZ8t"
   },
   "source": [
    "### 1.2. Loading Data"
   ]
  },
  {
   "cell_type": "code",
   "execution_count": 8,
   "metadata": {
    "id": "MpUQijV5yZ8u"
   },
   "outputs": [],
   "source": [
    "df = pd.read_csv('./data/V52_ExtensiveData.csv', sep='\\t', skiprows=12)"
   ]
  },
  {
   "cell_type": "markdown",
   "metadata": {
    "id": "KAeghhhXyZ8v"
   },
   "source": [
    "*Important note*: before importing a file into memory in your computing environment, do check the typew of file you are importing. Most times the file extensions are not very descriptive. For instance, in this case we are importing a .csv file. Notice that the import process is effective only when the *separator* parameter is specified, otherwise the pandas dataframe would  not understand correctly the structure of data (try yourself removing the separator to see what happens).\n",
    "This is because the original file containing data is not a *\"comma separated value* (.csv) file, but in fact a *tab separated value* (.tsv). You can easily verify this by opening the file with a text editor. This is always a good practice before starting the analysis of a dataset.\n",
    "By doing this, you can even realize that the first 12 rows are in fact useless and can be ignored in the import process."
   ]
  },
  {
   "cell_type": "markdown",
   "metadata": {
    "id": "k-86E5W-yZ8w"
   },
   "source": [
    "## 2. Data Pre-processing\n",
    "### 2.1. First look at the dataset"
   ]
  },
  {
   "cell_type": "markdown",
   "metadata": {
    "id": "QiLvIz0WyZ8x"
   },
   "source": [
    "Have a quick look at the dataset and understand basic things like the **features** contained in the dataset (represented by the columns) and the number of **observations** (number of elements) in the dataset.\n",
    "This commands are pretty useful for a first quick look:"
   ]
  },
  {
   "cell_type": "code",
   "execution_count": 13,
   "metadata": {
    "id": "GPHh79ieyZ8y"
   },
   "outputs": [
    {
     "data": {
      "text/html": [
       "<div>\n",
       "<style scoped>\n",
       "    .dataframe tbody tr th:only-of-type {\n",
       "        vertical-align: middle;\n",
       "    }\n",
       "\n",
       "    .dataframe tbody tr th {\n",
       "        vertical-align: top;\n",
       "    }\n",
       "\n",
       "    .dataframe thead th {\n",
       "        text-align: right;\n",
       "    }\n",
       "</style>\n",
       "<table border=\"1\" class=\"dataframe\">\n",
       "  <thead>\n",
       "    <tr style=\"text-align: right;\">\n",
       "      <th></th>\n",
       "      <th>Date</th>\n",
       "      <th>Wsp_44m</th>\n",
       "      <th>Wdir_41m</th>\n",
       "      <th>ActPow</th>\n",
       "      <th>RePow</th>\n",
       "      <th>ActPow_std</th>\n",
       "      <th>Wsp_44m_std</th>\n",
       "      <th>Wdir_41m_std</th>\n",
       "      <th>stability</th>\n",
       "    </tr>\n",
       "  </thead>\n",
       "  <tbody>\n",
       "    <tr>\n",
       "      <th>0</th>\n",
       "      <td>201801010000</td>\n",
       "      <td>4.71803</td>\n",
       "      <td>200.743</td>\n",
       "      <td>64.6673</td>\n",
       "      <td>0.000860</td>\n",
       "      <td>33.4251</td>\n",
       "      <td>0.566131</td>\n",
       "      <td>6.45730</td>\n",
       "      <td>1.0</td>\n",
       "    </tr>\n",
       "    <tr>\n",
       "      <th>1</th>\n",
       "      <td>201801010010</td>\n",
       "      <td>5.44100</td>\n",
       "      <td>201.768</td>\n",
       "      <td>70.8152</td>\n",
       "      <td>-0.000657</td>\n",
       "      <td>26.3829</td>\n",
       "      <td>0.765691</td>\n",
       "      <td>6.66940</td>\n",
       "      <td>1.0</td>\n",
       "    </tr>\n",
       "    <tr>\n",
       "      <th>2</th>\n",
       "      <td>201801010020</td>\n",
       "      <td>5.32178</td>\n",
       "      <td>197.962</td>\n",
       "      <td>80.8037</td>\n",
       "      <td>-0.000617</td>\n",
       "      <td>30.2002</td>\n",
       "      <td>0.603442</td>\n",
       "      <td>6.99113</td>\n",
       "      <td>1.0</td>\n",
       "    </tr>\n",
       "    <tr>\n",
       "      <th>3</th>\n",
       "      <td>201801010030</td>\n",
       "      <td>5.95325</td>\n",
       "      <td>204.606</td>\n",
       "      <td>86.1123</td>\n",
       "      <td>-0.002370</td>\n",
       "      <td>43.1192</td>\n",
       "      <td>0.872915</td>\n",
       "      <td>5.47062</td>\n",
       "      <td>1.0</td>\n",
       "    </tr>\n",
       "    <tr>\n",
       "      <th>4</th>\n",
       "      <td>201801010040</td>\n",
       "      <td>6.17765</td>\n",
       "      <td>204.398</td>\n",
       "      <td>110.8570</td>\n",
       "      <td>0.001033</td>\n",
       "      <td>29.9507</td>\n",
       "      <td>0.550160</td>\n",
       "      <td>4.93713</td>\n",
       "      <td>1.0</td>\n",
       "    </tr>\n",
       "  </tbody>\n",
       "</table>\n",
       "</div>"
      ],
      "text/plain": [
       "           Date  Wsp_44m  Wdir_41m    ActPow     RePow  ActPow_std  \\\n",
       "0  201801010000  4.71803   200.743   64.6673  0.000860     33.4251   \n",
       "1  201801010010  5.44100   201.768   70.8152 -0.000657     26.3829   \n",
       "2  201801010020  5.32178   197.962   80.8037 -0.000617     30.2002   \n",
       "3  201801010030  5.95325   204.606   86.1123 -0.002370     43.1192   \n",
       "4  201801010040  6.17765   204.398  110.8570  0.001033     29.9507   \n",
       "\n",
       "   Wsp_44m_std  Wdir_41m_std  stability  \n",
       "0     0.566131       6.45730        1.0  \n",
       "1     0.765691       6.66940        1.0  \n",
       "2     0.603442       6.99113        1.0  \n",
       "3     0.872915       5.47062        1.0  \n",
       "4     0.550160       4.93713        1.0  "
      ]
     },
     "execution_count": 13,
     "metadata": {},
     "output_type": "execute_result"
    }
   ],
   "source": [
    "df.head()"
   ]
  },
  {
   "cell_type": "code",
   "execution_count": 15,
   "metadata": {
    "id": "C0Bdf1hcyZ8z"
   },
   "outputs": [
    {
     "data": {
      "text/plain": [
       "(52241, 9)"
      ]
     },
     "execution_count": 15,
     "metadata": {},
     "output_type": "execute_result"
    }
   ],
   "source": [
    "df.shape"
   ]
  },
  {
   "cell_type": "code",
   "execution_count": 17,
   "metadata": {
    "id": "Hc1kMc5NyZ81"
   },
   "outputs": [
    {
     "data": {
      "text/plain": [
       "Date              int64\n",
       "Wsp_44m         float64\n",
       "Wdir_41m        float64\n",
       "ActPow          float64\n",
       "RePow           float64\n",
       "ActPow_std      float64\n",
       "Wsp_44m_std     float64\n",
       "Wdir_41m_std    float64\n",
       "stability       float64\n",
       "dtype: object"
      ]
     },
     "execution_count": 17,
     "metadata": {},
     "output_type": "execute_result"
    }
   ],
   "source": [
    "df.dtypes"
   ]
  },
  {
   "cell_type": "markdown",
   "metadata": {
    "id": "XrMRJbveyZ83"
   },
   "source": [
    "Questions for you:\n",
    "\n",
    "1. How many rows do we have?\n",
    "2. Which types of variables do we have?\n",
    "3. What’s the shape of the Dataframe?\n",
    "4. Which data-types does the Dataframe have?\n",
    "5. Are all the columns in the right format?\n",
    "6. Do we have to change any of the data-types?\n",
    "7. Are the columns' name useful for us? What's the information they are trying to tell us?\n",
    "8. Do you know the units of measurement?\n",
    "9. For how long have we been taking data?\n",
    "10. What’s the time granularity?\n",
    "11. What do these data tell us? (storytelling...)"
   ]
  },
  {
   "cell_type": "markdown",
   "metadata": {
    "id": "3Op661dKyZ85"
   },
   "source": [
    "### 2.2. Changing columns' type"
   ]
  },
  {
   "cell_type": "code",
   "execution_count": 21,
   "metadata": {
    "id": "65bIQm0pyZ86"
   },
   "outputs": [],
   "source": [
    "df['Date'] = pd.to_datetime(df['Date'], format='%Y%m%d%H%M')"
   ]
  },
  {
   "cell_type": "code",
   "execution_count": 22,
   "metadata": {
    "id": "4SIJoA_WyZ87"
   },
   "outputs": [
    {
     "data": {
      "text/html": [
       "<div>\n",
       "<style scoped>\n",
       "    .dataframe tbody tr th:only-of-type {\n",
       "        vertical-align: middle;\n",
       "    }\n",
       "\n",
       "    .dataframe tbody tr th {\n",
       "        vertical-align: top;\n",
       "    }\n",
       "\n",
       "    .dataframe thead th {\n",
       "        text-align: right;\n",
       "    }\n",
       "</style>\n",
       "<table border=\"1\" class=\"dataframe\">\n",
       "  <thead>\n",
       "    <tr style=\"text-align: right;\">\n",
       "      <th></th>\n",
       "      <th>Date</th>\n",
       "      <th>Wsp_44m</th>\n",
       "      <th>Wdir_41m</th>\n",
       "      <th>ActPow</th>\n",
       "      <th>RePow</th>\n",
       "      <th>ActPow_std</th>\n",
       "      <th>Wsp_44m_std</th>\n",
       "      <th>Wdir_41m_std</th>\n",
       "      <th>stability</th>\n",
       "    </tr>\n",
       "  </thead>\n",
       "  <tbody>\n",
       "    <tr>\n",
       "      <th>0</th>\n",
       "      <td>2018-01-01 00:00:00</td>\n",
       "      <td>4.71803</td>\n",
       "      <td>200.743</td>\n",
       "      <td>64.6673</td>\n",
       "      <td>0.000860</td>\n",
       "      <td>33.4251</td>\n",
       "      <td>0.566131</td>\n",
       "      <td>6.45730</td>\n",
       "      <td>1.0</td>\n",
       "    </tr>\n",
       "    <tr>\n",
       "      <th>1</th>\n",
       "      <td>2018-01-01 00:10:00</td>\n",
       "      <td>5.44100</td>\n",
       "      <td>201.768</td>\n",
       "      <td>70.8152</td>\n",
       "      <td>-0.000657</td>\n",
       "      <td>26.3829</td>\n",
       "      <td>0.765691</td>\n",
       "      <td>6.66940</td>\n",
       "      <td>1.0</td>\n",
       "    </tr>\n",
       "    <tr>\n",
       "      <th>2</th>\n",
       "      <td>2018-01-01 00:20:00</td>\n",
       "      <td>5.32178</td>\n",
       "      <td>197.962</td>\n",
       "      <td>80.8037</td>\n",
       "      <td>-0.000617</td>\n",
       "      <td>30.2002</td>\n",
       "      <td>0.603442</td>\n",
       "      <td>6.99113</td>\n",
       "      <td>1.0</td>\n",
       "    </tr>\n",
       "    <tr>\n",
       "      <th>3</th>\n",
       "      <td>2018-01-01 00:30:00</td>\n",
       "      <td>5.95325</td>\n",
       "      <td>204.606</td>\n",
       "      <td>86.1123</td>\n",
       "      <td>-0.002370</td>\n",
       "      <td>43.1192</td>\n",
       "      <td>0.872915</td>\n",
       "      <td>5.47062</td>\n",
       "      <td>1.0</td>\n",
       "    </tr>\n",
       "    <tr>\n",
       "      <th>4</th>\n",
       "      <td>2018-01-01 00:40:00</td>\n",
       "      <td>6.17765</td>\n",
       "      <td>204.398</td>\n",
       "      <td>110.8570</td>\n",
       "      <td>0.001033</td>\n",
       "      <td>29.9507</td>\n",
       "      <td>0.550160</td>\n",
       "      <td>4.93713</td>\n",
       "      <td>1.0</td>\n",
       "    </tr>\n",
       "  </tbody>\n",
       "</table>\n",
       "</div>"
      ],
      "text/plain": [
       "                 Date  Wsp_44m  Wdir_41m    ActPow     RePow  ActPow_std  \\\n",
       "0 2018-01-01 00:00:00  4.71803   200.743   64.6673  0.000860     33.4251   \n",
       "1 2018-01-01 00:10:00  5.44100   201.768   70.8152 -0.000657     26.3829   \n",
       "2 2018-01-01 00:20:00  5.32178   197.962   80.8037 -0.000617     30.2002   \n",
       "3 2018-01-01 00:30:00  5.95325   204.606   86.1123 -0.002370     43.1192   \n",
       "4 2018-01-01 00:40:00  6.17765   204.398  110.8570  0.001033     29.9507   \n",
       "\n",
       "   Wsp_44m_std  Wdir_41m_std  stability  \n",
       "0     0.566131       6.45730        1.0  \n",
       "1     0.765691       6.66940        1.0  \n",
       "2     0.603442       6.99113        1.0  \n",
       "3     0.872915       5.47062        1.0  \n",
       "4     0.550160       4.93713        1.0  "
      ]
     },
     "execution_count": 22,
     "metadata": {},
     "output_type": "execute_result"
    }
   ],
   "source": [
    "df.head()"
   ]
  },
  {
   "cell_type": "markdown",
   "metadata": {
    "id": "YWSZR8MVyZ88"
   },
   "source": [
    "This is a typical step to do when working with time-series data. Converting from numerical format *float64* to the pyhton date-type format *datetime*"
   ]
  },
  {
   "cell_type": "markdown",
   "metadata": {
    "id": "6Z4po7AwyZ89"
   },
   "source": [
    "### 2.3. Check for missing data (NaN)"
   ]
  },
  {
   "cell_type": "markdown",
   "metadata": {
    "id": "wwvGDAEJyZ89"
   },
   "source": [
    "Check if Not a Number values are present."
   ]
  },
  {
   "cell_type": "code",
   "execution_count": 28,
   "metadata": {
    "id": "eiCYGgRUyZ8-"
   },
   "outputs": [
    {
     "data": {
      "text/plain": [
       "Date               0\n",
       "Wsp_44m         3253\n",
       "Wdir_41m        3253\n",
       "ActPow           138\n",
       "RePow            138\n",
       "ActPow_std       138\n",
       "Wsp_44m_std     3253\n",
       "Wdir_41m_std    3253\n",
       "stability          0\n",
       "dtype: int64"
      ]
     },
     "execution_count": 28,
     "metadata": {},
     "output_type": "execute_result"
    }
   ],
   "source": [
    "# for each column\n",
    "df.isna().sum()"
   ]
  },
  {
   "cell_type": "code",
   "execution_count": 30,
   "metadata": {
    "id": "G_7qy9SUyZ8-"
   },
   "outputs": [
    {
     "data": {
      "text/plain": [
       "13426"
      ]
     },
     "execution_count": 30,
     "metadata": {},
     "output_type": "execute_result"
    }
   ],
   "source": [
    "# overall\n",
    "df.isna().sum().sum()"
   ]
  },
  {
   "cell_type": "markdown",
   "metadata": {
    "id": "fO4uV89tyZ8_"
   },
   "source": [
    "Let's try to visualize the rows where NaN values are."
   ]
  },
  {
   "cell_type": "code",
   "execution_count": 33,
   "metadata": {
    "id": "4W03OtVpyZ9A"
   },
   "outputs": [
    {
     "data": {
      "text/html": [
       "<div>\n",
       "<style scoped>\n",
       "    .dataframe tbody tr th:only-of-type {\n",
       "        vertical-align: middle;\n",
       "    }\n",
       "\n",
       "    .dataframe tbody tr th {\n",
       "        vertical-align: top;\n",
       "    }\n",
       "\n",
       "    .dataframe thead th {\n",
       "        text-align: right;\n",
       "    }\n",
       "</style>\n",
       "<table border=\"1\" class=\"dataframe\">\n",
       "  <thead>\n",
       "    <tr style=\"text-align: right;\">\n",
       "      <th></th>\n",
       "      <th>Date</th>\n",
       "      <th>Wsp_44m</th>\n",
       "      <th>Wdir_41m</th>\n",
       "      <th>ActPow</th>\n",
       "      <th>RePow</th>\n",
       "      <th>ActPow_std</th>\n",
       "      <th>Wsp_44m_std</th>\n",
       "      <th>Wdir_41m_std</th>\n",
       "      <th>stability</th>\n",
       "    </tr>\n",
       "  </thead>\n",
       "  <tbody>\n",
       "    <tr>\n",
       "      <th>19015</th>\n",
       "      <td>2018-05-14 09:20:00</td>\n",
       "      <td>NaN</td>\n",
       "      <td>NaN</td>\n",
       "      <td>-1.096810</td>\n",
       "      <td>-1.285870</td>\n",
       "      <td>1.004990</td>\n",
       "      <td>NaN</td>\n",
       "      <td>NaN</td>\n",
       "      <td>0.0</td>\n",
       "    </tr>\n",
       "    <tr>\n",
       "      <th>19016</th>\n",
       "      <td>2018-05-14 09:30:00</td>\n",
       "      <td>NaN</td>\n",
       "      <td>NaN</td>\n",
       "      <td>-1.030800</td>\n",
       "      <td>-0.895310</td>\n",
       "      <td>0.982677</td>\n",
       "      <td>NaN</td>\n",
       "      <td>NaN</td>\n",
       "      <td>0.0</td>\n",
       "    </tr>\n",
       "    <tr>\n",
       "      <th>19017</th>\n",
       "      <td>2018-05-14 09:40:00</td>\n",
       "      <td>NaN</td>\n",
       "      <td>NaN</td>\n",
       "      <td>-0.903863</td>\n",
       "      <td>-0.680247</td>\n",
       "      <td>0.716444</td>\n",
       "      <td>NaN</td>\n",
       "      <td>NaN</td>\n",
       "      <td>0.0</td>\n",
       "    </tr>\n",
       "    <tr>\n",
       "      <th>19018</th>\n",
       "      <td>2018-05-14 09:50:00</td>\n",
       "      <td>NaN</td>\n",
       "      <td>NaN</td>\n",
       "      <td>-0.823533</td>\n",
       "      <td>-0.763457</td>\n",
       "      <td>0.782019</td>\n",
       "      <td>NaN</td>\n",
       "      <td>NaN</td>\n",
       "      <td>0.0</td>\n",
       "    </tr>\n",
       "    <tr>\n",
       "      <th>19019</th>\n",
       "      <td>2018-05-14 10:00:00</td>\n",
       "      <td>NaN</td>\n",
       "      <td>NaN</td>\n",
       "      <td>-0.975510</td>\n",
       "      <td>-0.802763</td>\n",
       "      <td>0.841965</td>\n",
       "      <td>NaN</td>\n",
       "      <td>NaN</td>\n",
       "      <td>0.0</td>\n",
       "    </tr>\n",
       "    <tr>\n",
       "      <th>...</th>\n",
       "      <td>...</td>\n",
       "      <td>...</td>\n",
       "      <td>...</td>\n",
       "      <td>...</td>\n",
       "      <td>...</td>\n",
       "      <td>...</td>\n",
       "      <td>...</td>\n",
       "      <td>...</td>\n",
       "      <td>...</td>\n",
       "    </tr>\n",
       "    <tr>\n",
       "      <th>27102</th>\n",
       "      <td>2018-07-09 13:00:00</td>\n",
       "      <td>NaN</td>\n",
       "      <td>NaN</td>\n",
       "      <td>201.837000</td>\n",
       "      <td>-0.001510</td>\n",
       "      <td>67.718100</td>\n",
       "      <td>NaN</td>\n",
       "      <td>NaN</td>\n",
       "      <td>0.0</td>\n",
       "    </tr>\n",
       "    <tr>\n",
       "      <th>27103</th>\n",
       "      <td>2018-07-09 13:20:00</td>\n",
       "      <td>NaN</td>\n",
       "      <td>NaN</td>\n",
       "      <td>220.969000</td>\n",
       "      <td>-0.006363</td>\n",
       "      <td>51.026400</td>\n",
       "      <td>NaN</td>\n",
       "      <td>NaN</td>\n",
       "      <td>0.0</td>\n",
       "    </tr>\n",
       "    <tr>\n",
       "      <th>27104</th>\n",
       "      <td>2018-07-09 13:30:00</td>\n",
       "      <td>NaN</td>\n",
       "      <td>NaN</td>\n",
       "      <td>18.443400</td>\n",
       "      <td>0.800440</td>\n",
       "      <td>65.841100</td>\n",
       "      <td>NaN</td>\n",
       "      <td>NaN</td>\n",
       "      <td>0.0</td>\n",
       "    </tr>\n",
       "    <tr>\n",
       "      <th>27105</th>\n",
       "      <td>2018-07-09 13:40:00</td>\n",
       "      <td>NaN</td>\n",
       "      <td>NaN</td>\n",
       "      <td>-1.544820</td>\n",
       "      <td>-1.853780</td>\n",
       "      <td>0.819548</td>\n",
       "      <td>NaN</td>\n",
       "      <td>NaN</td>\n",
       "      <td>0.0</td>\n",
       "    </tr>\n",
       "    <tr>\n",
       "      <th>42346</th>\n",
       "      <td>2018-10-24 08:14:00</td>\n",
       "      <td>NaN</td>\n",
       "      <td>NaN</td>\n",
       "      <td>66.959200</td>\n",
       "      <td>-0.002281</td>\n",
       "      <td>31.577000</td>\n",
       "      <td>NaN</td>\n",
       "      <td>NaN</td>\n",
       "      <td>0.0</td>\n",
       "    </tr>\n",
       "  </tbody>\n",
       "</table>\n",
       "<p>3253 rows × 9 columns</p>\n",
       "</div>"
      ],
      "text/plain": [
       "                     Date  Wsp_44m  Wdir_41m      ActPow     RePow  \\\n",
       "19015 2018-05-14 09:20:00      NaN       NaN   -1.096810 -1.285870   \n",
       "19016 2018-05-14 09:30:00      NaN       NaN   -1.030800 -0.895310   \n",
       "19017 2018-05-14 09:40:00      NaN       NaN   -0.903863 -0.680247   \n",
       "19018 2018-05-14 09:50:00      NaN       NaN   -0.823533 -0.763457   \n",
       "19019 2018-05-14 10:00:00      NaN       NaN   -0.975510 -0.802763   \n",
       "...                   ...      ...       ...         ...       ...   \n",
       "27102 2018-07-09 13:00:00      NaN       NaN  201.837000 -0.001510   \n",
       "27103 2018-07-09 13:20:00      NaN       NaN  220.969000 -0.006363   \n",
       "27104 2018-07-09 13:30:00      NaN       NaN   18.443400  0.800440   \n",
       "27105 2018-07-09 13:40:00      NaN       NaN   -1.544820 -1.853780   \n",
       "42346 2018-10-24 08:14:00      NaN       NaN   66.959200 -0.002281   \n",
       "\n",
       "       ActPow_std  Wsp_44m_std  Wdir_41m_std  stability  \n",
       "19015    1.004990          NaN           NaN        0.0  \n",
       "19016    0.982677          NaN           NaN        0.0  \n",
       "19017    0.716444          NaN           NaN        0.0  \n",
       "19018    0.782019          NaN           NaN        0.0  \n",
       "19019    0.841965          NaN           NaN        0.0  \n",
       "...           ...          ...           ...        ...  \n",
       "27102   67.718100          NaN           NaN        0.0  \n",
       "27103   51.026400          NaN           NaN        0.0  \n",
       "27104   65.841100          NaN           NaN        0.0  \n",
       "27105    0.819548          NaN           NaN        0.0  \n",
       "42346   31.577000          NaN           NaN        0.0  \n",
       "\n",
       "[3253 rows x 9 columns]"
      ]
     },
     "execution_count": 33,
     "metadata": {},
     "output_type": "execute_result"
    }
   ],
   "source": [
    "bool = pd.isnull(df[\"Wsp_44m\"])\n",
    "df[bool]"
   ]
  },
  {
   "cell_type": "code",
   "execution_count": 35,
   "metadata": {
    "id": "nRiwDReyyZ9B"
   },
   "outputs": [
    {
     "data": {
      "text/html": [
       "<div>\n",
       "<style scoped>\n",
       "    .dataframe tbody tr th:only-of-type {\n",
       "        vertical-align: middle;\n",
       "    }\n",
       "\n",
       "    .dataframe tbody tr th {\n",
       "        vertical-align: top;\n",
       "    }\n",
       "\n",
       "    .dataframe thead th {\n",
       "        text-align: right;\n",
       "    }\n",
       "</style>\n",
       "<table border=\"1\" class=\"dataframe\">\n",
       "  <thead>\n",
       "    <tr style=\"text-align: right;\">\n",
       "      <th></th>\n",
       "      <th>Date</th>\n",
       "      <th>Wsp_44m</th>\n",
       "      <th>Wdir_41m</th>\n",
       "      <th>ActPow</th>\n",
       "      <th>RePow</th>\n",
       "      <th>ActPow_std</th>\n",
       "      <th>Wsp_44m_std</th>\n",
       "      <th>Wdir_41m_std</th>\n",
       "      <th>stability</th>\n",
       "    </tr>\n",
       "  </thead>\n",
       "  <tbody>\n",
       "    <tr>\n",
       "      <th>395</th>\n",
       "      <td>2018-01-03 18:30:00</td>\n",
       "      <td>4.11082</td>\n",
       "      <td>166.586</td>\n",
       "      <td>NaN</td>\n",
       "      <td>NaN</td>\n",
       "      <td>NaN</td>\n",
       "      <td>0.877951</td>\n",
       "      <td>9.456860</td>\n",
       "      <td>0.0</td>\n",
       "    </tr>\n",
       "    <tr>\n",
       "      <th>3413</th>\n",
       "      <td>2018-01-23 23:30:00</td>\n",
       "      <td>11.35410</td>\n",
       "      <td>196.849</td>\n",
       "      <td>NaN</td>\n",
       "      <td>NaN</td>\n",
       "      <td>NaN</td>\n",
       "      <td>0.451371</td>\n",
       "      <td>2.592660</td>\n",
       "      <td>1.0</td>\n",
       "    </tr>\n",
       "    <tr>\n",
       "      <th>3414</th>\n",
       "      <td>2018-01-23 23:40:00</td>\n",
       "      <td>11.43910</td>\n",
       "      <td>197.141</td>\n",
       "      <td>NaN</td>\n",
       "      <td>NaN</td>\n",
       "      <td>NaN</td>\n",
       "      <td>0.000005</td>\n",
       "      <td>0.000000</td>\n",
       "      <td>1.0</td>\n",
       "    </tr>\n",
       "    <tr>\n",
       "      <th>3415</th>\n",
       "      <td>2018-01-23 23:50:00</td>\n",
       "      <td>11.43910</td>\n",
       "      <td>197.141</td>\n",
       "      <td>NaN</td>\n",
       "      <td>NaN</td>\n",
       "      <td>NaN</td>\n",
       "      <td>0.000005</td>\n",
       "      <td>0.000000</td>\n",
       "      <td>1.0</td>\n",
       "    </tr>\n",
       "    <tr>\n",
       "      <th>3416</th>\n",
       "      <td>2018-01-24 00:00:00</td>\n",
       "      <td>11.43910</td>\n",
       "      <td>197.141</td>\n",
       "      <td>NaN</td>\n",
       "      <td>NaN</td>\n",
       "      <td>NaN</td>\n",
       "      <td>0.000005</td>\n",
       "      <td>0.000000</td>\n",
       "      <td>1.0</td>\n",
       "    </tr>\n",
       "    <tr>\n",
       "      <th>...</th>\n",
       "      <td>...</td>\n",
       "      <td>...</td>\n",
       "      <td>...</td>\n",
       "      <td>...</td>\n",
       "      <td>...</td>\n",
       "      <td>...</td>\n",
       "      <td>...</td>\n",
       "      <td>...</td>\n",
       "      <td>...</td>\n",
       "    </tr>\n",
       "    <tr>\n",
       "      <th>42393</th>\n",
       "      <td>2018-10-24 07:30:00</td>\n",
       "      <td>14.33320</td>\n",
       "      <td>332.584</td>\n",
       "      <td>NaN</td>\n",
       "      <td>NaN</td>\n",
       "      <td>NaN</td>\n",
       "      <td>0.000009</td>\n",
       "      <td>0.000058</td>\n",
       "      <td>1.0</td>\n",
       "    </tr>\n",
       "    <tr>\n",
       "      <th>42394</th>\n",
       "      <td>2018-10-24 07:40:00</td>\n",
       "      <td>14.33320</td>\n",
       "      <td>332.584</td>\n",
       "      <td>NaN</td>\n",
       "      <td>NaN</td>\n",
       "      <td>NaN</td>\n",
       "      <td>0.000009</td>\n",
       "      <td>0.000058</td>\n",
       "      <td>1.0</td>\n",
       "    </tr>\n",
       "    <tr>\n",
       "      <th>42395</th>\n",
       "      <td>2018-10-24 07:50:00</td>\n",
       "      <td>14.33320</td>\n",
       "      <td>332.584</td>\n",
       "      <td>NaN</td>\n",
       "      <td>NaN</td>\n",
       "      <td>NaN</td>\n",
       "      <td>0.000009</td>\n",
       "      <td>0.000058</td>\n",
       "      <td>1.0</td>\n",
       "    </tr>\n",
       "    <tr>\n",
       "      <th>42396</th>\n",
       "      <td>2018-10-24 08:00:00</td>\n",
       "      <td>14.33320</td>\n",
       "      <td>332.584</td>\n",
       "      <td>NaN</td>\n",
       "      <td>NaN</td>\n",
       "      <td>NaN</td>\n",
       "      <td>0.000009</td>\n",
       "      <td>0.000058</td>\n",
       "      <td>1.0</td>\n",
       "    </tr>\n",
       "    <tr>\n",
       "      <th>42397</th>\n",
       "      <td>2018-10-24 08:10:00</td>\n",
       "      <td>5.38942</td>\n",
       "      <td>4.413</td>\n",
       "      <td>NaN</td>\n",
       "      <td>NaN</td>\n",
       "      <td>NaN</td>\n",
       "      <td>2.981610</td>\n",
       "      <td>13.395500</td>\n",
       "      <td>0.0</td>\n",
       "    </tr>\n",
       "  </tbody>\n",
       "</table>\n",
       "<p>138 rows × 9 columns</p>\n",
       "</div>"
      ],
      "text/plain": [
       "                     Date   Wsp_44m  Wdir_41m  ActPow  RePow  ActPow_std  \\\n",
       "395   2018-01-03 18:30:00   4.11082   166.586     NaN    NaN         NaN   \n",
       "3413  2018-01-23 23:30:00  11.35410   196.849     NaN    NaN         NaN   \n",
       "3414  2018-01-23 23:40:00  11.43910   197.141     NaN    NaN         NaN   \n",
       "3415  2018-01-23 23:50:00  11.43910   197.141     NaN    NaN         NaN   \n",
       "3416  2018-01-24 00:00:00  11.43910   197.141     NaN    NaN         NaN   \n",
       "...                   ...       ...       ...     ...    ...         ...   \n",
       "42393 2018-10-24 07:30:00  14.33320   332.584     NaN    NaN         NaN   \n",
       "42394 2018-10-24 07:40:00  14.33320   332.584     NaN    NaN         NaN   \n",
       "42395 2018-10-24 07:50:00  14.33320   332.584     NaN    NaN         NaN   \n",
       "42396 2018-10-24 08:00:00  14.33320   332.584     NaN    NaN         NaN   \n",
       "42397 2018-10-24 08:10:00   5.38942     4.413     NaN    NaN         NaN   \n",
       "\n",
       "       Wsp_44m_std  Wdir_41m_std  stability  \n",
       "395       0.877951      9.456860        0.0  \n",
       "3413      0.451371      2.592660        1.0  \n",
       "3414      0.000005      0.000000        1.0  \n",
       "3415      0.000005      0.000000        1.0  \n",
       "3416      0.000005      0.000000        1.0  \n",
       "...            ...           ...        ...  \n",
       "42393     0.000009      0.000058        1.0  \n",
       "42394     0.000009      0.000058        1.0  \n",
       "42395     0.000009      0.000058        1.0  \n",
       "42396     0.000009      0.000058        1.0  \n",
       "42397     2.981610     13.395500        0.0  \n",
       "\n",
       "[138 rows x 9 columns]"
      ]
     },
     "execution_count": 35,
     "metadata": {},
     "output_type": "execute_result"
    }
   ],
   "source": [
    "bool = pd.isnull(df[\"ActPow\"])\n",
    "df[bool]"
   ]
  },
  {
   "cell_type": "markdown",
   "metadata": {
    "id": "2RLd6UK1yZ9B"
   },
   "source": [
    "Yes, many NaN are present in the dataset. How to treat them? Ideally, each variable should be treated separately in the most meanigful way."
   ]
  },
  {
   "cell_type": "markdown",
   "metadata": {},
   "source": [
    "In general these techniques are applicable:\n",
    "- **Imputation**: Filling missing values with statistical measures like the mean, median, mode, or a specific value (the previous value, etc).\n",
    "- **Predictive models**: Using a model to predict missing values based on other features.\n",
    "- **Interpolation**: A polynomial of the desired order can alwyas be fit between 2 points (linear, polynomial interpolation).\n",
    "- **Deletion**: Removing rows or columns with too many missing values (if appropriate).\n",
    "- **Flag missing**: Add a new feature indicating where data is missing."
   ]
  },
  {
   "cell_type": "code",
   "execution_count": 39,
   "metadata": {
    "id": "G9qqbslIyZ9C"
   },
   "outputs": [],
   "source": [
    "# storing the indexes of rows with NaN values\n",
    "rows_nan = df[bool].index"
   ]
  },
  {
   "cell_type": "code",
   "execution_count": 41,
   "metadata": {
    "id": "BJoisOW8yZ9C"
   },
   "outputs": [
    {
     "data": {
      "text/plain": [
       "0"
      ]
     },
     "execution_count": 41,
     "metadata": {},
     "output_type": "execute_result"
    }
   ],
   "source": [
    "# replace with a specific value\n",
    "df_replaced = df.replace(to_replace = np.nan, value = -99)\n",
    "df_replaced.isna().sum().sum()"
   ]
  },
  {
   "cell_type": "code",
   "execution_count": 43,
   "metadata": {
    "id": "5rHtdNHjyZ9D"
   },
   "outputs": [
    {
     "data": {
      "text/html": [
       "<div>\n",
       "<style scoped>\n",
       "    .dataframe tbody tr th:only-of-type {\n",
       "        vertical-align: middle;\n",
       "    }\n",
       "\n",
       "    .dataframe tbody tr th {\n",
       "        vertical-align: top;\n",
       "    }\n",
       "\n",
       "    .dataframe thead th {\n",
       "        text-align: right;\n",
       "    }\n",
       "</style>\n",
       "<table border=\"1\" class=\"dataframe\">\n",
       "  <thead>\n",
       "    <tr style=\"text-align: right;\">\n",
       "      <th></th>\n",
       "      <th>Date</th>\n",
       "      <th>Wsp_44m</th>\n",
       "      <th>Wdir_41m</th>\n",
       "      <th>ActPow</th>\n",
       "      <th>RePow</th>\n",
       "      <th>ActPow_std</th>\n",
       "      <th>Wsp_44m_std</th>\n",
       "      <th>Wdir_41m_std</th>\n",
       "      <th>stability</th>\n",
       "    </tr>\n",
       "  </thead>\n",
       "  <tbody>\n",
       "    <tr>\n",
       "      <th>395</th>\n",
       "      <td>2018-01-03 18:30:00</td>\n",
       "      <td>4.11082</td>\n",
       "      <td>166.586</td>\n",
       "      <td>-99.0</td>\n",
       "      <td>-99.0</td>\n",
       "      <td>-99.0</td>\n",
       "      <td>0.877951</td>\n",
       "      <td>9.456860</td>\n",
       "      <td>0.0</td>\n",
       "    </tr>\n",
       "    <tr>\n",
       "      <th>3413</th>\n",
       "      <td>2018-01-23 23:30:00</td>\n",
       "      <td>11.35410</td>\n",
       "      <td>196.849</td>\n",
       "      <td>-99.0</td>\n",
       "      <td>-99.0</td>\n",
       "      <td>-99.0</td>\n",
       "      <td>0.451371</td>\n",
       "      <td>2.592660</td>\n",
       "      <td>1.0</td>\n",
       "    </tr>\n",
       "    <tr>\n",
       "      <th>3414</th>\n",
       "      <td>2018-01-23 23:40:00</td>\n",
       "      <td>11.43910</td>\n",
       "      <td>197.141</td>\n",
       "      <td>-99.0</td>\n",
       "      <td>-99.0</td>\n",
       "      <td>-99.0</td>\n",
       "      <td>0.000005</td>\n",
       "      <td>0.000000</td>\n",
       "      <td>1.0</td>\n",
       "    </tr>\n",
       "    <tr>\n",
       "      <th>3415</th>\n",
       "      <td>2018-01-23 23:50:00</td>\n",
       "      <td>11.43910</td>\n",
       "      <td>197.141</td>\n",
       "      <td>-99.0</td>\n",
       "      <td>-99.0</td>\n",
       "      <td>-99.0</td>\n",
       "      <td>0.000005</td>\n",
       "      <td>0.000000</td>\n",
       "      <td>1.0</td>\n",
       "    </tr>\n",
       "    <tr>\n",
       "      <th>3416</th>\n",
       "      <td>2018-01-24 00:00:00</td>\n",
       "      <td>11.43910</td>\n",
       "      <td>197.141</td>\n",
       "      <td>-99.0</td>\n",
       "      <td>-99.0</td>\n",
       "      <td>-99.0</td>\n",
       "      <td>0.000005</td>\n",
       "      <td>0.000000</td>\n",
       "      <td>1.0</td>\n",
       "    </tr>\n",
       "    <tr>\n",
       "      <th>...</th>\n",
       "      <td>...</td>\n",
       "      <td>...</td>\n",
       "      <td>...</td>\n",
       "      <td>...</td>\n",
       "      <td>...</td>\n",
       "      <td>...</td>\n",
       "      <td>...</td>\n",
       "      <td>...</td>\n",
       "      <td>...</td>\n",
       "    </tr>\n",
       "    <tr>\n",
       "      <th>42393</th>\n",
       "      <td>2018-10-24 07:30:00</td>\n",
       "      <td>14.33320</td>\n",
       "      <td>332.584</td>\n",
       "      <td>-99.0</td>\n",
       "      <td>-99.0</td>\n",
       "      <td>-99.0</td>\n",
       "      <td>0.000009</td>\n",
       "      <td>0.000058</td>\n",
       "      <td>1.0</td>\n",
       "    </tr>\n",
       "    <tr>\n",
       "      <th>42394</th>\n",
       "      <td>2018-10-24 07:40:00</td>\n",
       "      <td>14.33320</td>\n",
       "      <td>332.584</td>\n",
       "      <td>-99.0</td>\n",
       "      <td>-99.0</td>\n",
       "      <td>-99.0</td>\n",
       "      <td>0.000009</td>\n",
       "      <td>0.000058</td>\n",
       "      <td>1.0</td>\n",
       "    </tr>\n",
       "    <tr>\n",
       "      <th>42395</th>\n",
       "      <td>2018-10-24 07:50:00</td>\n",
       "      <td>14.33320</td>\n",
       "      <td>332.584</td>\n",
       "      <td>-99.0</td>\n",
       "      <td>-99.0</td>\n",
       "      <td>-99.0</td>\n",
       "      <td>0.000009</td>\n",
       "      <td>0.000058</td>\n",
       "      <td>1.0</td>\n",
       "    </tr>\n",
       "    <tr>\n",
       "      <th>42396</th>\n",
       "      <td>2018-10-24 08:00:00</td>\n",
       "      <td>14.33320</td>\n",
       "      <td>332.584</td>\n",
       "      <td>-99.0</td>\n",
       "      <td>-99.0</td>\n",
       "      <td>-99.0</td>\n",
       "      <td>0.000009</td>\n",
       "      <td>0.000058</td>\n",
       "      <td>1.0</td>\n",
       "    </tr>\n",
       "    <tr>\n",
       "      <th>42397</th>\n",
       "      <td>2018-10-24 08:10:00</td>\n",
       "      <td>5.38942</td>\n",
       "      <td>4.413</td>\n",
       "      <td>-99.0</td>\n",
       "      <td>-99.0</td>\n",
       "      <td>-99.0</td>\n",
       "      <td>2.981610</td>\n",
       "      <td>13.395500</td>\n",
       "      <td>0.0</td>\n",
       "    </tr>\n",
       "  </tbody>\n",
       "</table>\n",
       "<p>138 rows × 9 columns</p>\n",
       "</div>"
      ],
      "text/plain": [
       "                     Date   Wsp_44m  Wdir_41m  ActPow  RePow  ActPow_std  \\\n",
       "395   2018-01-03 18:30:00   4.11082   166.586   -99.0  -99.0       -99.0   \n",
       "3413  2018-01-23 23:30:00  11.35410   196.849   -99.0  -99.0       -99.0   \n",
       "3414  2018-01-23 23:40:00  11.43910   197.141   -99.0  -99.0       -99.0   \n",
       "3415  2018-01-23 23:50:00  11.43910   197.141   -99.0  -99.0       -99.0   \n",
       "3416  2018-01-24 00:00:00  11.43910   197.141   -99.0  -99.0       -99.0   \n",
       "...                   ...       ...       ...     ...    ...         ...   \n",
       "42393 2018-10-24 07:30:00  14.33320   332.584   -99.0  -99.0       -99.0   \n",
       "42394 2018-10-24 07:40:00  14.33320   332.584   -99.0  -99.0       -99.0   \n",
       "42395 2018-10-24 07:50:00  14.33320   332.584   -99.0  -99.0       -99.0   \n",
       "42396 2018-10-24 08:00:00  14.33320   332.584   -99.0  -99.0       -99.0   \n",
       "42397 2018-10-24 08:10:00   5.38942     4.413   -99.0  -99.0       -99.0   \n",
       "\n",
       "       Wsp_44m_std  Wdir_41m_std  stability  \n",
       "395       0.877951      9.456860        0.0  \n",
       "3413      0.451371      2.592660        1.0  \n",
       "3414      0.000005      0.000000        1.0  \n",
       "3415      0.000005      0.000000        1.0  \n",
       "3416      0.000005      0.000000        1.0  \n",
       "...            ...           ...        ...  \n",
       "42393     0.000009      0.000058        1.0  \n",
       "42394     0.000009      0.000058        1.0  \n",
       "42395     0.000009      0.000058        1.0  \n",
       "42396     0.000009      0.000058        1.0  \n",
       "42397     2.981610     13.395500        0.0  \n",
       "\n",
       "[138 rows x 9 columns]"
      ]
     },
     "execution_count": 43,
     "metadata": {},
     "output_type": "execute_result"
    }
   ],
   "source": [
    "# take a look at the changes\n",
    "df_replaced.loc[rows_nan]"
   ]
  },
  {
   "cell_type": "markdown",
   "metadata": {
    "id": "QJeLHOb-yZ9D"
   },
   "source": [
    "A more powerful approach is to replace the NaN with interpolation techniques. These can follows several methods, linear, polynomial, etc. Take a look at the pandas documentation online for all the options. Take the most suited to your case."
   ]
  },
  {
   "cell_type": "code",
   "execution_count": 46,
   "metadata": {
    "id": "gSADn2bYyZ9E"
   },
   "outputs": [
    {
     "data": {
      "text/html": [
       "<div>\n",
       "<style scoped>\n",
       "    .dataframe tbody tr th:only-of-type {\n",
       "        vertical-align: middle;\n",
       "    }\n",
       "\n",
       "    .dataframe tbody tr th {\n",
       "        vertical-align: top;\n",
       "    }\n",
       "\n",
       "    .dataframe thead th {\n",
       "        text-align: right;\n",
       "    }\n",
       "</style>\n",
       "<table border=\"1\" class=\"dataframe\">\n",
       "  <thead>\n",
       "    <tr style=\"text-align: right;\">\n",
       "      <th></th>\n",
       "      <th>Wsp_44m</th>\n",
       "      <th>Wdir_41m</th>\n",
       "      <th>ActPow</th>\n",
       "      <th>RePow</th>\n",
       "      <th>ActPow_std</th>\n",
       "      <th>Wsp_44m_std</th>\n",
       "      <th>Wdir_41m_std</th>\n",
       "      <th>stability</th>\n",
       "    </tr>\n",
       "  </thead>\n",
       "  <tbody>\n",
       "    <tr>\n",
       "      <th>395</th>\n",
       "      <td>4.11082</td>\n",
       "      <td>166.586</td>\n",
       "      <td>77.718400</td>\n",
       "      <td>-0.000213</td>\n",
       "      <td>22.161700</td>\n",
       "      <td>0.877951</td>\n",
       "      <td>9.456860</td>\n",
       "      <td>0.0</td>\n",
       "    </tr>\n",
       "    <tr>\n",
       "      <th>3413</th>\n",
       "      <td>11.35410</td>\n",
       "      <td>196.849</td>\n",
       "      <td>89.048351</td>\n",
       "      <td>-0.000944</td>\n",
       "      <td>50.281267</td>\n",
       "      <td>0.451371</td>\n",
       "      <td>2.592660</td>\n",
       "      <td>1.0</td>\n",
       "    </tr>\n",
       "    <tr>\n",
       "      <th>3414</th>\n",
       "      <td>11.43910</td>\n",
       "      <td>197.141</td>\n",
       "      <td>89.353301</td>\n",
       "      <td>-0.000957</td>\n",
       "      <td>50.425235</td>\n",
       "      <td>0.000005</td>\n",
       "      <td>0.000000</td>\n",
       "      <td>1.0</td>\n",
       "    </tr>\n",
       "    <tr>\n",
       "      <th>3415</th>\n",
       "      <td>11.43910</td>\n",
       "      <td>197.141</td>\n",
       "      <td>89.658252</td>\n",
       "      <td>-0.000971</td>\n",
       "      <td>50.569202</td>\n",
       "      <td>0.000005</td>\n",
       "      <td>0.000000</td>\n",
       "      <td>1.0</td>\n",
       "    </tr>\n",
       "    <tr>\n",
       "      <th>3416</th>\n",
       "      <td>11.43910</td>\n",
       "      <td>197.141</td>\n",
       "      <td>89.963202</td>\n",
       "      <td>-0.000985</td>\n",
       "      <td>50.713170</td>\n",
       "      <td>0.000005</td>\n",
       "      <td>0.000000</td>\n",
       "      <td>1.0</td>\n",
       "    </tr>\n",
       "    <tr>\n",
       "      <th>...</th>\n",
       "      <td>...</td>\n",
       "      <td>...</td>\n",
       "      <td>...</td>\n",
       "      <td>...</td>\n",
       "      <td>...</td>\n",
       "      <td>...</td>\n",
       "      <td>...</td>\n",
       "      <td>...</td>\n",
       "    </tr>\n",
       "    <tr>\n",
       "      <th>42393</th>\n",
       "      <td>14.33320</td>\n",
       "      <td>332.584</td>\n",
       "      <td>-0.419373</td>\n",
       "      <td>0.439353</td>\n",
       "      <td>0.466145</td>\n",
       "      <td>0.000009</td>\n",
       "      <td>0.000058</td>\n",
       "      <td>1.0</td>\n",
       "    </tr>\n",
       "    <tr>\n",
       "      <th>42394</th>\n",
       "      <td>14.33320</td>\n",
       "      <td>332.584</td>\n",
       "      <td>-0.403087</td>\n",
       "      <td>0.425486</td>\n",
       "      <td>0.444208</td>\n",
       "      <td>0.000009</td>\n",
       "      <td>0.000058</td>\n",
       "      <td>1.0</td>\n",
       "    </tr>\n",
       "    <tr>\n",
       "      <th>42395</th>\n",
       "      <td>14.33320</td>\n",
       "      <td>332.584</td>\n",
       "      <td>-0.386801</td>\n",
       "      <td>0.411620</td>\n",
       "      <td>0.422270</td>\n",
       "      <td>0.000009</td>\n",
       "      <td>0.000058</td>\n",
       "      <td>1.0</td>\n",
       "    </tr>\n",
       "    <tr>\n",
       "      <th>42396</th>\n",
       "      <td>14.33320</td>\n",
       "      <td>332.584</td>\n",
       "      <td>-0.370515</td>\n",
       "      <td>0.397753</td>\n",
       "      <td>0.400332</td>\n",
       "      <td>0.000009</td>\n",
       "      <td>0.000058</td>\n",
       "      <td>1.0</td>\n",
       "    </tr>\n",
       "    <tr>\n",
       "      <th>42397</th>\n",
       "      <td>5.38942</td>\n",
       "      <td>4.413</td>\n",
       "      <td>-0.354229</td>\n",
       "      <td>0.383887</td>\n",
       "      <td>0.378395</td>\n",
       "      <td>2.981610</td>\n",
       "      <td>13.395500</td>\n",
       "      <td>0.0</td>\n",
       "    </tr>\n",
       "  </tbody>\n",
       "</table>\n",
       "<p>138 rows × 8 columns</p>\n",
       "</div>"
      ],
      "text/plain": [
       "        Wsp_44m  Wdir_41m     ActPow     RePow  ActPow_std  Wsp_44m_std  \\\n",
       "395     4.11082   166.586  77.718400 -0.000213   22.161700     0.877951   \n",
       "3413   11.35410   196.849  89.048351 -0.000944   50.281267     0.451371   \n",
       "3414   11.43910   197.141  89.353301 -0.000957   50.425235     0.000005   \n",
       "3415   11.43910   197.141  89.658252 -0.000971   50.569202     0.000005   \n",
       "3416   11.43910   197.141  89.963202 -0.000985   50.713170     0.000005   \n",
       "...         ...       ...        ...       ...         ...          ...   \n",
       "42393  14.33320   332.584  -0.419373  0.439353    0.466145     0.000009   \n",
       "42394  14.33320   332.584  -0.403087  0.425486    0.444208     0.000009   \n",
       "42395  14.33320   332.584  -0.386801  0.411620    0.422270     0.000009   \n",
       "42396  14.33320   332.584  -0.370515  0.397753    0.400332     0.000009   \n",
       "42397   5.38942     4.413  -0.354229  0.383887    0.378395     2.981610   \n",
       "\n",
       "       Wdir_41m_std  stability  \n",
       "395        9.456860        0.0  \n",
       "3413       2.592660        1.0  \n",
       "3414       0.000000        1.0  \n",
       "3415       0.000000        1.0  \n",
       "3416       0.000000        1.0  \n",
       "...             ...        ...  \n",
       "42393      0.000058        1.0  \n",
       "42394      0.000058        1.0  \n",
       "42395      0.000058        1.0  \n",
       "42396      0.000058        1.0  \n",
       "42397     13.395500        0.0  \n",
       "\n",
       "[138 rows x 8 columns]"
      ]
     },
     "execution_count": 46,
     "metadata": {},
     "output_type": "execute_result"
    }
   ],
   "source": [
    "# replace with interpolation (linear)\n",
    "df_int = df.iloc[:,1:].interpolate(method ='linear', limit_direction ='forward')\n",
    "# NB: interpolate works only with numerical type data (need to exclude the \"Date\" column)\n",
    "# take a look at the changes\n",
    "df_int.loc[rows_nan]"
   ]
  },
  {
   "cell_type": "markdown",
   "metadata": {
    "id": "M1NdQ81UyZ9E"
   },
   "source": [
    "Alternatively, we can \"pad\" values, meaning using the values of the previous rows. This is possible through the `fillna` method which has different options. Take a look at the documentation to understand the better for you."
   ]
  },
  {
   "cell_type": "code",
   "execution_count": 49,
   "metadata": {
    "id": "_lMugTrqyZ9F"
   },
   "outputs": [
    {
     "name": "stderr",
     "output_type": "stream",
     "text": [
      "C:\\Users\\margo\\AppData\\Local\\Temp\\ipykernel_10372\\2746709867.py:2: FutureWarning: DataFrame.fillna with 'method' is deprecated and will raise in a future version. Use obj.ffill() or obj.bfill() instead.\n",
      "  df_pad = df.fillna(method ='pad')\n"
     ]
    },
    {
     "data": {
      "text/html": [
       "<div>\n",
       "<style scoped>\n",
       "    .dataframe tbody tr th:only-of-type {\n",
       "        vertical-align: middle;\n",
       "    }\n",
       "\n",
       "    .dataframe tbody tr th {\n",
       "        vertical-align: top;\n",
       "    }\n",
       "\n",
       "    .dataframe thead th {\n",
       "        text-align: right;\n",
       "    }\n",
       "</style>\n",
       "<table border=\"1\" class=\"dataframe\">\n",
       "  <thead>\n",
       "    <tr style=\"text-align: right;\">\n",
       "      <th></th>\n",
       "      <th>Date</th>\n",
       "      <th>Wsp_44m</th>\n",
       "      <th>Wdir_41m</th>\n",
       "      <th>ActPow</th>\n",
       "      <th>RePow</th>\n",
       "      <th>ActPow_std</th>\n",
       "      <th>Wsp_44m_std</th>\n",
       "      <th>Wdir_41m_std</th>\n",
       "      <th>stability</th>\n",
       "    </tr>\n",
       "  </thead>\n",
       "  <tbody>\n",
       "    <tr>\n",
       "      <th>395</th>\n",
       "      <td>2018-01-03 18:30:00</td>\n",
       "      <td>4.11082</td>\n",
       "      <td>166.586</td>\n",
       "      <td>63.56970</td>\n",
       "      <td>-0.001013</td>\n",
       "      <td>15.18260</td>\n",
       "      <td>0.877951</td>\n",
       "      <td>9.456860</td>\n",
       "      <td>0.0</td>\n",
       "    </tr>\n",
       "    <tr>\n",
       "      <th>3413</th>\n",
       "      <td>2018-01-23 23:30:00</td>\n",
       "      <td>11.35410</td>\n",
       "      <td>196.849</td>\n",
       "      <td>88.74340</td>\n",
       "      <td>-0.000930</td>\n",
       "      <td>50.13730</td>\n",
       "      <td>0.451371</td>\n",
       "      <td>2.592660</td>\n",
       "      <td>1.0</td>\n",
       "    </tr>\n",
       "    <tr>\n",
       "      <th>3414</th>\n",
       "      <td>2018-01-23 23:40:00</td>\n",
       "      <td>11.43910</td>\n",
       "      <td>197.141</td>\n",
       "      <td>88.74340</td>\n",
       "      <td>-0.000930</td>\n",
       "      <td>50.13730</td>\n",
       "      <td>0.000005</td>\n",
       "      <td>0.000000</td>\n",
       "      <td>1.0</td>\n",
       "    </tr>\n",
       "    <tr>\n",
       "      <th>3415</th>\n",
       "      <td>2018-01-23 23:50:00</td>\n",
       "      <td>11.43910</td>\n",
       "      <td>197.141</td>\n",
       "      <td>88.74340</td>\n",
       "      <td>-0.000930</td>\n",
       "      <td>50.13730</td>\n",
       "      <td>0.000005</td>\n",
       "      <td>0.000000</td>\n",
       "      <td>1.0</td>\n",
       "    </tr>\n",
       "    <tr>\n",
       "      <th>3416</th>\n",
       "      <td>2018-01-24 00:00:00</td>\n",
       "      <td>11.43910</td>\n",
       "      <td>197.141</td>\n",
       "      <td>88.74340</td>\n",
       "      <td>-0.000930</td>\n",
       "      <td>50.13730</td>\n",
       "      <td>0.000005</td>\n",
       "      <td>0.000000</td>\n",
       "      <td>1.0</td>\n",
       "    </tr>\n",
       "    <tr>\n",
       "      <th>...</th>\n",
       "      <td>...</td>\n",
       "      <td>...</td>\n",
       "      <td>...</td>\n",
       "      <td>...</td>\n",
       "      <td>...</td>\n",
       "      <td>...</td>\n",
       "      <td>...</td>\n",
       "      <td>...</td>\n",
       "      <td>...</td>\n",
       "    </tr>\n",
       "    <tr>\n",
       "      <th>42393</th>\n",
       "      <td>2018-10-24 07:30:00</td>\n",
       "      <td>14.33320</td>\n",
       "      <td>332.584</td>\n",
       "      <td>-1.15224</td>\n",
       "      <td>1.063350</td>\n",
       "      <td>1.45334</td>\n",
       "      <td>0.000009</td>\n",
       "      <td>0.000058</td>\n",
       "      <td>1.0</td>\n",
       "    </tr>\n",
       "    <tr>\n",
       "      <th>42394</th>\n",
       "      <td>2018-10-24 07:40:00</td>\n",
       "      <td>14.33320</td>\n",
       "      <td>332.584</td>\n",
       "      <td>-1.15224</td>\n",
       "      <td>1.063350</td>\n",
       "      <td>1.45334</td>\n",
       "      <td>0.000009</td>\n",
       "      <td>0.000058</td>\n",
       "      <td>1.0</td>\n",
       "    </tr>\n",
       "    <tr>\n",
       "      <th>42395</th>\n",
       "      <td>2018-10-24 07:50:00</td>\n",
       "      <td>14.33320</td>\n",
       "      <td>332.584</td>\n",
       "      <td>-1.15224</td>\n",
       "      <td>1.063350</td>\n",
       "      <td>1.45334</td>\n",
       "      <td>0.000009</td>\n",
       "      <td>0.000058</td>\n",
       "      <td>1.0</td>\n",
       "    </tr>\n",
       "    <tr>\n",
       "      <th>42396</th>\n",
       "      <td>2018-10-24 08:00:00</td>\n",
       "      <td>14.33320</td>\n",
       "      <td>332.584</td>\n",
       "      <td>-1.15224</td>\n",
       "      <td>1.063350</td>\n",
       "      <td>1.45334</td>\n",
       "      <td>0.000009</td>\n",
       "      <td>0.000058</td>\n",
       "      <td>1.0</td>\n",
       "    </tr>\n",
       "    <tr>\n",
       "      <th>42397</th>\n",
       "      <td>2018-10-24 08:10:00</td>\n",
       "      <td>5.38942</td>\n",
       "      <td>4.413</td>\n",
       "      <td>-1.15224</td>\n",
       "      <td>1.063350</td>\n",
       "      <td>1.45334</td>\n",
       "      <td>2.981610</td>\n",
       "      <td>13.395500</td>\n",
       "      <td>0.0</td>\n",
       "    </tr>\n",
       "  </tbody>\n",
       "</table>\n",
       "<p>138 rows × 9 columns</p>\n",
       "</div>"
      ],
      "text/plain": [
       "                     Date   Wsp_44m  Wdir_41m    ActPow     RePow  ActPow_std  \\\n",
       "395   2018-01-03 18:30:00   4.11082   166.586  63.56970 -0.001013    15.18260   \n",
       "3413  2018-01-23 23:30:00  11.35410   196.849  88.74340 -0.000930    50.13730   \n",
       "3414  2018-01-23 23:40:00  11.43910   197.141  88.74340 -0.000930    50.13730   \n",
       "3415  2018-01-23 23:50:00  11.43910   197.141  88.74340 -0.000930    50.13730   \n",
       "3416  2018-01-24 00:00:00  11.43910   197.141  88.74340 -0.000930    50.13730   \n",
       "...                   ...       ...       ...       ...       ...         ...   \n",
       "42393 2018-10-24 07:30:00  14.33320   332.584  -1.15224  1.063350     1.45334   \n",
       "42394 2018-10-24 07:40:00  14.33320   332.584  -1.15224  1.063350     1.45334   \n",
       "42395 2018-10-24 07:50:00  14.33320   332.584  -1.15224  1.063350     1.45334   \n",
       "42396 2018-10-24 08:00:00  14.33320   332.584  -1.15224  1.063350     1.45334   \n",
       "42397 2018-10-24 08:10:00   5.38942     4.413  -1.15224  1.063350     1.45334   \n",
       "\n",
       "       Wsp_44m_std  Wdir_41m_std  stability  \n",
       "395       0.877951      9.456860        0.0  \n",
       "3413      0.451371      2.592660        1.0  \n",
       "3414      0.000005      0.000000        1.0  \n",
       "3415      0.000005      0.000000        1.0  \n",
       "3416      0.000005      0.000000        1.0  \n",
       "...            ...           ...        ...  \n",
       "42393     0.000009      0.000058        1.0  \n",
       "42394     0.000009      0.000058        1.0  \n",
       "42395     0.000009      0.000058        1.0  \n",
       "42396     0.000009      0.000058        1.0  \n",
       "42397     2.981610     13.395500        0.0  \n",
       "\n",
       "[138 rows x 9 columns]"
      ]
     },
     "execution_count": 49,
     "metadata": {},
     "output_type": "execute_result"
    }
   ],
   "source": [
    "# filling a missing value with previous ones\n",
    "df_pad = df.fillna(method ='pad')\n",
    "# take a look at the changes\n",
    "df_pad.loc[rows_nan]"
   ]
  },
  {
   "cell_type": "markdown",
   "metadata": {
    "id": "UbL_LVTEyZ9G"
   },
   "source": [
    "Lastly, we can drop the NaN values. This is acceptable if the dataset has lot of observations."
   ]
  },
  {
   "cell_type": "code",
   "execution_count": 52,
   "metadata": {
    "id": "AhZblVK6yZ9G"
   },
   "outputs": [
    {
     "name": "stdout",
     "output_type": "stream",
     "text": [
      "Old data frame length: 52241\n",
      "New data frame length: 48850\n",
      "Number of rows with at least 1 NA value:  3391\n"
     ]
    }
   ],
   "source": [
    "df_drop = df.dropna()\n",
    "\n",
    "# check\n",
    "print(\"Old data frame length:\", len(df))\n",
    "print(\"New data frame length:\", len(df_drop))\n",
    "print(\"Number of rows with at least 1 NA value: \", (len(df)-len(df_drop)))"
   ]
  },
  {
   "cell_type": "code",
   "execution_count": 54,
   "metadata": {
    "id": "pYoJ3aWbyZ9H"
   },
   "outputs": [],
   "source": [
    "# choose the approach to go on\n",
    "df = df_drop"
   ]
  },
  {
   "cell_type": "markdown",
   "metadata": {
    "id": "D8Y6teSWyZ9I"
   },
   "source": [
    "## 3. Exploratory Data Analysis (EDA)"
   ]
  },
  {
   "cell_type": "markdown",
   "metadata": {
    "id": "TgylE_v6yZ9I"
   },
   "source": [
    "First let's print a summary of the dataset under analysis"
   ]
  },
  {
   "cell_type": "code",
   "execution_count": 58,
   "metadata": {
    "id": "OY__1zcGyZ9J"
   },
   "outputs": [
    {
     "name": "stdout",
     "output_type": "stream",
     "text": [
      "<class 'pandas.core.frame.DataFrame'>\n",
      "Index: 48850 entries, 0 to 52240\n",
      "Data columns (total 9 columns):\n",
      " #   Column        Non-Null Count  Dtype         \n",
      "---  ------        --------------  -----         \n",
      " 0   Date          48850 non-null  datetime64[ns]\n",
      " 1   Wsp_44m       48850 non-null  float64       \n",
      " 2   Wdir_41m      48850 non-null  float64       \n",
      " 3   ActPow        48850 non-null  float64       \n",
      " 4   RePow         48850 non-null  float64       \n",
      " 5   ActPow_std    48850 non-null  float64       \n",
      " 6   Wsp_44m_std   48850 non-null  float64       \n",
      " 7   Wdir_41m_std  48850 non-null  float64       \n",
      " 8   stability     48850 non-null  float64       \n",
      "dtypes: datetime64[ns](1), float64(8)\n",
      "memory usage: 3.7 MB\n"
     ]
    }
   ],
   "source": [
    "df.info()"
   ]
  },
  {
   "cell_type": "markdown",
   "metadata": {
    "id": "F9tGh92ZyZ9K"
   },
   "source": [
    "A short summary of statistical quantities. Here, measures of measures of central tendency are summarized for each variable"
   ]
  },
  {
   "cell_type": "code",
   "execution_count": 61,
   "metadata": {
    "id": "8RARkoLqyZ9K"
   },
   "outputs": [
    {
     "data": {
      "text/html": [
       "<div>\n",
       "<style scoped>\n",
       "    .dataframe tbody tr th:only-of-type {\n",
       "        vertical-align: middle;\n",
       "    }\n",
       "\n",
       "    .dataframe tbody tr th {\n",
       "        vertical-align: top;\n",
       "    }\n",
       "\n",
       "    .dataframe thead th {\n",
       "        text-align: right;\n",
       "    }\n",
       "</style>\n",
       "<table border=\"1\" class=\"dataframe\">\n",
       "  <thead>\n",
       "    <tr style=\"text-align: right;\">\n",
       "      <th></th>\n",
       "      <th>Date</th>\n",
       "      <th>Wsp_44m</th>\n",
       "      <th>Wdir_41m</th>\n",
       "      <th>ActPow</th>\n",
       "      <th>RePow</th>\n",
       "      <th>ActPow_std</th>\n",
       "      <th>Wsp_44m_std</th>\n",
       "      <th>Wdir_41m_std</th>\n",
       "      <th>stability</th>\n",
       "    </tr>\n",
       "  </thead>\n",
       "  <tbody>\n",
       "    <tr>\n",
       "      <th>count</th>\n",
       "      <td>48850</td>\n",
       "      <td>48850.000000</td>\n",
       "      <td>48850.000000</td>\n",
       "      <td>48850.000000</td>\n",
       "      <td>48850.000000</td>\n",
       "      <td>48850.000000</td>\n",
       "      <td>48850.000000</td>\n",
       "      <td>48850.000000</td>\n",
       "      <td>48850.000000</td>\n",
       "    </tr>\n",
       "    <tr>\n",
       "      <th>mean</th>\n",
       "      <td>2018-07-04 16:23:21.641760512</td>\n",
       "      <td>5.576675</td>\n",
       "      <td>192.635707</td>\n",
       "      <td>144.472955</td>\n",
       "      <td>-0.068813</td>\n",
       "      <td>37.861227</td>\n",
       "      <td>0.826052</td>\n",
       "      <td>8.409560</td>\n",
       "      <td>0.546551</td>\n",
       "    </tr>\n",
       "    <tr>\n",
       "      <th>min</th>\n",
       "      <td>2018-01-01 00:00:00</td>\n",
       "      <td>0.503833</td>\n",
       "      <td>0.001286</td>\n",
       "      <td>-27.466700</td>\n",
       "      <td>-5.744410</td>\n",
       "      <td>0.000000</td>\n",
       "      <td>0.000000</td>\n",
       "      <td>0.000000</td>\n",
       "      <td>0.000000</td>\n",
       "    </tr>\n",
       "    <tr>\n",
       "      <th>25%</th>\n",
       "      <td>2018-03-28 06:32:30</td>\n",
       "      <td>3.622665</td>\n",
       "      <td>124.865250</td>\n",
       "      <td>-0.390690</td>\n",
       "      <td>-0.002633</td>\n",
       "      <td>0.714484</td>\n",
       "      <td>0.446510</td>\n",
       "      <td>5.612315</td>\n",
       "      <td>0.000000</td>\n",
       "    </tr>\n",
       "    <tr>\n",
       "      <th>50%</th>\n",
       "      <td>2018-07-14 11:15:00</td>\n",
       "      <td>5.175870</td>\n",
       "      <td>198.935000</td>\n",
       "      <td>60.128300</td>\n",
       "      <td>-0.000510</td>\n",
       "      <td>22.103300</td>\n",
       "      <td>0.722568</td>\n",
       "      <td>7.410195</td>\n",
       "      <td>1.000000</td>\n",
       "    </tr>\n",
       "    <tr>\n",
       "      <th>75%</th>\n",
       "      <td>2018-10-07 13:07:30</td>\n",
       "      <td>7.055505</td>\n",
       "      <td>266.137750</td>\n",
       "      <td>183.379000</td>\n",
       "      <td>0.002380</td>\n",
       "      <td>54.066950</td>\n",
       "      <td>1.094393</td>\n",
       "      <td>9.740340</td>\n",
       "      <td>1.000000</td>\n",
       "    </tr>\n",
       "    <tr>\n",
       "      <th>max</th>\n",
       "      <td>2019-01-01 00:00:00</td>\n",
       "      <td>19.720000</td>\n",
       "      <td>359.997000</td>\n",
       "      <td>867.900000</td>\n",
       "      <td>11.800000</td>\n",
       "      <td>408.458000</td>\n",
       "      <td>4.028130</td>\n",
       "      <td>57.136100</td>\n",
       "      <td>1.000000</td>\n",
       "    </tr>\n",
       "    <tr>\n",
       "      <th>std</th>\n",
       "      <td>NaN</td>\n",
       "      <td>2.776049</td>\n",
       "      <td>88.923497</td>\n",
       "      <td>207.577375</td>\n",
       "      <td>0.616599</td>\n",
       "      <td>46.892570</td>\n",
       "      <td>0.519013</td>\n",
       "      <td>4.727177</td>\n",
       "      <td>0.497833</td>\n",
       "    </tr>\n",
       "  </tbody>\n",
       "</table>\n",
       "</div>"
      ],
      "text/plain": [
       "                                Date       Wsp_44m      Wdir_41m  \\\n",
       "count                          48850  48850.000000  48850.000000   \n",
       "mean   2018-07-04 16:23:21.641760512      5.576675    192.635707   \n",
       "min              2018-01-01 00:00:00      0.503833      0.001286   \n",
       "25%              2018-03-28 06:32:30      3.622665    124.865250   \n",
       "50%              2018-07-14 11:15:00      5.175870    198.935000   \n",
       "75%              2018-10-07 13:07:30      7.055505    266.137750   \n",
       "max              2019-01-01 00:00:00     19.720000    359.997000   \n",
       "std                              NaN      2.776049     88.923497   \n",
       "\n",
       "             ActPow         RePow    ActPow_std   Wsp_44m_std  Wdir_41m_std  \\\n",
       "count  48850.000000  48850.000000  48850.000000  48850.000000  48850.000000   \n",
       "mean     144.472955     -0.068813     37.861227      0.826052      8.409560   \n",
       "min      -27.466700     -5.744410      0.000000      0.000000      0.000000   \n",
       "25%       -0.390690     -0.002633      0.714484      0.446510      5.612315   \n",
       "50%       60.128300     -0.000510     22.103300      0.722568      7.410195   \n",
       "75%      183.379000      0.002380     54.066950      1.094393      9.740340   \n",
       "max      867.900000     11.800000    408.458000      4.028130     57.136100   \n",
       "std      207.577375      0.616599     46.892570      0.519013      4.727177   \n",
       "\n",
       "          stability  \n",
       "count  48850.000000  \n",
       "mean       0.546551  \n",
       "min        0.000000  \n",
       "25%        0.000000  \n",
       "50%        1.000000  \n",
       "75%        1.000000  \n",
       "max        1.000000  \n",
       "std        0.497833  "
      ]
     },
     "execution_count": 61,
     "metadata": {},
     "output_type": "execute_result"
    }
   ],
   "source": [
    "df.describe()"
   ]
  },
  {
   "cell_type": "markdown",
   "metadata": {
    "id": "oIWhNC8jyZ91"
   },
   "source": [
    "### 3.1 Univariate analysis (creating plots using matplotlib)"
   ]
  },
  {
   "cell_type": "markdown",
   "metadata": {
    "id": "7zX9CHyhyZ92"
   },
   "source": [
    "Univariate analysis is the simplest form of analyzing data. Your data has only one variable. It doesn't deal with causes or relationships and its primary purpose is to describe the variable's **distribution**, summarize its central tendency, and assess its variability. \n",
    "In general the univariate analysis allows to describe each single variable in the **frequency dimension**, looking at its statistical distribution, and in the **time dimension**, in case the variable has some time-dependence.\n",
    "\n",
    "Looking at our dataset, all the variables are **time-series** data with a unique time dependency. Therefore the univariate analysis in both dimensions can be carried out.\n",
    "\n",
    "Our dataset mainly contains all numerical variables, but one ***stability*** which is a binary variable [0,1] and therefore categorical."
   ]
  },
  {
   "cell_type": "markdown",
   "metadata": {},
   "source": [
    "Let's start from the analysis of the categorical variable."
   ]
  },
  {
   "cell_type": "code",
   "execution_count": 66,
   "metadata": {
    "id": "7NMnv1swyZ93"
   },
   "outputs": [
    {
     "data": {
      "text/plain": [
       "stability\n",
       "1.0    26699\n",
       "0.0    22151\n",
       "Name: count, dtype: int64"
      ]
     },
     "execution_count": 66,
     "metadata": {},
     "output_type": "execute_result"
    }
   ],
   "source": [
    "# stability var\n",
    "count = df['stability'].value_counts()\n",
    "count"
   ]
  },
  {
   "cell_type": "markdown",
   "metadata": {
    "id": "Dqnp3QihyZ93"
   },
   "source": [
    "First we want to describe the variable in the frequency domain.\n",
    "What is the best chart to plot the distribution of a binary variablelike stability? A **barplot** or **barchart** would work in this case."
   ]
  },
  {
   "cell_type": "code",
   "execution_count": 69,
   "metadata": {
    "id": "_lboADV5yZ94"
   },
   "outputs": [
    {
     "data": {
      "image/png": "[encoded data removed]",
      "text/plain": [
       "<Figure size 640x480 with 1 Axes>"
      ]
     },
     "metadata": {},
     "output_type": "display_data"
    }
   ],
   "source": [
    "# frequency domain - distribution with barplots\n",
    "plt.figure()\n",
    "count.sort_index().plot(kind='bar')\n",
    "plt.title('Stability Status')\n",
    "plt.xlabel('status')\n",
    "plt.ylabel('N# of observation')\n",
    "plt.show()"
   ]
  },
  {
   "cell_type": "markdown",
   "metadata": {},
   "source": [
    "Instead, an analysis of the variable on a time domain is basically creating a time-series chart of the variable."
   ]
  },
  {
   "cell_type": "code",
   "execution_count": 71,
   "metadata": {},
   "outputs": [
    {
     "data": {
      "image/png": "[encoded data removed]",
      "text/plain": [
       "<Figure size 1500x400 with 1 Axes>"
      ]
     },
     "metadata": {},
     "output_type": "display_data"
    }
   ],
   "source": [
    "# Time domain - time series plot\n",
    "plt.figure(figsize=(15, 4))\n",
    "plt.plot(df['Date'], df['stability'], marker='.', linestyle='')\n",
    "plt.title('Stability Status Time Serie')\n",
    "plt.xlabel('Time')\n",
    "plt.ylabel('Status')\n",
    "plt.show()"
   ]
  },
  {
   "cell_type": "markdown",
   "metadata": {},
   "source": [
    "This chart is difficult to interpret but we can see the holes of data through time."
   ]
  },
  {
   "cell_type": "markdown",
   "metadata": {},
   "source": [
    "On the other side, for the univariate analysis of a numerical variable, there are a couple of options to plot its distribution. The time-series plot remains identical to the previous one.\n",
    "\n",
    "1) *Histogram*: Shows the frequency distribution of the data across intervals (bins).\n",
    "\n",
    "2) *Box Plot*: Summarizes distribution, highlighting median, quartiles, and outliers.\n",
    "\n",
    "3) *Density Plot* (KDE - Kernel Density Estimation.): Smooth curve representing the probability density of the variable.\n",
    "\n",
    "4) *Violin Plot*: Combines box plot and density plot.\n",
    "\n",
    "Let's take as example the variable active power (*ActPow*)."
   ]
  },
  {
   "cell_type": "code",
   "execution_count": 75,
   "metadata": {},
   "outputs": [
    {
     "data": {
      "image/png": "[encoded data removed]",
      "text/plain": [
       "<Figure size 640x480 with 1 Axes>"
      ]
     },
     "metadata": {},
     "output_type": "display_data"
    }
   ],
   "source": [
    "# Histogram of ActPow\n",
    "data = df['ActPow']\n",
    "plt.hist(data, bins=10, edgecolor='k')\n",
    "plt.xlabel('Value [kW]')\n",
    "plt.ylabel('Frequency')\n",
    "plt.title('Histogram of Numerical Variable')\n",
    "plt.show()"
   ]
  },
  {
   "cell_type": "code",
   "execution_count": 77,
   "metadata": {},
   "outputs": [
    {
     "data": {
      "image/png": "[encoded data removed]",
      "text/plain": [
       "<Figure size 640x480 with 1 Axes>"
      ]
     },
     "metadata": {},
     "output_type": "display_data"
    }
   ],
   "source": [
    "# Boxplot of ActPow\n",
    "plt.boxplot(data)\n",
    "plt.title('Box Plot of Numerical Variable')\n",
    "plt.ylabel('Value [kW]')\n",
    "plt.show()"
   ]
  },
  {
   "cell_type": "code",
   "execution_count": 78,
   "metadata": {},
   "outputs": [
    {
     "data": {
      "image/png": "[encoded data removed]",
      "text/plain": [
       "<Figure size 640x480 with 1 Axes>"
      ]
     },
     "metadata": {},
     "output_type": "display_data"
    }
   ],
   "source": [
    "# KDE plot of ActPow\n",
    "import seaborn as sns\n",
    "sns.kdeplot(data)\n",
    "plt.title('Density Plot of Numerical Variable')\n",
    "plt.xlabel('Value [kW]')\n",
    "plt.ylabel('Density')\n",
    "plt.show()"
   ]
  },
  {
   "cell_type": "code",
   "execution_count": 79,
   "metadata": {},
   "outputs": [
    {
     "data": {
      "image/png": "[encoded data removed]",
      "text/plain": [
       "<Figure size 640x480 with 1 Axes>"
      ]
     },
     "metadata": {},
     "output_type": "display_data"
    }
   ],
   "source": [
    "# Violin plot of ActPow\n",
    "sns.violinplot(data=data)\n",
    "plt.title('Violin Plot of Numerical Variable')\n",
    "plt.ylabel('Value [kW]')\n",
    "plt.show()"
   ]
  },
  {
   "cell_type": "markdown",
   "metadata": {},
   "source": [
    "While in the time domain:"
   ]
  },
  {
   "cell_type": "code",
   "execution_count": 83,
   "metadata": {},
   "outputs": [
    {
     "data": {
      "image/png": "[encoded data removed]",
      "text/plain": [
       "<Figure size 1500x400 with 1 Axes>"
      ]
     },
     "metadata": {},
     "output_type": "display_data"
    }
   ],
   "source": [
    "# Time domain - time series plot\n",
    "plt.figure(figsize=(15, 4))\n",
    "plt.plot(df['Date'], df['ActPow'], marker='.', linestyle='')\n",
    "plt.title('Stability Status Time Serie')\n",
    "plt.xlabel('Time')\n",
    "plt.ylabel('Status')\n",
    "plt.show()"
   ]
  },
  {
   "cell_type": "markdown",
   "metadata": {
    "id": "FIqn4qYDyZ98"
   },
   "source": [
    "For a better visualization, you can improve your plotting code as this example"
   ]
  },
  {
   "cell_type": "code",
   "execution_count": 85,
   "metadata": {
    "id": "7xg5LmSJyZ99"
   },
   "outputs": [
    {
     "data": {
      "image/png": "[encoded data removed]",
      "text/plain": [
       "<Figure size 1000x500 with 1 Axes>"
      ]
     },
     "metadata": {},
     "output_type": "display_data"
    }
   ],
   "source": [
    "plt.style.use('ggplot')\n",
    "plt.figure(figsize=(10,5))\n",
    "plt.plot(df['Date'][0:6*24*7], df['ActPow'][0:6*24*7], linewidth=0.9, color= 'cornflowerblue')\n",
    "plt.title('Power Output for V52 Turbine (01/01-08/01)')\n",
    "plt.xlabel('Date')\n",
    "plt.ylabel('Power output [kW]')\n",
    "plt.legend(['V52 Power output'])\n",
    "plt.savefig('./images/V52_Plot.png', dpi=300)\n",
    "plt.show()\n",
    "\n",
    "# NB: if you want to both plot in console and save the figure you should place *plt.show()* only after the *savefig* command"
   ]
  },
  {
   "cell_type": "markdown",
   "metadata": {
    "id": "s1WfEvOIyZ99"
   },
   "source": [
    "Explore some different plots. Go and check out https://www.python-graph-gallery.com/ for some suggestions/inspiration on which plot to choose and how to generate it in python! The tool is really helpul and gives already pre-made working code."
   ]
  },
  {
   "cell_type": "markdown",
   "metadata": {},
   "source": [
    "As regard the frequency domain, for example plotting both distibutions on the same figure:"
   ]
  },
  {
   "cell_type": "code",
   "execution_count": 88,
   "metadata": {
    "id": "Mfopn43dyZ99"
   },
   "outputs": [
    {
     "data": {
      "image/png": "[encoded data removed]",
      "text/plain": [
       "<Figure size 1000x500 with 1 Axes>"
      ]
     },
     "metadata": {},
     "output_type": "display_data"
    }
   ],
   "source": [
    "plt.figure(figsize=(10,5))\n",
    "plt.title('Comparison of probability distributions')\n",
    "fig = sns.kdeplot(df['Wsp_44m'], fill=True, color=\"r\", label=\"Wsp_44m\")\n",
    "fig = sns.kdeplot(df['Wsp_44m_std'], fill=True, color=\"b\", label=\"Wsp_44m_std\")\n",
    "plt.legend()\n",
    "plt.show()"
   ]
  },
  {
   "cell_type": "markdown",
   "metadata": {},
   "source": [
    "#### Exercize: Try it yourself"
   ]
  },
  {
   "cell_type": "markdown",
   "metadata": {},
   "source": [
    "Pick some other variables of your choice and perform the univariate analysis in the time and frequency domain.\n",
    "Note down some comments if it is the case."
   ]
  },
  {
   "cell_type": "code",
   "execution_count": 91,
   "metadata": {
    "id": "QlGsWl9ZyZ9-"
   },
   "outputs": [
    {
     "data": {
      "text/html": [
       "<div>\n",
       "<style scoped>\n",
       "    .dataframe tbody tr th:only-of-type {\n",
       "        vertical-align: middle;\n",
       "    }\n",
       "\n",
       "    .dataframe tbody tr th {\n",
       "        vertical-align: top;\n",
       "    }\n",
       "\n",
       "    .dataframe thead th {\n",
       "        text-align: right;\n",
       "    }\n",
       "</style>\n",
       "<table border=\"1\" class=\"dataframe\">\n",
       "  <thead>\n",
       "    <tr style=\"text-align: right;\">\n",
       "      <th></th>\n",
       "      <th>Date</th>\n",
       "      <th>Wsp_44m</th>\n",
       "      <th>Wdir_41m</th>\n",
       "      <th>ActPow</th>\n",
       "      <th>RePow</th>\n",
       "      <th>ActPow_std</th>\n",
       "      <th>Wsp_44m_std</th>\n",
       "      <th>Wdir_41m_std</th>\n",
       "      <th>stability</th>\n",
       "    </tr>\n",
       "  </thead>\n",
       "  <tbody>\n",
       "    <tr>\n",
       "      <th>0</th>\n",
       "      <td>2018-01-01 00:00:00</td>\n",
       "      <td>4.71803</td>\n",
       "      <td>200.743</td>\n",
       "      <td>64.6673</td>\n",
       "      <td>0.000860</td>\n",
       "      <td>33.4251</td>\n",
       "      <td>0.566131</td>\n",
       "      <td>6.45730</td>\n",
       "      <td>1.0</td>\n",
       "    </tr>\n",
       "    <tr>\n",
       "      <th>1</th>\n",
       "      <td>2018-01-01 00:10:00</td>\n",
       "      <td>5.44100</td>\n",
       "      <td>201.768</td>\n",
       "      <td>70.8152</td>\n",
       "      <td>-0.000657</td>\n",
       "      <td>26.3829</td>\n",
       "      <td>0.765691</td>\n",
       "      <td>6.66940</td>\n",
       "      <td>1.0</td>\n",
       "    </tr>\n",
       "    <tr>\n",
       "      <th>2</th>\n",
       "      <td>2018-01-01 00:20:00</td>\n",
       "      <td>5.32178</td>\n",
       "      <td>197.962</td>\n",
       "      <td>80.8037</td>\n",
       "      <td>-0.000617</td>\n",
       "      <td>30.2002</td>\n",
       "      <td>0.603442</td>\n",
       "      <td>6.99113</td>\n",
       "      <td>1.0</td>\n",
       "    </tr>\n",
       "    <tr>\n",
       "      <th>3</th>\n",
       "      <td>2018-01-01 00:30:00</td>\n",
       "      <td>5.95325</td>\n",
       "      <td>204.606</td>\n",
       "      <td>86.1123</td>\n",
       "      <td>-0.002370</td>\n",
       "      <td>43.1192</td>\n",
       "      <td>0.872915</td>\n",
       "      <td>5.47062</td>\n",
       "      <td>1.0</td>\n",
       "    </tr>\n",
       "    <tr>\n",
       "      <th>4</th>\n",
       "      <td>2018-01-01 00:40:00</td>\n",
       "      <td>6.17765</td>\n",
       "      <td>204.398</td>\n",
       "      <td>110.8570</td>\n",
       "      <td>0.001033</td>\n",
       "      <td>29.9507</td>\n",
       "      <td>0.550160</td>\n",
       "      <td>4.93713</td>\n",
       "      <td>1.0</td>\n",
       "    </tr>\n",
       "  </tbody>\n",
       "</table>\n",
       "</div>"
      ],
      "text/plain": [
       "                 Date  Wsp_44m  Wdir_41m    ActPow     RePow  ActPow_std  \\\n",
       "0 2018-01-01 00:00:00  4.71803   200.743   64.6673  0.000860     33.4251   \n",
       "1 2018-01-01 00:10:00  5.44100   201.768   70.8152 -0.000657     26.3829   \n",
       "2 2018-01-01 00:20:00  5.32178   197.962   80.8037 -0.000617     30.2002   \n",
       "3 2018-01-01 00:30:00  5.95325   204.606   86.1123 -0.002370     43.1192   \n",
       "4 2018-01-01 00:40:00  6.17765   204.398  110.8570  0.001033     29.9507   \n",
       "\n",
       "   Wsp_44m_std  Wdir_41m_std  stability  \n",
       "0     0.566131       6.45730        1.0  \n",
       "1     0.765691       6.66940        1.0  \n",
       "2     0.603442       6.99113        1.0  \n",
       "3     0.872915       5.47062        1.0  \n",
       "4     0.550160       4.93713        1.0  "
      ]
     },
     "execution_count": 91,
     "metadata": {},
     "output_type": "execute_result"
    }
   ],
   "source": [
    "df.head()"
   ]
  },
  {
   "cell_type": "code",
   "execution_count": 221,
   "metadata": {
    "id": "bErfEVNRyZ9_"
   },
   "outputs": [
    {
     "data": {
      "image/png": "[encoded data removed]",
      "text/plain": [
       "<Figure size 1000x500 with 1 Axes>"
      ]
     },
     "metadata": {},
     "output_type": "display_data"
    }
   ],
   "source": [
    "# Var RePow\n",
    "# Your code here:\n",
    "plt.style.use('ggplot')\n",
    "plt.figure(figsize=(10,5))\n",
    "plt.plot(df['Date'][0:6*24*7], df['RePow'][0:6*24*7], linewidth=0.9, color= 'red')\n",
    "plt.title('Power Output for V52 Turbine (01/01-08/01)')\n",
    "plt.xlabel('Date')\n",
    "plt.ylabel('Power output [kW]')\n",
    "plt.legend(['V52 Power output'])\n",
    "plt.savefig('./images/V52_Plot.png', dpi=300)\n",
    "plt.show()"
   ]
  },
  {
   "cell_type": "code",
   "execution_count": 1,
   "metadata": {
    "id": "ELi0NBCPyZ9_"
   },
   "outputs": [
    {
     "ename": "NameError",
     "evalue": "name 'plt' is not defined",
     "output_type": "error",
     "traceback": [
      "\u001b[1;31m---------------------------------------------------------------------------\u001b[0m",
      "\u001b[1;31mNameError\u001b[0m                                 Traceback (most recent call last)",
      "Cell \u001b[1;32mIn[1], line 3\u001b[0m\n\u001b[0;32m      1\u001b[0m \u001b[38;5;66;03m# Var ActPow_std\u001b[39;00m\n\u001b[0;32m      2\u001b[0m \u001b[38;5;66;03m# Your code here:\u001b[39;00m\n\u001b[1;32m----> 3\u001b[0m plt\u001b[38;5;241m.\u001b[39mstyle\u001b[38;5;241m.\u001b[39muse(\u001b[38;5;124m'\u001b[39m\u001b[38;5;124mggplot\u001b[39m\u001b[38;5;124m'\u001b[39m)\n\u001b[0;32m      4\u001b[0m plt\u001b[38;5;241m.\u001b[39mfigure(figsize\u001b[38;5;241m=\u001b[39m(\u001b[38;5;241m10\u001b[39m,\u001b[38;5;241m5\u001b[39m))\n\u001b[0;32m      5\u001b[0m plt\u001b[38;5;241m.\u001b[39mplot(df[\u001b[38;5;124m'\u001b[39m\u001b[38;5;124mDate\u001b[39m\u001b[38;5;124m'\u001b[39m][\u001b[38;5;241m0\u001b[39m:\u001b[38;5;241m6\u001b[39m\u001b[38;5;241m*\u001b[39m\u001b[38;5;241m24\u001b[39m\u001b[38;5;241m*\u001b[39m\u001b[38;5;241m7\u001b[39m], df[\u001b[38;5;124m'\u001b[39m\u001b[38;5;124mActPow_std\u001b[39m\u001b[38;5;124m'\u001b[39m][\u001b[38;5;241m0\u001b[39m:\u001b[38;5;241m6\u001b[39m\u001b[38;5;241m*\u001b[39m\u001b[38;5;241m24\u001b[39m\u001b[38;5;241m*\u001b[39m\u001b[38;5;241m7\u001b[39m], linewidth\u001b[38;5;241m=\u001b[39m\u001b[38;5;241m0.9\u001b[39m, color\u001b[38;5;241m=\u001b[39m \u001b[38;5;124m'\u001b[39m\u001b[38;5;124mpurple\u001b[39m\u001b[38;5;124m'\u001b[39m)\n",
      "\u001b[1;31mNameError\u001b[0m: name 'plt' is not defined"
     ]
    }
   ],
   "source": [
    "# Var ActPow_std\n",
    "# Your code here:\n",
    "plt.style.use('ggplot')\n",
    "plt.figure(figsize=(10,5))\n",
    "plt.plot(df['Date'][0:6*24*7], df['ActPow_std'][0:6*24*7], linewidth=0.9, color= 'purple')\n",
    "plt.title('Power Output for V52 Turbine (01/01-08/01)')\n",
    "plt.xlabel('Date')\n",
    "plt.ylabel('Power output [kW]')\n",
    "plt.legend(['V52 Power output'])\n",
    "plt.savefig('./images/V52_Plot.png', dpi=300)\n",
    "plt.show()"
   ]
  },
  {
   "cell_type": "markdown",
   "metadata": {
    "id": "T1rMlFAxyZ-A"
   },
   "source": [
    "Try now to plot all the wind data in the same chart"
   ]
  },
  {
   "cell_type": "code",
   "execution_count": 3,
   "metadata": {
    "id": "iTeYCN2byZ-A"
   },
   "outputs": [
    {
     "ename": "NameError",
     "evalue": "name 'plt' is not defined",
     "output_type": "error",
     "traceback": [
      "\u001b[1;31m---------------------------------------------------------------------------\u001b[0m",
      "\u001b[1;31mNameError\u001b[0m                                 Traceback (most recent call last)",
      "Cell \u001b[1;32mIn[3], line 1\u001b[0m\n\u001b[1;32m----> 1\u001b[0m plt\u001b[38;5;241m.\u001b[39mstyle\u001b[38;5;241m.\u001b[39muse(\u001b[38;5;124m'\u001b[39m\u001b[38;5;124mggplot\u001b[39m\u001b[38;5;124m'\u001b[39m)\n\u001b[0;32m      2\u001b[0m plt\u001b[38;5;241m.\u001b[39mfigure(figsize\u001b[38;5;241m=\u001b[39m(\u001b[38;5;241m10\u001b[39m,\u001b[38;5;241m5\u001b[39m))\n\u001b[0;32m      3\u001b[0m plt\u001b[38;5;241m.\u001b[39mplot(df[\u001b[38;5;124m'\u001b[39m\u001b[38;5;124mDate\u001b[39m\u001b[38;5;124m'\u001b[39m][\u001b[38;5;241m0\u001b[39m:\u001b[38;5;241m6\u001b[39m\u001b[38;5;241m*\u001b[39m\u001b[38;5;241m24\u001b[39m\u001b[38;5;241m*\u001b[39m\u001b[38;5;241m7\u001b[39m], df[\u001b[38;5;124m'\u001b[39m\u001b[38;5;124mRePow\u001b[39m\u001b[38;5;124m'\u001b[39m][\u001b[38;5;241m0\u001b[39m:\u001b[38;5;241m6\u001b[39m\u001b[38;5;241m*\u001b[39m\u001b[38;5;241m24\u001b[39m\u001b[38;5;241m*\u001b[39m\u001b[38;5;241m7\u001b[39m], linewidth\u001b[38;5;241m=\u001b[39m\u001b[38;5;241m0.9\u001b[39m, color\u001b[38;5;241m=\u001b[39m \u001b[38;5;124m'\u001b[39m\u001b[38;5;124mred\u001b[39m\u001b[38;5;124m'\u001b[39m, label\u001b[38;5;241m=\u001b[39m\u001b[38;5;124m'\u001b[39m\u001b[38;5;124mRePow\u001b[39m\u001b[38;5;124m'\u001b[39m)\n",
      "\u001b[1;31mNameError\u001b[0m: name 'plt' is not defined"
     ]
    }
   ],
   "source": [
    "plt.style.use('ggplot')\n",
    "plt.figure(figsize=(10,5))\n",
    "plt.plot(df['Date'][0:6*24*7], df['RePow'][0:6*24*7], linewidth=0.9, color= 'red', label='RePow')\n",
    "plt.plot(df['Date'][0:6*24*7], df['ActPow_std'][0:6*24*7], linewidth=0.9, color= 'purple', label='ActPow_std')\n",
    "plt.title('Power Output for V52 Turbine (01/01-08/01)')\n",
    "plt.xlabel('Date')\n",
    "plt.ylabel('Power output [kW]')\n",
    "plt.legend()\n",
    "plt.savefig('./images/V52_Plot.png', dpi=300)\n",
    "plt.show()"
   ]
  },
  {
   "cell_type": "markdown",
   "metadata": {
    "id": "JMWR0kPSyZ-B"
   },
   "source": [
    "Try now to plot all both active power and reactive power in the same chart"
   ]
  },
  {
   "cell_type": "code",
   "execution_count": 6,
   "metadata": {
    "id": "a7P4kMD1yZ-B"
   },
   "outputs": [],
   "source": [
    "# Your code here:"
   ]
  },
  {
   "cell_type": "code",
   "execution_count": null,
   "metadata": {},
   "outputs": [],
   "source": []
  },
  {
   "cell_type": "markdown",
   "metadata": {
    "id": "OHzIIkelyZ94"
   },
   "source": [
    "### 3.2 Bivariate analysis (creating plots using seaborn)"
   ]
  },
  {
   "cell_type": "markdown",
   "metadata": {},
   "source": [
    "Bivariate analysis is one of the simplest forms of quantitative (statistical) analysis. It involves the analysis of two variables (often denoted as X, Y), for the purpose of determining the empirical relationship between them.\n"
   ]
  },
  {
   "cell_type": "markdown",
   "metadata": {},
   "source": [
    "A useful tool to perform a quick-and-dirty exploratory data analysis is the **pairplot**. Here available with the *seaborn* library. This command create a multiple chart with every feature plotted against all the others. In the matrix-style in which the plot is presented, the diagonal *(i,i)* is filled with the probability density function of the respective variable *i*, highlighting its distribution (univariate analysis).\n",
    "Off-diagonal elements instead represent the relation between all the variables in pairs. The final effect is a quick bivariate analysis for all the pairs of variables.\n",
    "NB: mind that this command takes a lot of time."
   ]
  },
  {
   "cell_type": "code",
   "execution_count": 12,
   "metadata": {
    "id": "vdRRFX9xyZ9y"
   },
   "outputs": [],
   "source": [
    "import seaborn as sns\n",
    "sns.set()"
   ]
  },
  {
   "cell_type": "code",
   "execution_count": 13,
   "metadata": {
    "id": "ggot3Qg2yZ9z"
   },
   "outputs": [
    {
     "ename": "NameError",
     "evalue": "name 'df' is not defined",
     "output_type": "error",
     "traceback": [
      "\u001b[1;31m---------------------------------------------------------------------------\u001b[0m",
      "\u001b[1;31mNameError\u001b[0m                                 Traceback (most recent call last)",
      "Cell \u001b[1;32mIn[13], line 1\u001b[0m\n\u001b[1;32m----> 1\u001b[0m indp_vars_df \u001b[38;5;241m=\u001b[39m df\u001b[38;5;241m.\u001b[39miloc[:, \u001b[38;5;241m1\u001b[39m:]\n\u001b[0;32m      2\u001b[0m indp_vars_df\u001b[38;5;241m.\u001b[39mhead()\n",
      "\u001b[1;31mNameError\u001b[0m: name 'df' is not defined"
     ]
    }
   ],
   "source": [
    "indp_vars_df = df.iloc[:, 1:]\n",
    "indp_vars_df.head()"
   ]
  },
  {
   "cell_type": "code",
   "execution_count": null,
   "metadata": {
    "id": "Luu7zBmVyZ90",
    "scrolled": true
   },
   "outputs": [],
   "source": [
    "# uncomment next line to use\n",
    "#sns.pairplot(indp_vars)"
   ]
  },
  {
   "cell_type": "markdown",
   "metadata": {
    "id": "z8rrUU1gyZ90"
   },
   "source": [
    "Is there anything we can conclude from this first view?\n",
    "\n",
    "Some variable are correlated, and might show a linear dependency.\n",
    "Power output and wind speed forms the typical S-shaped curve typical of wind turbines."
   ]
  },
  {
   "cell_type": "markdown",
   "metadata": {},
   "source": [
    "Let's have a look at the correlation between the variables. We can look at coefficient such as the **Pearson** or **Spearman** for each pairs of variables."
   ]
  },
  {
   "cell_type": "code",
   "execution_count": null,
   "metadata": {},
   "outputs": [],
   "source": [
    "# Calculate the correlation matrix\n",
    "correlation_matrix = indp_vars_df.corr(method='pearson')"
   ]
  },
  {
   "cell_type": "code",
   "execution_count": null,
   "metadata": {},
   "outputs": [],
   "source": [
    "# Plot the heatmap\n",
    "plt.figure(figsize=(8, 6))\n",
    "plt.imshow(correlation_matrix, cmap='coolwarm', interpolation='none')\n",
    "plt.colorbar(label='Pearson Correlation Coefficient')\n",
    "plt.xticks(range(len(correlation_matrix)), correlation_matrix.columns, rotation=45, ha='right')\n",
    "plt.yticks(range(len(correlation_matrix)), correlation_matrix.columns)\n",
    "plt.title('Correlation Matrix Heatmap')\n",
    "plt.tight_layout()\n",
    "plt.show()"
   ]
  },
  {
   "cell_type": "markdown",
   "metadata": {},
   "source": [
    "The **Pearson correlation coefficient (r)** measures the strength and direction of the linear relationship between two variables. It ranges from **-1 to 1**:\n",
    "\n",
    "- **r = 1**: Perfect positive linear relationship (as one variable increases, the other increases proportionally).\n",
    "- **r = -1**: Perfect negative linear relationship (as one variable increases, the other decreases proportionally).\n",
    "- **r = 0**: No linear relationship between the variables.\n",
    "\n",
    "It is calculated as the covariance of the two variables divided by the product of their standard deviations. Pearson’s correlation assumes the relationship is linear and both variables are continuous and normally distributed."
   ]
  },
  {
   "cell_type": "markdown",
   "metadata": {},
   "source": [
    "NB: The **Covariance** also measures the direction of the linear relationship between two variables, but its value depends on the units of the variables, making it difficult to compare across datasets. The Pearson correlation instead is the **standardized version of covariance**, dividing the covariance by the product of the variables' standard deviations. This normalizes the value to range between -1 and 1, making it easier to interpret and compare."
   ]
  },
  {
   "cell_type": "markdown",
   "metadata": {},
   "source": [
    "The formula for the **Pearson correlation coefficient (\\(r\\))** between two variables \\(X\\) and \\(Y\\) is:\n",
    "\n",
    "$\n",
    "r = \\frac{\\text{Cov}(X, Y)}{\\sigma_X \\cdot \\sigma_Y}\n",
    "$"
   ]
  },
  {
   "cell_type": "markdown",
   "metadata": {},
   "source": [
    "#### Exercize: Try it yourself"
   ]
  },
  {
   "cell_type": "markdown",
   "metadata": {},
   "source": [
    "Now that you have seen already a glimpse of the bivariate analysis on the pairplot, and you know which variables are more correlated and therefore more interesting, pick some pairs of variables of your choice and perform the *bivariate analysis* on selected variables.\n",
    "Produce the charts and note down some comments if it is the case."
   ]
  },
  {
   "cell_type": "code",
   "execution_count": null,
   "metadata": {
    "id": "QlGsWl9ZyZ9-"
   },
   "outputs": [],
   "source": [
    "# Your code here:"
   ]
  },
  {
   "cell_type": "code",
   "execution_count": null,
   "metadata": {
    "id": "bErfEVNRyZ9_"
   },
   "outputs": [],
   "source": [
    "# Your code here:"
   ]
  },
  {
   "cell_type": "code",
   "execution_count": null,
   "metadata": {
    "id": "ELi0NBCPyZ9_"
   },
   "outputs": [],
   "source": [
    "# Your code here:"
   ]
  },
  {
   "cell_type": "code",
   "execution_count": null,
   "metadata": {
    "id": "iTeYCN2byZ-A"
   },
   "outputs": [],
   "source": [
    "# Your code here:"
   ]
  },
  {
   "cell_type": "code",
   "execution_count": null,
   "metadata": {
    "id": "a7P4kMD1yZ-B"
   },
   "outputs": [],
   "source": [
    "# Your code here:"
   ]
  },
  {
   "cell_type": "markdown",
   "metadata": {
    "id": "4FPUAIiIyZ-C"
   },
   "source": [
    "## 4. Interactive data visualization: Plotly"
   ]
  },
  {
   "cell_type": "markdown",
   "metadata": {
    "id": "5Z-Q23DyyZ-D"
   },
   "source": [
    "The plotly Python package is an open-source library built on *plotly.js* (Plotly JavaScript Open Source Graphing Library) which in turn is built on *d3.js* (The JavaScript library for bespoke data visualization).\n",
    "This basically means that working with Plotly we get the efficiency of coding in Python with the incredible interactive graphics capabilities of d3.\n",
    "\n",
    "(Plotly itself is a graphics company with several products and open-source tools. The Python library is free to use, and we can make unlimited charts in offline mode plus up to 25 charts in online mode to share with the world.)"
   ]
  },
  {
   "cell_type": "code",
   "execution_count": 20,
   "metadata": {
    "id": "Wc2BhZbPyZ-D"
   },
   "outputs": [
    {
     "data": {
      "text/html": [
       "        <script type=\"text/javascript\">\n",
       "        window.PlotlyConfig = {MathJaxConfig: 'local'};\n",
       "        if (window.MathJax && window.MathJax.Hub && window.MathJax.Hub.Config) {window.MathJax.Hub.Config({SVG: {font: \"STIX-Web\"}});}\n",
       "        if (typeof require !== 'undefined') {\n",
       "        require.undef(\"plotly\");\n",
       "        requirejs.config({\n",
       "            paths: {\n",
       "                'plotly': ['https://cdn.plot.ly/plotly-2.32.0.min']\n",
       "            }\n",
       "        });\n",
       "        require(['plotly'], function(Plotly) {\n",
       "            window._Plotly = Plotly;\n",
       "        });\n",
       "        }\n",
       "        </script>\n",
       "        "
      ]
     },
     "metadata": {},
     "output_type": "display_data"
    }
   ],
   "source": [
    "# plotly library for interacive plots\n",
    "import plotly.offline as py\n",
    "from plotly import tools\n",
    "import plotly.graph_objs as go\n",
    "import warnings\n",
    "from ipywidgets import widgets\n",
    "from ipywidgets import interact\n",
    "\n",
    "# plotly settings to ignore warnings\n",
    "warnings.filterwarnings('ignore')\n",
    "py.init_notebook_mode(connected=True)"
   ]
  },
  {
   "cell_type": "markdown",
   "metadata": {
    "id": "yMQsFMYQyZ-D"
   },
   "source": [
    "A plotly chart consist basically in 3 objects: traces, layout and the figure itself. The traces are the single subjects/signals to be plotted. More traces may exist in a single plot of course. The layout is the object which stores the plotting details and styles. The figure is the wrapper that contains everything. Let's dig into it step by step."
   ]
  },
  {
   "cell_type": "code",
   "execution_count": 22,
   "metadata": {
    "id": "yyieTUPHyZ-E"
   },
   "outputs": [
    {
     "ename": "NameError",
     "evalue": "name 'df' is not defined",
     "output_type": "error",
     "traceback": [
      "\u001b[1;31m---------------------------------------------------------------------------\u001b[0m",
      "\u001b[1;31mNameError\u001b[0m                                 Traceback (most recent call last)",
      "Cell \u001b[1;32mIn[22], line 3\u001b[0m\n\u001b[0;32m      1\u001b[0m \u001b[38;5;66;03m# create traces\u001b[39;00m\n\u001b[0;32m      2\u001b[0m trace1 \u001b[38;5;241m=\u001b[39m go\u001b[38;5;241m.\u001b[39mScatter(\n\u001b[1;32m----> 3\u001b[0m              x \u001b[38;5;241m=\u001b[39m df[\u001b[38;5;124m'\u001b[39m\u001b[38;5;124mDate\u001b[39m\u001b[38;5;124m'\u001b[39m],\n\u001b[0;32m      4\u001b[0m              y \u001b[38;5;241m=\u001b[39m df[\u001b[38;5;124m'\u001b[39m\u001b[38;5;124mWsp_44m\u001b[39m\u001b[38;5;124m'\u001b[39m],\n\u001b[0;32m      5\u001b[0m              mode \u001b[38;5;241m=\u001b[39m \u001b[38;5;124m'\u001b[39m\u001b[38;5;124mlines\u001b[39m\u001b[38;5;124m'\u001b[39m,\n\u001b[0;32m      6\u001b[0m              name \u001b[38;5;241m=\u001b[39m \u001b[38;5;124m'\u001b[39m\u001b[38;5;124mSpeed\u001b[39m\u001b[38;5;124m'\u001b[39m)\n\u001b[0;32m      8\u001b[0m trace2 \u001b[38;5;241m=\u001b[39m go\u001b[38;5;241m.\u001b[39mScatter(\n\u001b[0;32m      9\u001b[0m             x \u001b[38;5;241m=\u001b[39m df[\u001b[38;5;124m'\u001b[39m\u001b[38;5;124mDate\u001b[39m\u001b[38;5;124m'\u001b[39m],\n\u001b[0;32m     10\u001b[0m             y \u001b[38;5;241m=\u001b[39m df[\u001b[38;5;124m'\u001b[39m\u001b[38;5;124mWdir_41m\u001b[39m\u001b[38;5;124m'\u001b[39m],\n\u001b[0;32m     11\u001b[0m             mode \u001b[38;5;241m=\u001b[39m \u001b[38;5;124m'\u001b[39m\u001b[38;5;124mlines\u001b[39m\u001b[38;5;124m'\u001b[39m,\n\u001b[0;32m     12\u001b[0m             name \u001b[38;5;241m=\u001b[39m \u001b[38;5;124m'\u001b[39m\u001b[38;5;124mDirection\u001b[39m\u001b[38;5;124m'\u001b[39m)\n",
      "\u001b[1;31mNameError\u001b[0m: name 'df' is not defined"
     ]
    }
   ],
   "source": [
    "# create traces\n",
    "trace1 = go.Scatter(\n",
    "             x = df['Date'],\n",
    "             y = df['Wsp_44m'],\n",
    "             mode = 'lines',\n",
    "             name = 'Speed')\n",
    "\n",
    "trace2 = go.Scatter(\n",
    "            x = df['Date'],\n",
    "            y = df['Wdir_41m'],\n",
    "            mode = 'lines',\n",
    "            name = 'Direction')"
   ]
  },
  {
   "cell_type": "code",
   "execution_count": null,
   "metadata": {
    "id": "KIwRO9mLyZ-E"
   },
   "outputs": [],
   "source": [
    "# create layout\n",
    "layout = go.Layout(\n",
    "    title = \"Wind Information\",\n",
    "    xaxis = {'title' : \"Date\"},\n",
    "    yaxis = {'title' : \"Value\"})\n"
   ]
  },
  {
   "cell_type": "markdown",
   "metadata": {
    "id": "grEeABp_yZ-E"
   },
   "source": [
    "Note that the layout object wants python `dictionaries` to store the details"
   ]
  },
  {
   "cell_type": "code",
   "execution_count": 26,
   "metadata": {
    "id": "zj4JpRGbyZ-F"
   },
   "outputs": [
    {
     "ename": "NameError",
     "evalue": "name 'trace1' is not defined",
     "output_type": "error",
     "traceback": [
      "\u001b[1;31m---------------------------------------------------------------------------\u001b[0m",
      "\u001b[1;31mNameError\u001b[0m                                 Traceback (most recent call last)",
      "Cell \u001b[1;32mIn[26], line 2\u001b[0m\n\u001b[0;32m      1\u001b[0m \u001b[38;5;66;03m# create figure\u001b[39;00m\n\u001b[1;32m----> 2\u001b[0m fig \u001b[38;5;241m=\u001b[39m go\u001b[38;5;241m.\u001b[39mFigure(data\u001b[38;5;241m=\u001b[39m[trace1, trace2], layout\u001b[38;5;241m=\u001b[39mlayout)\n\u001b[0;32m      3\u001b[0m \u001b[38;5;66;03m# show figure\u001b[39;00m\n\u001b[0;32m      4\u001b[0m fig\u001b[38;5;241m.\u001b[39mshow()\n",
      "\u001b[1;31mNameError\u001b[0m: name 'trace1' is not defined"
     ]
    }
   ],
   "source": [
    "# create figure\n",
    "fig = go.Figure(data=[trace1, trace2], layout=layout)\n",
    "# show figure\n",
    "fig.show()"
   ]
  },
  {
   "cell_type": "markdown",
   "metadata": {
    "id": "rBr_KfbGyZ-F"
   },
   "source": [
    "You can also directly define the plotly figure structure containing the objects.\n",
    "Mind that only the first 7 days are selected for plotting for the sake of the representation."
   ]
  },
  {
   "cell_type": "code",
   "execution_count": 29,
   "metadata": {
    "id": "5SxcnBK3yZ-F"
   },
   "outputs": [
    {
     "ename": "NameError",
     "evalue": "name 'df' is not defined",
     "output_type": "error",
     "traceback": [
      "\u001b[1;31m---------------------------------------------------------------------------\u001b[0m",
      "\u001b[1;31mNameError\u001b[0m                                 Traceback (most recent call last)",
      "Cell \u001b[1;32mIn[29], line 1\u001b[0m\n\u001b[1;32m----> 1\u001b[0m x_time \u001b[38;5;241m=\u001b[39m df[\u001b[38;5;124m'\u001b[39m\u001b[38;5;124mDate\u001b[39m\u001b[38;5;124m'\u001b[39m][\u001b[38;5;241m0\u001b[39m:\u001b[38;5;241m6\u001b[39m\u001b[38;5;241m*\u001b[39m\u001b[38;5;241m24\u001b[39m\u001b[38;5;241m*\u001b[39m\u001b[38;5;241m7\u001b[39m]                       \u001b[38;5;66;03m# change numbers in brackets to change dates\u001b[39;00m\n\u001b[0;32m      2\u001b[0m y_data \u001b[38;5;241m=\u001b[39m df[\u001b[38;5;124m'\u001b[39m\u001b[38;5;124mActPow\u001b[39m\u001b[38;5;124m'\u001b[39m][\u001b[38;5;241m0\u001b[39m:\u001b[38;5;241m6\u001b[39m\u001b[38;5;241m*\u001b[39m\u001b[38;5;241m24\u001b[39m\u001b[38;5;241m*\u001b[39m\u001b[38;5;241m7\u001b[39m]                     \u001b[38;5;66;03m# change numbers in brackets to change dates\u001b[39;00m\n\u001b[0;32m      4\u001b[0m fig \u001b[38;5;241m=\u001b[39m go\u001b[38;5;241m.\u001b[39mFigure(    \u001b[38;5;66;03m# the \"data\" is a list containing the details of the traces\u001b[39;00m\n\u001b[0;32m      5\u001b[0m         data\u001b[38;5;241m=\u001b[39m[\n\u001b[0;32m      6\u001b[0m             \u001b[38;5;66;03m# first trace\u001b[39;00m\n\u001b[1;32m   (...)\u001b[0m\n\u001b[0;32m     16\u001b[0m         )\n\u001b[0;32m     17\u001b[0m     )\n",
      "\u001b[1;31mNameError\u001b[0m: name 'df' is not defined"
     ]
    }
   ],
   "source": [
    "x_time = df['Date'][0:6*24*7]                       # change numbers in brackets to change dates\n",
    "y_data = df['ActPow'][0:6*24*7]                     # change numbers in brackets to change dates\n",
    "\n",
    "fig = go.Figure(    # the \"data\" is a list containing the details of the traces\n",
    "        data=[\n",
    "            # first trace\n",
    "            go.Scatter(x=x_time, y=y_data, mode='lines', name=\"V52\")\n",
    "            # other traces if needed\n",
    "            ],\n",
    "\n",
    "    # layout\n",
    "        layout=go.Layout(\n",
    "            title=dict(text='Weekly V52 Turbine Power Output'),\n",
    "            xaxis=dict(title='Date'),\n",
    "            yaxis=dict(title='Power Output [kW]')\n",
    "        )\n",
    "    )\n",
    "fig.show()"
   ]
  },
  {
   "cell_type": "markdown",
   "metadata": {
    "id": "7tTJTeF-yZ-G"
   },
   "source": [
    "If you want to save it locally you can do it in HTML format (to be opened in your browser)"
   ]
  },
  {
   "cell_type": "code",
   "execution_count": 32,
   "metadata": {
    "id": "UaT6YXTTyZ-G"
   },
   "outputs": [
    {
     "ename": "NameError",
     "evalue": "name 'fig' is not defined",
     "output_type": "error",
     "traceback": [
      "\u001b[1;31m---------------------------------------------------------------------------\u001b[0m",
      "\u001b[1;31mNameError\u001b[0m                                 Traceback (most recent call last)",
      "Cell \u001b[1;32mIn[32], line 1\u001b[0m\n\u001b[1;32m----> 1\u001b[0m fig\u001b[38;5;241m.\u001b[39mwrite_html(\u001b[38;5;124m\"\u001b[39m\u001b[38;5;124m.\u001b[39m\u001b[38;5;124m\\\u001b[39m\u001b[38;5;124mimages\u001b[39m\u001b[38;5;124m\\\u001b[39m\u001b[38;5;124mActPowVSDate_simple.html\u001b[39m\u001b[38;5;124m\"\u001b[39m)\n",
      "\u001b[1;31mNameError\u001b[0m: name 'fig' is not defined"
     ]
    }
   ],
   "source": [
    "fig.write_html(\".\\images\\ActPowVSDate_simple.html\")"
   ]
  },
  {
   "cell_type": "markdown",
   "metadata": {
    "id": "RjRsx32EyZ-G"
   },
   "source": [
    "If you want to compare more signals and improve the quality of your chart you can use the following code.\n",
    "The poltly library uses the **figure** structure to contain the elements of the chart.\n",
    "The structure can contain **traces**, where new elements are contained and added to the chart, and **layouts**, which contains information on descriptive elements of the chart.\n",
    "Let's have a look at the following example, comparing *active power* versus *reactive power* in the same chart.\n",
    "\n",
    "You can also use the method `add_trace` or `update_layout` to add those objects to an already created `fig` object. It is exactly the same thing as before. Use the method you prefer."
   ]
  },
  {
   "cell_type": "code",
   "execution_count": 35,
   "metadata": {
    "id": "UurnD9XDyZ-H"
   },
   "outputs": [
    {
     "ename": "NameError",
     "evalue": "name 'df' is not defined",
     "output_type": "error",
     "traceback": [
      "\u001b[1;31m---------------------------------------------------------------------------\u001b[0m",
      "\u001b[1;31mNameError\u001b[0m                                 Traceback (most recent call last)",
      "Cell \u001b[1;32mIn[35], line 5\u001b[0m\n\u001b[0;32m      2\u001b[0m fig \u001b[38;5;241m=\u001b[39m go\u001b[38;5;241m.\u001b[39mFigure()\n\u001b[0;32m      4\u001b[0m \u001b[38;5;66;03m# Adding first line for active power\u001b[39;00m\n\u001b[1;32m----> 5\u001b[0m x_time \u001b[38;5;241m=\u001b[39m df[\u001b[38;5;124m'\u001b[39m\u001b[38;5;124mDate\u001b[39m\u001b[38;5;124m'\u001b[39m][\u001b[38;5;241m0\u001b[39m:\u001b[38;5;241m6\u001b[39m\u001b[38;5;241m*\u001b[39m\u001b[38;5;241m24\u001b[39m\u001b[38;5;241m*\u001b[39m\u001b[38;5;241m7\u001b[39m]\n\u001b[0;32m      6\u001b[0m y_data1 \u001b[38;5;241m=\u001b[39m df[\u001b[38;5;124m'\u001b[39m\u001b[38;5;124mActPow\u001b[39m\u001b[38;5;124m'\u001b[39m][\u001b[38;5;241m0\u001b[39m:\u001b[38;5;241m6\u001b[39m\u001b[38;5;241m*\u001b[39m\u001b[38;5;241m24\u001b[39m\u001b[38;5;241m*\u001b[39m\u001b[38;5;241m7\u001b[39m]\n\u001b[0;32m      8\u001b[0m fig\u001b[38;5;241m.\u001b[39madd_trace(go\u001b[38;5;241m.\u001b[39mLine(x\u001b[38;5;241m=\u001b[39mx_time,\n\u001b[0;32m      9\u001b[0m                       y\u001b[38;5;241m=\u001b[39my_data1,\n\u001b[0;32m     10\u001b[0m                       name\u001b[38;5;241m=\u001b[39m\u001b[38;5;124m\"\u001b[39m\u001b[38;5;124mActive Power\u001b[39m\u001b[38;5;124m\"\u001b[39m));\n",
      "\u001b[1;31mNameError\u001b[0m: name 'df' is not defined"
     ]
    }
   ],
   "source": [
    "# Creating figure with Plotly\n",
    "fig = go.Figure()\n",
    "\n",
    "# Adding first line for active power\n",
    "x_time = df['Date'][0:6*24*7]\n",
    "y_data1 = df['ActPow'][0:6*24*7]\n",
    "\n",
    "fig.add_trace(go.Line(x=x_time,\n",
    "                      y=y_data1,\n",
    "                      name=\"Active Power\"));\n",
    "\n",
    "# Adding second line for reactive power\n",
    "x_time = df['Date'][0:6*24*7]\n",
    "y_data2 = df['RePow'][0:6*24*7]\n",
    "\n",
    "fig.add_trace(go.Line(x=x_time,\n",
    "                      y=y_data2,\n",
    "                      name=\"Reactive Power\",\n",
    "                      # you can add some costumizations\n",
    "                      line = dict(color='lightcoral', width=2, dash='dot')));\n",
    "\n",
    "# Setting aesthetics for the plot such as Title and axes labels.\n",
    "fig.update_layout(\n",
    "    title=go.layout.Title(text=\"V52 Wind turbine\", xref=\"paper\", x=0,\n",
    "                          font=dict(family=\"Courier New, monospace\", size=18, color=\"#7f7f7f\")),\n",
    "    xaxis=go.layout.XAxis(title=go.layout.xaxis.Title(text=\"Date\", font=dict(family=\"Courier New, monospace\",\n",
    "                          size=18, color=\"#7f7f7f\"))),\n",
    "    yaxis=go.layout.YAxis(title=go.layout.yaxis.Title(text=\"Active Power [kW] Reactive Power [kvar]\",\n",
    "                          font=dict(family=\"Courier New, monospace\", size=18, color=\"#7f7f7f\"))))\n",
    "\n",
    "fig.show()\n",
    "fig.write_html(\".\\images\\ActPowVSRePow.html\")"
   ]
  },
  {
   "cell_type": "markdown",
   "metadata": {
    "id": "TpxYjlW6yZ-H"
   },
   "source": [
    "Now we’ll get into a few plots that you probably won’t use all that often, but which can be quite impressive. We’ll use the plotly **figure_factory**, to keep even these incredible plots to one line.\n",
    "\n",
    "#### Correlation Heatmaps\n",
    "To visualize the correlations between numeric variables, we calculate the correlations and then make an annotated heatmap"
   ]
  },
  {
   "cell_type": "code",
   "execution_count": 38,
   "metadata": {
    "id": "a1jVx7NgyZ-I"
   },
   "outputs": [
    {
     "ename": "NameError",
     "evalue": "name 'df' is not defined",
     "output_type": "error",
     "traceback": [
      "\u001b[1;31m---------------------------------------------------------------------------\u001b[0m",
      "\u001b[1;31mNameError\u001b[0m                                 Traceback (most recent call last)",
      "Cell \u001b[1;32mIn[38], line 3\u001b[0m\n\u001b[0;32m      1\u001b[0m \u001b[38;5;28;01mimport\u001b[39;00m \u001b[38;5;21;01mplotly\u001b[39;00m\u001b[38;5;21;01m.\u001b[39;00m\u001b[38;5;21;01mfigure_factory\u001b[39;00m \u001b[38;5;28;01mas\u001b[39;00m \u001b[38;5;21;01mff\u001b[39;00m\n\u001b[1;32m----> 3\u001b[0m corrs \u001b[38;5;241m=\u001b[39m df\u001b[38;5;241m.\u001b[39mcorr()\n\u001b[0;32m      4\u001b[0m figure \u001b[38;5;241m=\u001b[39m ff\u001b[38;5;241m.\u001b[39mcreate_annotated_heatmap(\n\u001b[0;32m      5\u001b[0m     z\u001b[38;5;241m=\u001b[39mcorrs\u001b[38;5;241m.\u001b[39mvalues,\n\u001b[0;32m      6\u001b[0m     x\u001b[38;5;241m=\u001b[39m\u001b[38;5;28mlist\u001b[39m(corrs\u001b[38;5;241m.\u001b[39mcolumns),\n\u001b[0;32m      7\u001b[0m     y\u001b[38;5;241m=\u001b[39m\u001b[38;5;28mlist\u001b[39m(corrs\u001b[38;5;241m.\u001b[39mindex),\n\u001b[0;32m      8\u001b[0m     annotation_text\u001b[38;5;241m=\u001b[39mcorrs\u001b[38;5;241m.\u001b[39mround(\u001b[38;5;241m2\u001b[39m)\u001b[38;5;241m.\u001b[39mvalues,\n\u001b[0;32m      9\u001b[0m     showscale\u001b[38;5;241m=\u001b[39m\u001b[38;5;28;01mTrue\u001b[39;00m)\n\u001b[0;32m     10\u001b[0m figure\u001b[38;5;241m.\u001b[39mshow()\n",
      "\u001b[1;31mNameError\u001b[0m: name 'df' is not defined"
     ]
    }
   ],
   "source": [
    "import plotly.figure_factory as ff\n",
    "\n",
    "corrs = df.corr()\n",
    "figure = ff.create_annotated_heatmap(\n",
    "    z=corrs.values,\n",
    "    x=list(corrs.columns),\n",
    "    y=list(corrs.index),\n",
    "    annotation_text=corrs.round(2).values,\n",
    "    showscale=True)\n",
    "figure.show()"
   ]
  },
  {
   "cell_type": "markdown",
   "metadata": {
    "id": "fw0ddHD-yZ-I"
   },
   "source": [
    "#### Exercize: try it yourself"
   ]
  },
  {
   "cell_type": "markdown",
   "metadata": {
    "id": "8flMCatnyZ-I"
   },
   "source": [
    "Try to plot yourself and save others time-dependent variables with **plotly**:"
   ]
  },
  {
   "cell_type": "code",
   "execution_count": null,
   "metadata": {
    "id": "KaoIFf3myZ-J"
   },
   "outputs": [],
   "source": [
    "# choose your variable/variables to be plotted\n",
    "# Your code here:"
   ]
  },
  {
   "cell_type": "code",
   "execution_count": null,
   "metadata": {
    "id": "17isIZ20yZ-J"
   },
   "outputs": [],
   "source": [
    "# choose your variable/variables to be plotted\n",
    "# Your code here:"
   ]
  },
  {
   "cell_type": "markdown",
   "metadata": {
    "id": "ApcNE50hyZ-J"
   },
   "source": [
    "Try to create always more complicated and particular plots with the given data."
   ]
  },
  {
   "cell_type": "code",
   "execution_count": null,
   "metadata": {
    "id": "TgOl3vwUyZ-K"
   },
   "outputs": [],
   "source": [
    "# choose a creative plot with the given data\n",
    "# Your code here:"
   ]
  },
  {
   "cell_type": "markdown",
   "metadata": {
    "id": "4nT3mC9eyZ-K"
   },
   "source": [
    "## 5. Data Storytelling"
   ]
  },
  {
   "cell_type": "markdown",
   "metadata": {
    "id": "bdk515zXyZ-K"
   },
   "source": [
    "In the meanwhile you are trying out some plotting looking at the code above, do not forget to use your own creativity and analysis skills to understand what these data can tell us. Try to look for patterns/correlation between the variables, there might be some interesting facts/stories to tell! Do not forget that the very first powerfull machine learning algorithm is the human mind! And data visualization is the tool which makes this possible.\n",
    "\n",
    "NB: works which investigate, find and properly put in practice data storytelling will get higher marks!"
   ]
  },
  {
   "cell_type": "markdown",
   "metadata": {
    "id": "uNBHQBwxyZ-K"
   },
   "source": [
    "# Part 2: Web Dashboard App with Streamlit"
   ]
  },
  {
   "cell_type": "markdown",
   "metadata": {
    "id": "FzCj3A-lyZ-L"
   },
   "source": [
    "In this part of the lab we are goint to take the data visualization to the next level. Lately, many easy-to-use frameworks to improve data visualization have risen, in particular linked with high level and flexible programming languages like python. **Streamlit** is one those, designed specifically with the idea to be easy to learn. Streamlit is an open source python based framework for developing and deploying interactive data science dashboards app.\n",
    "With only a few lines of pyhton code it is possible to build awesome interactive dashboards for data visualization.\n",
    "\n",
    "https://streamlit.io/\n",
    "\n",
    "Checking out the documentation is strongly advised for those who are beginners and needs assistance with the installation. Docs to get started are available [here](https://docs.streamlit.io/library/get-started).\n",
    "\n",
    "Streamlit also offers a free hosting service for applications in their website. We are going to use this to deploy (for free) our web apps for data visualization and be able to access them anytime online!\n",
    "\n",
    "Pre-requisites to run this part of lab:\n",
    "\n",
    "- A working installation of **python (3.7 - 3.10)** on your machine\n",
    "- An integrated development environment (**IDE**) of your choice is highly recommended\n",
    "- A personal **GitHub** repository\n",
    "\n",
    "Note that the following steps are done *outside* this jupyter notebook as do not involve any scripting coding, but mostly working with the command line.\n",
    "\n",
    "1) **Set up a new virtual environment**. It is good practice to do so when starting a new project. You can create it with **anaconda** or with the package/environment manager you are using.\n",
    "\n",
    "2) Install the **streamlit** package in the newly created virtual environment.\n",
    "\n",
    "3) Install also a couple of others packages for convenience, that we will need to work (*matplotlib, seaborn, plotly, numpy, pandas, plost etc*).\n",
    "\n",
    "After these first three steps, we are already all set to start building our web app with some code. **Please do follow streamlit tutorials to get started**.\n",
    "\n",
    "To help you at this stage it could be quicker to take a pre-made template of a web dashboards to better understand how it is done. Later on , we will costumize it to load our own flow of data.\n",
    "\n",
    "4) Go to [this](https://github.com/andreabragantini/streamlit_test)  GitHub repository and **fork** it on your personal GitHub account. You will have an exact copy of it.\n",
    "\n",
    "6) **Clone** the repository on your local machine and open the files in the IDE of your choice.\n",
    "\n",
    "This last command allows you basically to download the project with the template code inside where to start from. You can also download the template code without having a Github account. Just download the zip folder and extract it in the local directory in your computer where you want to place the web app project. From here, you will need to edit the main script *streamlit_app.py* with the programming tool of your choice, an IDE for instace but also a simple text editor could work. From now on we will not code anymore in a \"scripting\" style, so Jupyter Notebook won't help up with this. When you are developing an application, the app code has to be compiled first. This is why now we won't evaluate line by line our script, but rather run the whole script from outside the development environment. This will allow us to see the modifications on the web-app.\n",
    "\n",
    "5) You need to open a **terminal window**, go to the directory where your streamlit project is stored and run `streamlit run your_script.py`. As soon as you run the script as shown above, a **local Streamlit server** will spin up and your app will open in a new tab in your default web browser (the famous \"localhost\"). Now you can make your own modification to the code and take a look at the changes right away by refreshing the web-page pointing to your hosted local server. This local visualization is your canvas, where you'll experiment drawing charts, text, widgets, tables, and more.\n",
    "\n",
    "Mind that the app that you see there is not \"online\", it's just a web server hosted on your local machine. It is of no-use, except for checking how the changes you made in the code look in the app. That's how you develop a web-app on your local machine. It is a sort of \"preview\" of your project.\n",
    "\n",
    "Once you are satisfied with a first version of your dashboard web app, it is the time to deploy it in cloud server for continous operations. The streamlit website offers a basic free service to deploy web-app designed with streamlit that we can use for our experiments.\n",
    "\n",
    "6) Go the streamlit website and register a new user.\n",
    "\n",
    "7) Go to your personal Github account and create (if you haven't done it before) a new repository, or **commit** and **push** the changes made to the initial template. The repository now must contains the code of the web-app you are developing on you local machine.\n",
    "\n",
    "8) Go to your streamlit personal account and add a `New App`and follow the steps.\n",
    "\n",
    "You will be asked a \"place\" where streamlit server should look for to find the web-app. This place is your GitHub repository. Now, you can point directly to the personal GitHub repository that you have just created, with the new code of the app. Alternatively, just to accomplish this step, you could point to the Github repository you have forked previously (which will appear now between your personal Github repositories). Once confirming everything, you'll see in a few instances the app working and deployed on streamlit servers!\n",
    "\n",
    "Let's now proceeding in editing and finalizing the code of the streamlit app with the purpose of creating our own web dashboard app.\n",
    "\n",
    "9) Anytime you are satisfied with the edits, just **commit and push** to your own repository where the code is stored and the streamlit web server will automatically **deploy** the new edited dashboard!\n",
    "\n",
    "The basic requirements for this part of the lab are: \n",
    "- be able to create a working web app, following the given instructions and online guides \n",
    "- be able move yourself betweeen GitHub and your local IDE developing the code for your web app\n",
    "- accomplish some minor changes to the given web app template. \n",
    "Works that goes beyond this will get a generous plus!"
   ]
  },
  {
   "cell_type": "code",
   "execution_count": null,
   "metadata": {
    "id": "GVjcYWHryZ-M"
   },
   "outputs": [],
   "source": []
  },
  {
   "cell_type": "code",
   "execution_count": null,
   "metadata": {
    "id": "Aape7YsbyZ-M"
   },
   "outputs": [],
   "source": []
  },
  {
   "cell_type": "code",
   "execution_count": null,
   "metadata": {
    "id": "Qs07XKULyZ-M"
   },
   "outputs": [],
   "source": []
  },
  {
   "cell_type": "code",
   "execution_count": null,
   "metadata": {
    "id": "1lWszw8MyZ-N"
   },
   "outputs": [],
   "source": []
  },
  {
   "cell_type": "code",
   "execution_count": null,
   "metadata": {
    "id": "Wj2zW2ngyZ-N"
   },
   "outputs": [],
   "source": []
  },
  {
   "cell_type": "markdown",
   "metadata": {
    "id": "1tJnoxOxyZ-N"
   },
   "source": [
    "# Home Assignment 1"
   ]
  },
  {
   "cell_type": "markdown",
   "metadata": {},
   "source": [
    "#### API + Simple Data Visualization"
   ]
  },
  {
   "cell_type": "markdown",
   "metadata": {
    "id": "7VxKZYLHyZ-N"
   },
   "source": [
    "This assignment correspond to Part VI of Lab 3.\n",
    "Taking back the concepts seen during LAB 3 about how to stream online data from API, I want you to take one free API of your choice (available in RapidAPI marketplace for instance) and create some visualization artifacts with the library the you prefer.\n",
    "\n",
    "The most creative and fancy work wins it all! Enjoy plotting ;)"
   ]
  },
  {
   "cell_type": "code",
   "execution_count": 122,
   "metadata": {
    "id": "F8lT2NhlyZ-N"
   },
   "outputs": [
    {
     "name": "stdout",
     "output_type": "stream",
     "text": [
      "Country name:\n"
     ]
    }
   ],
   "source": [
    "import requests  \n",
    "import pandas as pd\n",
    "import matplotlib.pyplot as plt\n",
    "\n",
    "# Check zones\n",
    "my_token = 'ATSASQPg3AZYu'\n",
    "# check for available zones\n",
    "base_prod_url = \"https://api.electricitymap.org/v3/zones\"\n",
    "\n",
    "# make request (this request works with no token\n",
    "response = requests.get(base_prod_url)\n",
    "response\n",
    "\n",
    "data_dict = response.json()\n",
    "\n",
    "print(\"Country name:\")\n",
    "# Extract abbreviation and name of each country\n",
    "for abbreviation, country_info in data_dict.items():\n",
    "    country_name = country_info[\"zoneName\"]\n",
    "    #print(f\" {country_name}, {abbreviation}\") #Spain is 'ES'"
   ]
  },
  {
   "cell_type": "code",
   "execution_count": 124,
   "metadata": {
    "id": "F8lT2NhlyZ-N"
   },
   "outputs": [
    {
     "name": "stdout",
     "output_type": "stream",
     "text": [
      "<Response [200]>\n"
     ]
    }
   ],
   "source": [
    "# API endpoint and parameters\n",
    "url = 'https://api.electricitymap.org/v3/carbon-intensity/history'\n",
    "headers = {\n",
    "    'auth-token': 'ATSASQPg3AZYu'  \n",
    "}\n",
    "params = {\n",
    "    'zone': 'ES',  \n",
    "}\n",
    "\n",
    "# Fetch data from API\n",
    "response = requests.get(url, headers=headers, params=params)\n",
    "print(response)"
   ]
  },
  {
   "cell_type": "code",
   "execution_count": 125,
   "metadata": {
    "id": "F8lT2NhlyZ-N"
   },
   "outputs": [],
   "source": [
    "data_json = response.json()"
   ]
  },
  {
   "cell_type": "code",
   "execution_count": 128,
   "metadata": {
    "id": "F8lT2NhlyZ-N"
   },
   "outputs": [],
   "source": [
    "data = data_json['history']\n",
    "#print(data)"
   ]
  },
  {
   "cell_type": "code",
   "execution_count": 130,
   "metadata": {
    "id": "_h_f5P2-yZ-N"
   },
   "outputs": [],
   "source": [
    "carbonIntensity = []\n",
    "times = []"
   ]
  },
  {
   "cell_type": "code",
   "execution_count": 132,
   "metadata": {
    "id": "HNxWyf8-yZ-O"
   },
   "outputs": [],
   "source": [
    "for data_point in data:\n",
    "    carbonIntensity.append(data_point['carbonIntensity'])\n",
    "    times.append(data_point['datetime'])\n",
    "#print(carbonIntensity)\n",
    "#print(times)"
   ]
  },
  {
   "cell_type": "code",
   "execution_count": 134,
   "metadata": {
    "id": "vX6E8Kf9yZ-O"
   },
   "outputs": [],
   "source": [
    "# Convert each string to datetime object\n",
    "from datetime import date, datetime, timedelta\n",
    "times = [datetime.strptime(date_str, \"%Y-%m-%dT%H:%M:%S.%f%z\") for date_str in times]"
   ]
  },
  {
   "cell_type": "code",
   "execution_count": 136,
   "metadata": {},
   "outputs": [
    {
     "data": {
      "image/png": "[encoded data removed]",
      "text/plain": [
       "<Figure size 2000x1000 with 1 Axes>"
      ]
     },
     "metadata": {},
     "output_type": "display_data"
    }
   ],
   "source": [
    "import matplotlib\n",
    "import matplotlib.pyplot as plt \n",
    "matplotlib.rc('xtick', labelsize=15)     \n",
    "matplotlib.rc('ytick', labelsize=15)\n",
    "plt.style.use('ggplot')\n",
    "\n",
    "plt.figure(figsize=(20,10))\n",
    "plt.plot(times, carbonIntensity, 'r', linewidth=1.5, marker='.')\n",
    "plt.title(f\"Carbon Intensty\", fontsize=20)\n",
    "plt.xlabel('Hour', fontsize=20 )\n",
    "plt.ylabel('Carbon Intesnity [gCO2eq/kWh]', fontsize=20)\n",
    "plt.show()"
   ]
  },
  {
   "cell_type": "markdown",
   "metadata": {
    "id": "06Ee3tH9yZ-O"
   },
   "source": [
    "# Home Assignment 2"
   ]
  },
  {
   "cell_type": "markdown",
   "metadata": {},
   "source": [
    "#### Data Analysis and Visualization"
   ]
  },
  {
   "cell_type": "markdown",
   "metadata": {
    "id": "kTswTkBjyZ-O"
   },
   "source": [
    "This exercize is thought for improving your data analysis and data preparation skills. Look at the first part of the lab done in the class and repeat the same passages with a new \"unseen\" dataset which you dont know.\n",
    "\n",
    "In the data folder you can find the dataset: *house_price.csv*. This dataset provides data regarding the USA house market, it is a very famous dataset for data science and machine learning exercizes. In particular, for each house (observations) available in the market there are variables describing its characteristics and its price.\n",
    "\n",
    "The task is to repeat the steps done in the class lab activity, as the exploratory data analysis through univarite/bivariate analysis, and come up with a short data analysis of the given dataset. The focus of the analysis is the storytelling which should be backed with proper plots and charts.\n",
    "\n",
    "Try to pay attention to **data storytelling**. What do you think the variable price is driven by? Look for some patterns...\n",
    "\n",
    "\n",
    "\n",
    "This exercise is designed to enhance your **data analysis** and **data visualization skills**. Your task is to revisit the first part of the lab conducted in class and apply the same steps to a new, \"unseen\" dataset, which you are unfamiliar with.\n",
    "\n",
    "#### Dataset\n",
    "In the data folder, you will find the dataset: *house_price.csv*. This dataset contains information about the USA housing market. It is a well-known dataset in data science and machine learning exercises. Specifically, it provides data about various houses listed on the market, including their **characteristics** and **prices**.\n",
    "\n",
    "#### Your Task\n",
    "1. **Exploratory Data Analysis (EDA):** Repeat the steps we practiced in class, including:\n",
    "   - **Univariate analysis:** Examine individual variables to understand their distribution and properties.\n",
    "   - **Bivariate analysis:** Explore relationships between variables, especially between the features and the house price.\n",
    "\n",
    "2. **Data Storytelling:** Focus on the **storytelling aspect** of your analysis:\n",
    "   - What patterns can you observe in the data?\n",
    "   - What factors seem to drive house prices?\n",
    "   - Use meaningful insights to narrate a story supported by visualizations.\n",
    "\n",
    "3. **Visualizations:** Back up your storytelling with appropriate **plots and charts** to make your findings clear and compelling.\n",
    "\n",
    "#### Guidelines\n",
    "- Pay special attention to identifying patterns that could explain variations in house prices.\n",
    "- Present your insights in a concise and clear format.\n",
    "\n",
    "Good luck, and enjoy exploring the dataset!"
   ]
  },
  {
   "cell_type": "code",
   "execution_count": 183,
   "metadata": {
    "id": "dBmhwTJ4yZ-P"
   },
   "outputs": [],
   "source": [
    "# Set up and data loading\n",
    "# Your code here"
   ]
  },
  {
   "cell_type": "code",
   "execution_count": 184,
   "metadata": {
    "id": "ptK7Gac4yZ-P"
   },
   "outputs": [],
   "source": [
    "# Data preprocessing (if, needed)\n",
    "# Your code here"
   ]
  },
  {
   "cell_type": "code",
   "execution_count": 186,
   "metadata": {
    "id": "S8JQAxmSyZ-P"
   },
   "outputs": [],
   "source": [
    "# Univariate analysis\n",
    "# Your code here"
   ]
  },
  {
   "cell_type": "code",
   "execution_count": 187,
   "metadata": {
    "id": "FwfS8T9GyZ-P"
   },
   "outputs": [],
   "source": [
    "# Bivariate analysis\n",
    "# Your code here"
   ]
  },
  {
   "cell_type": "markdown",
   "metadata": {
    "id": "svmgv-WEyZ-Q"
   },
   "source": [
    "# Home Assignment 3"
   ]
  },
  {
   "cell_type": "markdown",
   "metadata": {},
   "source": [
    "#### Build a Web Dashboard with Streamlit (API + Advanced Data Visualization)\n",
    "This assignment is a continuation of **Part 2** of the laboratory session, which you may not have completed during class. If you didn’t finish, now is your chance to create the **web dashboard app of your dreams** using **Streamlit**!\n",
    "\n",
    "---\n",
    "\n",
    "### **Important Notes**\n",
    "1. **Evaluation**: \n",
    "   - **All home assignments** are subject to final evaluation. \n",
    "   - Ideally, your **team project work** should include a web dashboard app similar to the one discussed in this laboratory, to meet your project's visualization needs. \n",
    "     - If your team project contains a web dashboard, it will **also count as the submission for Home Assignment 3** and be evaluated for the **Data Visualization** component.\n",
    "   - If your team project does **not** include a web dashboard (highly recommended but not mandatory), you must submit this Home Assignment 3 for evaluation instead.\n",
    "\n",
    "2. **Requirements**:\n",
    "   - Use an **API** of your choice to obtain data.\n",
    "   - Design your dashboard to meet the visualization requirements of your project or your creative vision.\n",
    "   - Make full use of the tools and techniques explored in class.\n",
    "\n",
    "---\n",
    "\n",
    "### **Deliverables**\n",
    "- Submit a **link** to your web dashboard deployed in Streamlit web servers for evaluation. \n",
    "  - The dashboard should be publicly accessible to anyone with the URL.\n",
    "\n",
    "---\n",
    "\n",
    "### **Tips**\n",
    "- Be creative and think about how your dashboard can effectively present data to its intended audience.\n",
    "- Explore the possibilities with **Streamlit** and enjoy the process of building something impactful!\n"
   ]
  },
  {
   "cell_type": "code",
   "execution_count": null,
   "metadata": {},
   "outputs": [],
   "source": []
  },
  {
   "cell_type": "code",
   "execution_count": null,
   "metadata": {},
   "outputs": [],
   "source": []
  },
  {
   "cell_type": "code",
   "execution_count": null,
   "metadata": {},
   "outputs": [],
   "source": []
  },
  {
   "cell_type": "code",
   "execution_count": null,
   "metadata": {},
   "outputs": [],
   "source": []
  },
  {
   "cell_type": "code",
   "execution_count": null,
   "metadata": {},
   "outputs": [],
   "source": []
  },
  {
   "cell_type": "code",
   "execution_count": null,
   "metadata": {},
   "outputs": [],
   "source": []
  },
  {
   "cell_type": "code",
   "execution_count": null,
   "metadata": {},
   "outputs": [],
   "source": []
  },
  {
   "cell_type": "code",
   "execution_count": null,
   "metadata": {},
   "outputs": [],
   "source": []
  },
  {
   "cell_type": "code",
   "execution_count": null,
   "metadata": {},
   "outputs": [],
   "source": []
  }
 ],
 "metadata": {
  "colab": {
   "provenance": []
  },
  "kernelspec": {
   "display_name": "Python 3 (ipykernel)",
   "language": "python",
   "name": "python3"
  },
  "language_info": {
   "codemirror_mode": {
    "name": "ipython",
    "version": 3
   },
   "file_extension": ".py",
   "mimetype": "text/x-python",
   "name": "python",
   "nbconvert_exporter": "python",
   "pygments_lexer": "ipython3",
   "version": "3.12.4"
  }
 },
 "nbformat": 4,
 "nbformat_minor": 4
}
